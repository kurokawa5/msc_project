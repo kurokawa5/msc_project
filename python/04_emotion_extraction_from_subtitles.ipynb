{
  "nbformat": 4,
  "nbformat_minor": 0,
  "metadata": {
    "colab": {
      "name": "04_emotion_extraction_from_subtitles.ipynb",
      "provenance": [],
      "collapsed_sections": []
    },
    "kernelspec": {
      "display_name": "Python 3",
      "name": "python3"
    },
    "language_info": {
      "name": "python"
    }
  },
  "cells": [
    {
      "cell_type": "markdown",
      "source": [
        "Add emotion in every sentence using pre-trained BERT model"
      ],
      "metadata": {
        "id": "sb9mWCM7dtlI"
      }
    },
    {
      "cell_type": "markdown",
      "source": [
        "Reference: [44] GoEmotions Pytorch\n",
        "\n",
        "https://github.com/monologg/GoEmotions-pytorch"
      ],
      "metadata": {
        "id": "qac90e8JrBwK"
      }
    },
    {
      "cell_type": "code",
      "metadata": {
        "colab": {
          "base_uri": "https://localhost:8080/"
        },
        "id": "6uUcvxnw_AwR",
        "outputId": "3b83114b-8878-42d2-930e-99da4e4b6c1f"
      },
      "source": [
        "# Mount your Google Drive\n",
        "from google.colab import drive\n",
        "drive.mount('/content/drive')"
      ],
      "execution_count": null,
      "outputs": [
        {
          "output_type": "stream",
          "name": "stdout",
          "text": [
            "Drive already mounted at /content/drive; to attempt to forcibly remount, call drive.mount(\"/content/drive\", force_remount=True).\n"
          ]
        }
      ]
    },
    {
      "cell_type": "code",
      "metadata": {
        "id": "9uDSxNseEBY_"
      },
      "source": [
        "# Read an Excel file\n",
        "import pandas as pd\n",
        "# This must be changed by the user.\n",
        "# Please change to the target video name and emotion category\n",
        "video_name = 'video14'\n",
        "emotion_category = 'group'\n",
        "##########################################\n",
        "\n",
        "import_excel_file_location = '/content/drive/MyDrive/05_workspace/01_msc_project/data/output/03_adding_time_info/03_adding_time_information_' + video_name +'.xlsx'\n",
        "input_book = pd.ExcelFile(import_excel_file_location)\n"
      ],
      "execution_count": null,
      "outputs": []
    },
    {
      "cell_type": "code",
      "metadata": {
        "colab": {
          "base_uri": "https://localhost:8080/"
        },
        "id": "Rshuzpe0EQ2_",
        "outputId": "68b0909d-8979-444e-ce24-f262c72b6625"
      },
      "source": [
        "# Get sheet name\n",
        "input_sheet_name = input_book.sheet_names\n",
        "# Get the number of sheets\n",
        "num_sheet = len(input_sheet_name)\n",
        "\n",
        "print (\"The number of sheet:\", num_sheet)\n",
        "print (input_sheet_name)\n"
      ],
      "execution_count": null,
      "outputs": [
        {
          "output_type": "stream",
          "name": "stdout",
          "text": [
            "The number of sheet: 1\n",
            "['Sheet1']\n"
          ]
        }
      ]
    },
    {
      "cell_type": "code",
      "metadata": {
        "id": "cer6zRmOEnLF"
      },
      "source": [
        "# Read the sheet as a DataFrame\n",
        "input_sheet_df = input_book.parse(input_sheet_name[0])\n"
      ],
      "execution_count": null,
      "outputs": []
    },
    {
      "cell_type": "code",
      "metadata": {
        "colab": {
          "base_uri": "https://localhost:8080/",
          "height": 631
        },
        "id": "LixyBPo1FP9N",
        "outputId": "dc456c91-357c-4dc0-ba82-016c75698dbe"
      },
      "source": [
        "input_sheet_df.head(10)\n"
      ],
      "execution_count": null,
      "outputs": [
        {
          "output_type": "execute_result",
          "data": {
            "text/html": [
              "<div>\n",
              "<style scoped>\n",
              "    .dataframe tbody tr th:only-of-type {\n",
              "        vertical-align: middle;\n",
              "    }\n",
              "\n",
              "    .dataframe tbody tr th {\n",
              "        vertical-align: top;\n",
              "    }\n",
              "\n",
              "    .dataframe thead th {\n",
              "        text-align: right;\n",
              "    }\n",
              "</style>\n",
              "<table border=\"1\" class=\"dataframe\">\n",
              "  <thead>\n",
              "    <tr style=\"text-align: right;\">\n",
              "      <th></th>\n",
              "      <th>Unnamed: 0</th>\n",
              "      <th>Unnamed: 0.1</th>\n",
              "      <th>start</th>\n",
              "      <th>script</th>\n",
              "      <th>end</th>\n",
              "      <th>start_s</th>\n",
              "      <th>end_s</th>\n",
              "      <th>diff_s</th>\n",
              "    </tr>\n",
              "  </thead>\n",
              "  <tbody>\n",
              "    <tr>\n",
              "      <th>0</th>\n",
              "      <td>0</td>\n",
              "      <td>0</td>\n",
              "      <td>00:02:00</td>\n",
              "      <td>my name is Donna SH and my full-time job</td>\n",
              "      <td>00:05:00</td>\n",
              "      <td>2</td>\n",
              "      <td>5</td>\n",
              "      <td>3</td>\n",
              "    </tr>\n",
              "    <tr>\n",
              "      <th>1</th>\n",
              "      <td>1</td>\n",
              "      <td>1</td>\n",
              "      <td>00:05:00</td>\n",
              "      <td>is to count people's arms and us and</td>\n",
              "      <td>00:08:00</td>\n",
              "      <td>5</td>\n",
              "      <td>8</td>\n",
              "      <td>3</td>\n",
              "    </tr>\n",
              "    <tr>\n",
              "      <th>2</th>\n",
              "      <td>2</td>\n",
              "      <td>2</td>\n",
              "      <td>00:08:00</td>\n",
              "      <td>like it all started at my first day of</td>\n",
              "      <td>00:11:00</td>\n",
              "      <td>8</td>\n",
              "      <td>11</td>\n",
              "      <td>3</td>\n",
              "    </tr>\n",
              "    <tr>\n",
              "      <th>3</th>\n",
              "      <td>3</td>\n",
              "      <td>3</td>\n",
              "      <td>00:11:00</td>\n",
              "      <td>school after my family moved from</td>\n",
              "      <td>00:14:00</td>\n",
              "      <td>11</td>\n",
              "      <td>14</td>\n",
              "      <td>3</td>\n",
              "    </tr>\n",
              "    <tr>\n",
              "      <th>4</th>\n",
              "      <td>4</td>\n",
              "      <td>4</td>\n",
              "      <td>00:14:00</td>\n",
              "      <td>Pakistan to Tanzania not from milan</td>\n",
              "      <td>00:16:00</td>\n",
              "      <td>14</td>\n",
              "      <td>16</td>\n",
              "      <td>2</td>\n",
              "    </tr>\n",
              "    <tr>\n",
              "      <th>5</th>\n",
              "      <td>5</td>\n",
              "      <td>5</td>\n",
              "      <td>00:16:00</td>\n",
              "      <td>I was busy sketching my dream cars in my</td>\n",
              "      <td>00:20:00</td>\n",
              "      <td>16</td>\n",
              "      <td>20</td>\n",
              "      <td>4</td>\n",
              "    </tr>\n",
              "    <tr>\n",
              "      <th>6</th>\n",
              "      <td>6</td>\n",
              "      <td>6</td>\n",
              "      <td>00:20:00</td>\n",
              "      <td>notebook and all of a sudden I hear a</td>\n",
              "      <td>00:22:00</td>\n",
              "      <td>20</td>\n",
              "      <td>22</td>\n",
              "      <td>2</td>\n",
              "    </tr>\n",
              "    <tr>\n",
              "      <th>7</th>\n",
              "      <td>7</td>\n",
              "      <td>7</td>\n",
              "      <td>00:22:00</td>\n",
              "      <td>voice in my direction the teacher</td>\n",
              "      <td>00:25:00</td>\n",
              "      <td>22</td>\n",
              "      <td>25</td>\n",
              "      <td>3</td>\n",
              "    </tr>\n",
              "    <tr>\n",
              "      <th>8</th>\n",
              "      <td>8</td>\n",
              "      <td>8</td>\n",
              "      <td>00:25:00</td>\n",
              "      <td>Daanish can you please rise up and</td>\n",
              "      <td>00:28:00</td>\n",
              "      <td>25</td>\n",
              "      <td>28</td>\n",
              "      <td>3</td>\n",
              "    </tr>\n",
              "    <tr>\n",
              "      <th>9</th>\n",
              "      <td>9</td>\n",
              "      <td>9</td>\n",
              "      <td>00:28:00</td>\n",
              "      <td>introduce yourself she had put me on the</td>\n",
              "      <td>00:31:00</td>\n",
              "      <td>28</td>\n",
              "      <td>31</td>\n",
              "      <td>3</td>\n",
              "    </tr>\n",
              "  </tbody>\n",
              "</table>\n",
              "</div>"
            ],
            "text/plain": [
              "   Unnamed: 0  Unnamed: 0.1     start  ... start_s end_s  diff_s\n",
              "0           0             0  00:02:00  ...       2     5       3\n",
              "1           1             1  00:05:00  ...       5     8       3\n",
              "2           2             2  00:08:00  ...       8    11       3\n",
              "3           3             3  00:11:00  ...      11    14       3\n",
              "4           4             4  00:14:00  ...      14    16       2\n",
              "5           5             5  00:16:00  ...      16    20       4\n",
              "6           6             6  00:20:00  ...      20    22       2\n",
              "7           7             7  00:22:00  ...      22    25       3\n",
              "8           8             8  00:25:00  ...      25    28       3\n",
              "9           9             9  00:28:00  ...      28    31       3\n",
              "\n",
              "[10 rows x 8 columns]"
            ]
          },
          "metadata": {},
          "execution_count": 519
        }
      ]
    },
    {
      "cell_type": "code",
      "metadata": {
        "colab": {
          "base_uri": "https://localhost:8080/"
        },
        "id": "iBpxiEyDFjh8",
        "outputId": "7023b1b5-0644-49d7-a8c2-9d8d7c5d1500"
      },
      "source": [
        "script_df = input_sheet_df['script']\n",
        "len_script_df = len(script_df)\n",
        "print(len_script_df)\n"
      ],
      "execution_count": null,
      "outputs": [
        {
          "output_type": "stream",
          "name": "stdout",
          "text": [
            "167\n"
          ]
        }
      ]
    },
    {
      "cell_type": "code",
      "metadata": {
        "colab": {
          "base_uri": "https://localhost:8080/"
        },
        "id": "zek2-dHfGu3g",
        "outputId": "89c3a95d-685e-45c7-8636-9ecac4edfe13"
      },
      "source": [
        "# Setup for GoEmotions\n",
        "!pip install torch==1.4.0\n",
        "!pip install transformers==2.11.0\n",
        "!pip install attrdict==2.0.1\n"
      ],
      "execution_count": null,
      "outputs": [
        {
          "output_type": "stream",
          "name": "stdout",
          "text": [
            "Requirement already satisfied: torch==1.4.0 in /usr/local/lib/python3.7/dist-packages (1.4.0)\n",
            "Requirement already satisfied: transformers==2.11.0 in /usr/local/lib/python3.7/dist-packages (2.11.0)\n",
            "Requirement already satisfied: sacremoses in /usr/local/lib/python3.7/dist-packages (from transformers==2.11.0) (0.0.46)\n",
            "Requirement already satisfied: numpy in /usr/local/lib/python3.7/dist-packages (from transformers==2.11.0) (1.19.5)\n",
            "Requirement already satisfied: tqdm>=4.27 in /usr/local/lib/python3.7/dist-packages (from transformers==2.11.0) (4.62.3)\n",
            "Requirement already satisfied: regex!=2019.12.17 in /usr/local/lib/python3.7/dist-packages (from transformers==2.11.0) (2019.12.20)\n",
            "Requirement already satisfied: requests in /usr/local/lib/python3.7/dist-packages (from transformers==2.11.0) (2.23.0)\n",
            "Requirement already satisfied: packaging in /usr/local/lib/python3.7/dist-packages (from transformers==2.11.0) (21.2)\n",
            "Requirement already satisfied: filelock in /usr/local/lib/python3.7/dist-packages (from transformers==2.11.0) (3.3.2)\n",
            "Requirement already satisfied: tokenizers==0.7.0 in /usr/local/lib/python3.7/dist-packages (from transformers==2.11.0) (0.7.0)\n",
            "Requirement already satisfied: sentencepiece in /usr/local/lib/python3.7/dist-packages (from transformers==2.11.0) (0.1.96)\n",
            "Requirement already satisfied: pyparsing<3,>=2.0.2 in /usr/local/lib/python3.7/dist-packages (from packaging->transformers==2.11.0) (2.4.7)\n",
            "Requirement already satisfied: urllib3!=1.25.0,!=1.25.1,<1.26,>=1.21.1 in /usr/local/lib/python3.7/dist-packages (from requests->transformers==2.11.0) (1.24.3)\n",
            "Requirement already satisfied: certifi>=2017.4.17 in /usr/local/lib/python3.7/dist-packages (from requests->transformers==2.11.0) (2021.10.8)\n",
            "Requirement already satisfied: idna<3,>=2.5 in /usr/local/lib/python3.7/dist-packages (from requests->transformers==2.11.0) (2.10)\n",
            "Requirement already satisfied: chardet<4,>=3.0.2 in /usr/local/lib/python3.7/dist-packages (from requests->transformers==2.11.0) (3.0.4)\n",
            "Requirement already satisfied: joblib in /usr/local/lib/python3.7/dist-packages (from sacremoses->transformers==2.11.0) (1.1.0)\n",
            "Requirement already satisfied: six in /usr/local/lib/python3.7/dist-packages (from sacremoses->transformers==2.11.0) (1.15.0)\n",
            "Requirement already satisfied: click in /usr/local/lib/python3.7/dist-packages (from sacremoses->transformers==2.11.0) (7.1.2)\n",
            "Requirement already satisfied: attrdict==2.0.1 in /usr/local/lib/python3.7/dist-packages (2.0.1)\n",
            "Requirement already satisfied: six in /usr/local/lib/python3.7/dist-packages (from attrdict==2.0.1) (1.15.0)\n"
          ]
        }
      ]
    },
    {
      "cell_type": "code",
      "metadata": {
        "id": "sOUcfMh1JH51"
      },
      "source": [
        "# Add a path to use the module\n",
        "import sys\n",
        "sys.path.append('/content/drive/MyDrive/05_workspace/01_msc_project/GoEmotions-pytorch-master')\n"
      ],
      "execution_count": null,
      "outputs": []
    },
    {
      "cell_type": "code",
      "metadata": {
        "id": "HCHVpn1AIZ5J"
      },
      "source": [
        "# Setup for GoEmotions\n",
        "from transformers import BertTokenizer\n",
        "from model import BertForMultiLabelClassification\n",
        "from multilabel_pipeline import MultiLabelPipeline \n",
        "from pprint import pprint\n",
        "\n",
        "from typing import Union, Optional\n",
        "import numpy as np\n"
      ],
      "execution_count": null,
      "outputs": []
    },
    {
      "cell_type": "code",
      "metadata": {
        "id": "cEdMnE3fIkse"
      },
      "source": [
        "# Create an instance of the tokenizer and model for ekman categories\n",
        "if emotion_category == 'ekman':\n",
        "    tokenizer = BertTokenizer.from_pretrained(\"monologg/bert-base-cased-goemotions-ekman\")\n",
        "    model = BertForMultiLabelClassification.from_pretrained(\"monologg/bert-base-cased-goemotions-ekman\")\n",
        "elif emotion_category == 'group':\n",
        "    tokenizer = BertTokenizer.from_pretrained(\"monologg/bert-base-cased-goemotions-group\")\n",
        "    model = BertForMultiLabelClassification.from_pretrained(\"monologg/bert-base-cased-goemotions-group\")\n"
      ],
      "execution_count": null,
      "outputs": []
    },
    {
      "cell_type": "code",
      "metadata": {
        "id": "BXYFQtrpInDi"
      },
      "source": [
        "# Create a pipeline\n",
        "goemotions = MultiLabelPipeline(\n",
        "    model=model,\n",
        "    tokenizer=tokenizer,\n",
        "    threshold=0.3\n",
        ")\n"
      ],
      "execution_count": null,
      "outputs": []
    },
    {
      "cell_type": "code",
      "metadata": {
        "colab": {
          "base_uri": "https://localhost:8080/",
          "height": 719
        },
        "id": "CxC8qxFa9Q9W",
        "outputId": "22ae0df1-e268-47a6-f260-2ff886e0b94f"
      },
      "source": [
        "# Add new columns\n",
        "input_sheet_df['emotion'] = 0\n",
        "input_sheet_df['score'] = 0.0\n",
        "\n",
        "# Copy dataframe  \n",
        "emotion_df = input_sheet_df.copy()\n",
        "emotion_df.head(10)\n"
      ],
      "execution_count": null,
      "outputs": [
        {
          "output_type": "execute_result",
          "data": {
            "text/html": [
              "<div>\n",
              "<style scoped>\n",
              "    .dataframe tbody tr th:only-of-type {\n",
              "        vertical-align: middle;\n",
              "    }\n",
              "\n",
              "    .dataframe tbody tr th {\n",
              "        vertical-align: top;\n",
              "    }\n",
              "\n",
              "    .dataframe thead th {\n",
              "        text-align: right;\n",
              "    }\n",
              "</style>\n",
              "<table border=\"1\" class=\"dataframe\">\n",
              "  <thead>\n",
              "    <tr style=\"text-align: right;\">\n",
              "      <th></th>\n",
              "      <th>Unnamed: 0</th>\n",
              "      <th>Unnamed: 0.1</th>\n",
              "      <th>start</th>\n",
              "      <th>script</th>\n",
              "      <th>end</th>\n",
              "      <th>start_s</th>\n",
              "      <th>end_s</th>\n",
              "      <th>diff_s</th>\n",
              "      <th>emotion</th>\n",
              "      <th>score</th>\n",
              "    </tr>\n",
              "  </thead>\n",
              "  <tbody>\n",
              "    <tr>\n",
              "      <th>0</th>\n",
              "      <td>0</td>\n",
              "      <td>0</td>\n",
              "      <td>00:02:00</td>\n",
              "      <td>my name is Donna SH and my full-time job</td>\n",
              "      <td>00:05:00</td>\n",
              "      <td>2</td>\n",
              "      <td>5</td>\n",
              "      <td>3</td>\n",
              "      <td>0</td>\n",
              "      <td>0.0</td>\n",
              "    </tr>\n",
              "    <tr>\n",
              "      <th>1</th>\n",
              "      <td>1</td>\n",
              "      <td>1</td>\n",
              "      <td>00:05:00</td>\n",
              "      <td>is to count people's arms and us and</td>\n",
              "      <td>00:08:00</td>\n",
              "      <td>5</td>\n",
              "      <td>8</td>\n",
              "      <td>3</td>\n",
              "      <td>0</td>\n",
              "      <td>0.0</td>\n",
              "    </tr>\n",
              "    <tr>\n",
              "      <th>2</th>\n",
              "      <td>2</td>\n",
              "      <td>2</td>\n",
              "      <td>00:08:00</td>\n",
              "      <td>like it all started at my first day of</td>\n",
              "      <td>00:11:00</td>\n",
              "      <td>8</td>\n",
              "      <td>11</td>\n",
              "      <td>3</td>\n",
              "      <td>0</td>\n",
              "      <td>0.0</td>\n",
              "    </tr>\n",
              "    <tr>\n",
              "      <th>3</th>\n",
              "      <td>3</td>\n",
              "      <td>3</td>\n",
              "      <td>00:11:00</td>\n",
              "      <td>school after my family moved from</td>\n",
              "      <td>00:14:00</td>\n",
              "      <td>11</td>\n",
              "      <td>14</td>\n",
              "      <td>3</td>\n",
              "      <td>0</td>\n",
              "      <td>0.0</td>\n",
              "    </tr>\n",
              "    <tr>\n",
              "      <th>4</th>\n",
              "      <td>4</td>\n",
              "      <td>4</td>\n",
              "      <td>00:14:00</td>\n",
              "      <td>Pakistan to Tanzania not from milan</td>\n",
              "      <td>00:16:00</td>\n",
              "      <td>14</td>\n",
              "      <td>16</td>\n",
              "      <td>2</td>\n",
              "      <td>0</td>\n",
              "      <td>0.0</td>\n",
              "    </tr>\n",
              "    <tr>\n",
              "      <th>5</th>\n",
              "      <td>5</td>\n",
              "      <td>5</td>\n",
              "      <td>00:16:00</td>\n",
              "      <td>I was busy sketching my dream cars in my</td>\n",
              "      <td>00:20:00</td>\n",
              "      <td>16</td>\n",
              "      <td>20</td>\n",
              "      <td>4</td>\n",
              "      <td>0</td>\n",
              "      <td>0.0</td>\n",
              "    </tr>\n",
              "    <tr>\n",
              "      <th>6</th>\n",
              "      <td>6</td>\n",
              "      <td>6</td>\n",
              "      <td>00:20:00</td>\n",
              "      <td>notebook and all of a sudden I hear a</td>\n",
              "      <td>00:22:00</td>\n",
              "      <td>20</td>\n",
              "      <td>22</td>\n",
              "      <td>2</td>\n",
              "      <td>0</td>\n",
              "      <td>0.0</td>\n",
              "    </tr>\n",
              "    <tr>\n",
              "      <th>7</th>\n",
              "      <td>7</td>\n",
              "      <td>7</td>\n",
              "      <td>00:22:00</td>\n",
              "      <td>voice in my direction the teacher</td>\n",
              "      <td>00:25:00</td>\n",
              "      <td>22</td>\n",
              "      <td>25</td>\n",
              "      <td>3</td>\n",
              "      <td>0</td>\n",
              "      <td>0.0</td>\n",
              "    </tr>\n",
              "    <tr>\n",
              "      <th>8</th>\n",
              "      <td>8</td>\n",
              "      <td>8</td>\n",
              "      <td>00:25:00</td>\n",
              "      <td>Daanish can you please rise up and</td>\n",
              "      <td>00:28:00</td>\n",
              "      <td>25</td>\n",
              "      <td>28</td>\n",
              "      <td>3</td>\n",
              "      <td>0</td>\n",
              "      <td>0.0</td>\n",
              "    </tr>\n",
              "    <tr>\n",
              "      <th>9</th>\n",
              "      <td>9</td>\n",
              "      <td>9</td>\n",
              "      <td>00:28:00</td>\n",
              "      <td>introduce yourself she had put me on the</td>\n",
              "      <td>00:31:00</td>\n",
              "      <td>28</td>\n",
              "      <td>31</td>\n",
              "      <td>3</td>\n",
              "      <td>0</td>\n",
              "      <td>0.0</td>\n",
              "    </tr>\n",
              "  </tbody>\n",
              "</table>\n",
              "</div>"
            ],
            "text/plain": [
              "   Unnamed: 0  Unnamed: 0.1     start  ... diff_s emotion  score\n",
              "0           0             0  00:02:00  ...      3       0    0.0\n",
              "1           1             1  00:05:00  ...      3       0    0.0\n",
              "2           2             2  00:08:00  ...      3       0    0.0\n",
              "3           3             3  00:11:00  ...      3       0    0.0\n",
              "4           4             4  00:14:00  ...      2       0    0.0\n",
              "5           5             5  00:16:00  ...      4       0    0.0\n",
              "6           6             6  00:20:00  ...      2       0    0.0\n",
              "7           7             7  00:22:00  ...      3       0    0.0\n",
              "8           8             8  00:25:00  ...      3       0    0.0\n",
              "9           9             9  00:28:00  ...      3       0    0.0\n",
              "\n",
              "[10 rows x 10 columns]"
            ]
          },
          "metadata": {},
          "execution_count": 526
        }
      ]
    },
    {
      "cell_type": "code",
      "metadata": {
        "id": "Ux-tIwEgtC5U"
      },
      "source": [
        "delele_list = []\n"
      ],
      "execution_count": null,
      "outputs": []
    },
    {
      "cell_type": "code",
      "metadata": {
        "id": "xpLak8uRTlXY"
      },
      "source": [
        "# (Step1) Get emotions from text with GoEmotions\n",
        "# (Step2) If more than one emotion is obtained, the one with the highest socre is used\n",
        "# (Step3) Append the emotion and score obtained to the appropriate columns\n",
        "for s in range(len_script_df):\n",
        "    \n",
        "    result = []\n",
        "    emotions = []\n",
        "    scores = []\n",
        "    \n",
        "    result = goemotions(script_df[s])\n",
        "    \n",
        "    for list_item in result:\n",
        "        if \"scores\" in list_item:\n",
        "            scores += list_item[\"scores\"]  \n",
        "        if \"labels\" in list_item:\n",
        "            emotions += list_item[\"labels\"]\n",
        "    \n",
        "    max_score = 0\n",
        "    index = -1\n",
        "    \n",
        "    for score in scores:\n",
        "        if score > max_score:\n",
        "            #print(score)\n",
        "            max_score = score\n",
        "            index += 1\n",
        "    #print(s)\n",
        "    if not emotions:\n",
        "        delele_list.append(s)\n",
        "        continue\n",
        "    #print(emotions[index])\n",
        "    #print(scores[index])\n",
        "    emotion_df.loc[s,\"emotion\"] = emotions[index]\n",
        "    emotion_df.loc[s,\"score\"] = scores[index]\n",
        "   "
      ],
      "execution_count": null,
      "outputs": []
    },
    {
      "cell_type": "code",
      "metadata": {
        "colab": {
          "base_uri": "https://localhost:8080/"
        },
        "id": "3N8oRtJMteOr",
        "outputId": "6820adcf-78a8-46e3-804b-3db9e3730481"
      },
      "source": [
        "delele_list"
      ],
      "execution_count": null,
      "outputs": [
        {
          "output_type": "execute_result",
          "data": {
            "text/plain": [
              "[]"
            ]
          },
          "metadata": {},
          "execution_count": 529
        }
      ]
    },
    {
      "cell_type": "code",
      "metadata": {
        "colab": {
          "base_uri": "https://localhost:8080/",
          "height": 394
        },
        "id": "67sNcyk4tG0N",
        "outputId": "3e3f14d8-cb5d-46ce-de4c-ad918a7b65f4"
      },
      "source": [
        "#delele_list\n",
        "emotion_df = emotion_df.drop(delele_list, axis=0)\n",
        "emotion_df.head()\n"
      ],
      "execution_count": null,
      "outputs": [
        {
          "output_type": "execute_result",
          "data": {
            "text/html": [
              "<div>\n",
              "<style scoped>\n",
              "    .dataframe tbody tr th:only-of-type {\n",
              "        vertical-align: middle;\n",
              "    }\n",
              "\n",
              "    .dataframe tbody tr th {\n",
              "        vertical-align: top;\n",
              "    }\n",
              "\n",
              "    .dataframe thead th {\n",
              "        text-align: right;\n",
              "    }\n",
              "</style>\n",
              "<table border=\"1\" class=\"dataframe\">\n",
              "  <thead>\n",
              "    <tr style=\"text-align: right;\">\n",
              "      <th></th>\n",
              "      <th>Unnamed: 0</th>\n",
              "      <th>Unnamed: 0.1</th>\n",
              "      <th>start</th>\n",
              "      <th>script</th>\n",
              "      <th>end</th>\n",
              "      <th>start_s</th>\n",
              "      <th>end_s</th>\n",
              "      <th>diff_s</th>\n",
              "      <th>emotion</th>\n",
              "      <th>score</th>\n",
              "    </tr>\n",
              "  </thead>\n",
              "  <tbody>\n",
              "    <tr>\n",
              "      <th>0</th>\n",
              "      <td>0</td>\n",
              "      <td>0</td>\n",
              "      <td>00:02:00</td>\n",
              "      <td>my name is Donna SH and my full-time job</td>\n",
              "      <td>00:05:00</td>\n",
              "      <td>2</td>\n",
              "      <td>5</td>\n",
              "      <td>3</td>\n",
              "      <td>neutral</td>\n",
              "      <td>0.999663</td>\n",
              "    </tr>\n",
              "    <tr>\n",
              "      <th>1</th>\n",
              "      <td>1</td>\n",
              "      <td>1</td>\n",
              "      <td>00:05:00</td>\n",
              "      <td>is to count people's arms and us and</td>\n",
              "      <td>00:08:00</td>\n",
              "      <td>5</td>\n",
              "      <td>8</td>\n",
              "      <td>3</td>\n",
              "      <td>neutral</td>\n",
              "      <td>0.999567</td>\n",
              "    </tr>\n",
              "    <tr>\n",
              "      <th>2</th>\n",
              "      <td>2</td>\n",
              "      <td>2</td>\n",
              "      <td>00:08:00</td>\n",
              "      <td>like it all started at my first day of</td>\n",
              "      <td>00:11:00</td>\n",
              "      <td>8</td>\n",
              "      <td>11</td>\n",
              "      <td>3</td>\n",
              "      <td>neutral</td>\n",
              "      <td>0.999066</td>\n",
              "    </tr>\n",
              "    <tr>\n",
              "      <th>3</th>\n",
              "      <td>3</td>\n",
              "      <td>3</td>\n",
              "      <td>00:11:00</td>\n",
              "      <td>school after my family moved from</td>\n",
              "      <td>00:14:00</td>\n",
              "      <td>11</td>\n",
              "      <td>14</td>\n",
              "      <td>3</td>\n",
              "      <td>neutral</td>\n",
              "      <td>0.998456</td>\n",
              "    </tr>\n",
              "    <tr>\n",
              "      <th>4</th>\n",
              "      <td>4</td>\n",
              "      <td>4</td>\n",
              "      <td>00:14:00</td>\n",
              "      <td>Pakistan to Tanzania not from milan</td>\n",
              "      <td>00:16:00</td>\n",
              "      <td>14</td>\n",
              "      <td>16</td>\n",
              "      <td>2</td>\n",
              "      <td>neutral</td>\n",
              "      <td>0.999349</td>\n",
              "    </tr>\n",
              "  </tbody>\n",
              "</table>\n",
              "</div>"
            ],
            "text/plain": [
              "   Unnamed: 0  Unnamed: 0.1     start  ... diff_s  emotion     score\n",
              "0           0             0  00:02:00  ...      3  neutral  0.999663\n",
              "1           1             1  00:05:00  ...      3  neutral  0.999567\n",
              "2           2             2  00:08:00  ...      3  neutral  0.999066\n",
              "3           3             3  00:11:00  ...      3  neutral  0.998456\n",
              "4           4             4  00:14:00  ...      2  neutral  0.999349\n",
              "\n",
              "[5 rows x 10 columns]"
            ]
          },
          "metadata": {},
          "execution_count": 530
        }
      ]
    },
    {
      "cell_type": "code",
      "metadata": {
        "colab": {
          "base_uri": "https://localhost:8080/"
        },
        "id": "2w49BV4e7YAk",
        "outputId": "aadfb2d1-2fb1-41f7-fcb8-aa2caf55934e"
      },
      "source": [
        "# Setup for exporting to Excel\n",
        "!pip install -U openpyxl\n",
        "!pip install -U xlwt\n",
        "#!pip install -U pandas\n"
      ],
      "execution_count": null,
      "outputs": [
        {
          "output_type": "stream",
          "name": "stdout",
          "text": [
            "Requirement already satisfied: openpyxl in /usr/local/lib/python3.7/dist-packages (3.0.9)\n",
            "Requirement already satisfied: et-xmlfile in /usr/local/lib/python3.7/dist-packages (from openpyxl) (1.1.0)\n",
            "Requirement already satisfied: xlwt in /usr/local/lib/python3.7/dist-packages (1.3.0)\n"
          ]
        }
      ]
    },
    {
      "cell_type": "code",
      "metadata": {
        "id": "TWd3xvyp4u-T"
      },
      "source": [
        "# Export an excel file\n",
        "import pandas as pd\n",
        "\n",
        "export_excel_file_location = '/content/drive/MyDrive/05_workspace/01_msc_project/data/output/04_emotion_extraction_from_subtitles/' + emotion_category + '/04_emotion_extraction_' + video_name +'.xlsx'\n",
        "emotion_df.to_excel(export_excel_file_location)\n"
      ],
      "execution_count": null,
      "outputs": []
    },
    {
      "cell_type": "code",
      "metadata": {
        "colab": {
          "base_uri": "https://localhost:8080/"
        },
        "id": "KDQbAT3FE5zJ",
        "outputId": "660f6c6f-3f8d-442e-d55f-b814853efb9f"
      },
      "source": [
        "# Counting for each emotional category\n",
        "vc = emotion_df['emotion'].value_counts()\n",
        "print(vc[:])\n"
      ],
      "execution_count": null,
      "outputs": [
        {
          "output_type": "stream",
          "name": "stdout",
          "text": [
            "neutral      134\n",
            "positive      16\n",
            "negative      12\n",
            "ambiguous      5\n",
            "Name: emotion, dtype: int64\n"
          ]
        }
      ]
    },
    {
      "cell_type": "code",
      "metadata": {
        "id": "FUoi__7CKAtI"
      },
      "source": [
        ""
      ],
      "execution_count": null,
      "outputs": []
    }
  ]
}