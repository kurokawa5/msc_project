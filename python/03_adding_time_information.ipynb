{
  "nbformat": 4,
  "nbformat_minor": 0,
  "metadata": {
    "colab": {
      "name": "03_adding_time_information.ipynb",
      "provenance": [],
      "collapsed_sections": []
    },
    "kernelspec": {
      "name": "python3",
      "display_name": "Python 3"
    },
    "language_info": {
      "name": "python"
    }
  },
  "cells": [
    {
      "cell_type": "markdown",
      "source": [
        "Calculate the end time and the difference (end time - start time) of the sentence"
      ],
      "metadata": {
        "id": "ZtCodaRIcJAm"
      }
    },
    {
      "cell_type": "code",
      "metadata": {
        "colab": {
          "base_uri": "https://localhost:8080/"
        },
        "id": "W48Kj2u_Zhn2",
        "outputId": "3fb5a59d-90ef-4768-de8c-731dbde12fb6"
      },
      "source": [
        "# Mount your Google Drive\n",
        "from google.colab import drive\n",
        "drive.mount('/content/drive')"
      ],
      "execution_count": null,
      "outputs": [
        {
          "output_type": "stream",
          "name": "stdout",
          "text": [
            "Drive already mounted at /content/drive; to attempt to forcibly remount, call drive.mount(\"/content/drive\", force_remount=True).\n"
          ]
        }
      ]
    },
    {
      "cell_type": "code",
      "metadata": {
        "id": "78DeKQKyaQB-"
      },
      "source": [
        "# Read an Excel file\n",
        "import pandas as pd\n",
        "# This must be changed by the user.\n",
        "# Please change to the target video name and file path\n",
        "video_name = 'video14'\n",
        "##########################################\n",
        "\n",
        "import_excel_file_location = '/content/drive/MyDrive/05_workspace/01_msc_project/data/output/02_organized_excel/02_organized_excel_' + video_name +'.xlsx'\n",
        "input_book = pd.ExcelFile(import_excel_file_location)\n"
      ],
      "execution_count": null,
      "outputs": []
    },
    {
      "cell_type": "code",
      "metadata": {
        "colab": {
          "base_uri": "https://localhost:8080/"
        },
        "id": "1UL-bimLaa2O",
        "outputId": "baadbe1b-7819-4850-bacd-937b99a7b21f"
      },
      "source": [
        "# Get sheet name\n",
        "input_sheet_name = input_book.sheet_names\n",
        "# Get the number of sheets\n",
        "num_sheet = len(input_sheet_name)\n",
        "\n",
        "print (\"The number of sheet:\", num_sheet)\n",
        "print (input_sheet_name)\n"
      ],
      "execution_count": null,
      "outputs": [
        {
          "output_type": "stream",
          "name": "stdout",
          "text": [
            "The number of sheet: 1\n",
            "['Sheet1']\n"
          ]
        }
      ]
    },
    {
      "cell_type": "code",
      "metadata": {
        "colab": {
          "base_uri": "https://localhost:8080/",
          "height": 359
        },
        "id": "S5tBGhTzacpa",
        "outputId": "ab64a28c-7e4e-4b05-b3f6-2beee2561db8"
      },
      "source": [
        "# Read the sheet as a DataFrame\n",
        "input_sheet_df = input_book.parse(input_sheet_name[0])\n",
        "input_sheet_df.head(10)\n"
      ],
      "execution_count": null,
      "outputs": [
        {
          "output_type": "execute_result",
          "data": {
            "text/html": [
              "<div>\n",
              "<style scoped>\n",
              "    .dataframe tbody tr th:only-of-type {\n",
              "        vertical-align: middle;\n",
              "    }\n",
              "\n",
              "    .dataframe tbody tr th {\n",
              "        vertical-align: top;\n",
              "    }\n",
              "\n",
              "    .dataframe thead th {\n",
              "        text-align: right;\n",
              "    }\n",
              "</style>\n",
              "<table border=\"1\" class=\"dataframe\">\n",
              "  <thead>\n",
              "    <tr style=\"text-align: right;\">\n",
              "      <th></th>\n",
              "      <th>Unnamed: 0</th>\n",
              "      <th>start</th>\n",
              "      <th>script</th>\n",
              "    </tr>\n",
              "  </thead>\n",
              "  <tbody>\n",
              "    <tr>\n",
              "      <th>0</th>\n",
              "      <td>0</td>\n",
              "      <td>00:02:00</td>\n",
              "      <td>my name is Donna SH and my full-time job</td>\n",
              "    </tr>\n",
              "    <tr>\n",
              "      <th>1</th>\n",
              "      <td>1</td>\n",
              "      <td>00:05:00</td>\n",
              "      <td>is to count people's arms and us and</td>\n",
              "    </tr>\n",
              "    <tr>\n",
              "      <th>2</th>\n",
              "      <td>2</td>\n",
              "      <td>00:08:00</td>\n",
              "      <td>like it all started at my first day of</td>\n",
              "    </tr>\n",
              "    <tr>\n",
              "      <th>3</th>\n",
              "      <td>3</td>\n",
              "      <td>00:11:00</td>\n",
              "      <td>school after my family moved from</td>\n",
              "    </tr>\n",
              "    <tr>\n",
              "      <th>4</th>\n",
              "      <td>4</td>\n",
              "      <td>00:14:00</td>\n",
              "      <td>Pakistan to Tanzania not from milan</td>\n",
              "    </tr>\n",
              "    <tr>\n",
              "      <th>5</th>\n",
              "      <td>5</td>\n",
              "      <td>00:16:00</td>\n",
              "      <td>I was busy sketching my dream cars in my</td>\n",
              "    </tr>\n",
              "    <tr>\n",
              "      <th>6</th>\n",
              "      <td>6</td>\n",
              "      <td>00:20:00</td>\n",
              "      <td>notebook and all of a sudden I hear a</td>\n",
              "    </tr>\n",
              "    <tr>\n",
              "      <th>7</th>\n",
              "      <td>7</td>\n",
              "      <td>00:22:00</td>\n",
              "      <td>voice in my direction the teacher</td>\n",
              "    </tr>\n",
              "    <tr>\n",
              "      <th>8</th>\n",
              "      <td>8</td>\n",
              "      <td>00:25:00</td>\n",
              "      <td>Daanish can you please rise up and</td>\n",
              "    </tr>\n",
              "    <tr>\n",
              "      <th>9</th>\n",
              "      <td>9</td>\n",
              "      <td>00:28:00</td>\n",
              "      <td>introduce yourself she had put me on the</td>\n",
              "    </tr>\n",
              "  </tbody>\n",
              "</table>\n",
              "</div>"
            ],
            "text/plain": [
              "   Unnamed: 0     start                                    script\n",
              "0           0  00:02:00  my name is Donna SH and my full-time job\n",
              "1           1  00:05:00      is to count people's arms and us and\n",
              "2           2  00:08:00    like it all started at my first day of\n",
              "3           3  00:11:00         school after my family moved from\n",
              "4           4  00:14:00       Pakistan to Tanzania not from milan\n",
              "5           5  00:16:00  I was busy sketching my dream cars in my\n",
              "6           6  00:20:00     notebook and all of a sudden I hear a\n",
              "7           7  00:22:00         voice in my direction the teacher\n",
              "8           8  00:25:00        Daanish can you please rise up and\n",
              "9           9  00:28:00  introduce yourself she had put me on the"
            ]
          },
          "metadata": {},
          "execution_count": 173
        }
      ]
    },
    {
      "cell_type": "code",
      "metadata": {
        "id": "Q6zPWMpYaf3w"
      },
      "source": [
        "# Copy original sheet to new sheet\n",
        "time_info_df = input_sheet_df.copy()\n",
        "length = len(time_info_df)\n",
        "#print(length)\n",
        "#->405\n",
        "\n",
        "# Add new columns\n",
        "time_info_df['end'] = 0.0\n",
        "time_info_df['start_s'] = 0.0\n",
        "time_info_df['end_s'] = 0.0\n",
        "time_info_df['diff_s'] = 0.0\n"
      ],
      "execution_count": null,
      "outputs": []
    },
    {
      "cell_type": "code",
      "metadata": {
        "colab": {
          "base_uri": "https://localhost:8080/",
          "height": 204
        },
        "id": "Uso-_vWDh_iT",
        "outputId": "23277bc2-6122-4a41-b895-78cd05b49ccc"
      },
      "source": [
        "# Let's check the data frame\n",
        "time_info_df.head()\n"
      ],
      "execution_count": null,
      "outputs": [
        {
          "output_type": "execute_result",
          "data": {
            "text/html": [
              "<div>\n",
              "<style scoped>\n",
              "    .dataframe tbody tr th:only-of-type {\n",
              "        vertical-align: middle;\n",
              "    }\n",
              "\n",
              "    .dataframe tbody tr th {\n",
              "        vertical-align: top;\n",
              "    }\n",
              "\n",
              "    .dataframe thead th {\n",
              "        text-align: right;\n",
              "    }\n",
              "</style>\n",
              "<table border=\"1\" class=\"dataframe\">\n",
              "  <thead>\n",
              "    <tr style=\"text-align: right;\">\n",
              "      <th></th>\n",
              "      <th>Unnamed: 0</th>\n",
              "      <th>start</th>\n",
              "      <th>script</th>\n",
              "      <th>end</th>\n",
              "      <th>start_s</th>\n",
              "      <th>end_s</th>\n",
              "      <th>diff_s</th>\n",
              "    </tr>\n",
              "  </thead>\n",
              "  <tbody>\n",
              "    <tr>\n",
              "      <th>0</th>\n",
              "      <td>0</td>\n",
              "      <td>00:02:00</td>\n",
              "      <td>my name is Donna SH and my full-time job</td>\n",
              "      <td>0.0</td>\n",
              "      <td>0.0</td>\n",
              "      <td>0.0</td>\n",
              "      <td>0.0</td>\n",
              "    </tr>\n",
              "    <tr>\n",
              "      <th>1</th>\n",
              "      <td>1</td>\n",
              "      <td>00:05:00</td>\n",
              "      <td>is to count people's arms and us and</td>\n",
              "      <td>0.0</td>\n",
              "      <td>0.0</td>\n",
              "      <td>0.0</td>\n",
              "      <td>0.0</td>\n",
              "    </tr>\n",
              "    <tr>\n",
              "      <th>2</th>\n",
              "      <td>2</td>\n",
              "      <td>00:08:00</td>\n",
              "      <td>like it all started at my first day of</td>\n",
              "      <td>0.0</td>\n",
              "      <td>0.0</td>\n",
              "      <td>0.0</td>\n",
              "      <td>0.0</td>\n",
              "    </tr>\n",
              "    <tr>\n",
              "      <th>3</th>\n",
              "      <td>3</td>\n",
              "      <td>00:11:00</td>\n",
              "      <td>school after my family moved from</td>\n",
              "      <td>0.0</td>\n",
              "      <td>0.0</td>\n",
              "      <td>0.0</td>\n",
              "      <td>0.0</td>\n",
              "    </tr>\n",
              "    <tr>\n",
              "      <th>4</th>\n",
              "      <td>4</td>\n",
              "      <td>00:14:00</td>\n",
              "      <td>Pakistan to Tanzania not from milan</td>\n",
              "      <td>0.0</td>\n",
              "      <td>0.0</td>\n",
              "      <td>0.0</td>\n",
              "      <td>0.0</td>\n",
              "    </tr>\n",
              "  </tbody>\n",
              "</table>\n",
              "</div>"
            ],
            "text/plain": [
              "   Unnamed: 0     start  ... end_s  diff_s\n",
              "0           0  00:02:00  ...   0.0     0.0\n",
              "1           1  00:05:00  ...   0.0     0.0\n",
              "2           2  00:08:00  ...   0.0     0.0\n",
              "3           3  00:11:00  ...   0.0     0.0\n",
              "4           4  00:14:00  ...   0.0     0.0\n",
              "\n",
              "[5 rows x 7 columns]"
            ]
          },
          "metadata": {},
          "execution_count": 175
        }
      ]
    },
    {
      "cell_type": "code",
      "metadata": {
        "id": "Kei37Aa1bG4V"
      },
      "source": [
        "# Set the end time from the previous start time\n",
        "for i in range(length):\n",
        "    #print(i)\n",
        "    if length - 1 > i:\n",
        "        next_start_time = time_info_df['start'][i+1]\n",
        "    elif length == i:\n",
        "        next_start_time = time_info_df['start'][i]+1\n",
        "    \n",
        "    time_info_df.loc[i,'end'] = str(next_start_time)\n",
        "    "
      ],
      "execution_count": null,
      "outputs": []
    },
    {
      "cell_type": "code",
      "metadata": {
        "colab": {
          "base_uri": "https://localhost:8080/",
          "height": 204
        },
        "id": "9xhe7qP3ji9r",
        "outputId": "c6f0cc64-7cec-492b-ef02-8f53737082ec"
      },
      "source": [
        "# Let's check the data frame\n",
        "time_info_df.head()\n"
      ],
      "execution_count": null,
      "outputs": [
        {
          "output_type": "execute_result",
          "data": {
            "text/html": [
              "<div>\n",
              "<style scoped>\n",
              "    .dataframe tbody tr th:only-of-type {\n",
              "        vertical-align: middle;\n",
              "    }\n",
              "\n",
              "    .dataframe tbody tr th {\n",
              "        vertical-align: top;\n",
              "    }\n",
              "\n",
              "    .dataframe thead th {\n",
              "        text-align: right;\n",
              "    }\n",
              "</style>\n",
              "<table border=\"1\" class=\"dataframe\">\n",
              "  <thead>\n",
              "    <tr style=\"text-align: right;\">\n",
              "      <th></th>\n",
              "      <th>Unnamed: 0</th>\n",
              "      <th>start</th>\n",
              "      <th>script</th>\n",
              "      <th>end</th>\n",
              "      <th>start_s</th>\n",
              "      <th>end_s</th>\n",
              "      <th>diff_s</th>\n",
              "    </tr>\n",
              "  </thead>\n",
              "  <tbody>\n",
              "    <tr>\n",
              "      <th>0</th>\n",
              "      <td>0</td>\n",
              "      <td>00:02:00</td>\n",
              "      <td>my name is Donna SH and my full-time job</td>\n",
              "      <td>00:05:00</td>\n",
              "      <td>0.0</td>\n",
              "      <td>0.0</td>\n",
              "      <td>0.0</td>\n",
              "    </tr>\n",
              "    <tr>\n",
              "      <th>1</th>\n",
              "      <td>1</td>\n",
              "      <td>00:05:00</td>\n",
              "      <td>is to count people's arms and us and</td>\n",
              "      <td>00:08:00</td>\n",
              "      <td>0.0</td>\n",
              "      <td>0.0</td>\n",
              "      <td>0.0</td>\n",
              "    </tr>\n",
              "    <tr>\n",
              "      <th>2</th>\n",
              "      <td>2</td>\n",
              "      <td>00:08:00</td>\n",
              "      <td>like it all started at my first day of</td>\n",
              "      <td>00:11:00</td>\n",
              "      <td>0.0</td>\n",
              "      <td>0.0</td>\n",
              "      <td>0.0</td>\n",
              "    </tr>\n",
              "    <tr>\n",
              "      <th>3</th>\n",
              "      <td>3</td>\n",
              "      <td>00:11:00</td>\n",
              "      <td>school after my family moved from</td>\n",
              "      <td>00:14:00</td>\n",
              "      <td>0.0</td>\n",
              "      <td>0.0</td>\n",
              "      <td>0.0</td>\n",
              "    </tr>\n",
              "    <tr>\n",
              "      <th>4</th>\n",
              "      <td>4</td>\n",
              "      <td>00:14:00</td>\n",
              "      <td>Pakistan to Tanzania not from milan</td>\n",
              "      <td>00:16:00</td>\n",
              "      <td>0.0</td>\n",
              "      <td>0.0</td>\n",
              "      <td>0.0</td>\n",
              "    </tr>\n",
              "  </tbody>\n",
              "</table>\n",
              "</div>"
            ],
            "text/plain": [
              "   Unnamed: 0     start  ... end_s diff_s\n",
              "0           0  00:02:00  ...   0.0    0.0\n",
              "1           1  00:05:00  ...   0.0    0.0\n",
              "2           2  00:08:00  ...   0.0    0.0\n",
              "3           3  00:11:00  ...   0.0    0.0\n",
              "4           4  00:14:00  ...   0.0    0.0\n",
              "\n",
              "[5 rows x 7 columns]"
            ]
          },
          "metadata": {},
          "execution_count": 177
        }
      ]
    },
    {
      "cell_type": "code",
      "metadata": {
        "id": "e80G92jVgmnb"
      },
      "source": [
        "# Express all times in seconds\n",
        "time_info_df['start_s'] = [ int(a) * 60 + int(b) + int(c) / 1000 for a, b, c in time_info_df['start'].astype(str).str.split(':')]\n",
        "time_info_df['end_s'] = [ int(a) * 60 + int(b) + int(c) / 1000 for a, b, c in time_info_df['end'].astype(str).str.split(':')]\n"
      ],
      "execution_count": null,
      "outputs": []
    },
    {
      "cell_type": "code",
      "metadata": {
        "colab": {
          "base_uri": "https://localhost:8080/",
          "height": 204
        },
        "id": "PyMPbeMJmWqq",
        "outputId": "0162a610-07ad-45a9-a07b-c8266753de3b"
      },
      "source": [
        "# Let's check the data frame\n",
        "time_info_df.head()\n"
      ],
      "execution_count": null,
      "outputs": [
        {
          "output_type": "execute_result",
          "data": {
            "text/html": [
              "<div>\n",
              "<style scoped>\n",
              "    .dataframe tbody tr th:only-of-type {\n",
              "        vertical-align: middle;\n",
              "    }\n",
              "\n",
              "    .dataframe tbody tr th {\n",
              "        vertical-align: top;\n",
              "    }\n",
              "\n",
              "    .dataframe thead th {\n",
              "        text-align: right;\n",
              "    }\n",
              "</style>\n",
              "<table border=\"1\" class=\"dataframe\">\n",
              "  <thead>\n",
              "    <tr style=\"text-align: right;\">\n",
              "      <th></th>\n",
              "      <th>Unnamed: 0</th>\n",
              "      <th>start</th>\n",
              "      <th>script</th>\n",
              "      <th>end</th>\n",
              "      <th>start_s</th>\n",
              "      <th>end_s</th>\n",
              "      <th>diff_s</th>\n",
              "    </tr>\n",
              "  </thead>\n",
              "  <tbody>\n",
              "    <tr>\n",
              "      <th>0</th>\n",
              "      <td>0</td>\n",
              "      <td>00:02:00</td>\n",
              "      <td>my name is Donna SH and my full-time job</td>\n",
              "      <td>00:05:00</td>\n",
              "      <td>2.0</td>\n",
              "      <td>5.0</td>\n",
              "      <td>0.0</td>\n",
              "    </tr>\n",
              "    <tr>\n",
              "      <th>1</th>\n",
              "      <td>1</td>\n",
              "      <td>00:05:00</td>\n",
              "      <td>is to count people's arms and us and</td>\n",
              "      <td>00:08:00</td>\n",
              "      <td>5.0</td>\n",
              "      <td>8.0</td>\n",
              "      <td>0.0</td>\n",
              "    </tr>\n",
              "    <tr>\n",
              "      <th>2</th>\n",
              "      <td>2</td>\n",
              "      <td>00:08:00</td>\n",
              "      <td>like it all started at my first day of</td>\n",
              "      <td>00:11:00</td>\n",
              "      <td>8.0</td>\n",
              "      <td>11.0</td>\n",
              "      <td>0.0</td>\n",
              "    </tr>\n",
              "    <tr>\n",
              "      <th>3</th>\n",
              "      <td>3</td>\n",
              "      <td>00:11:00</td>\n",
              "      <td>school after my family moved from</td>\n",
              "      <td>00:14:00</td>\n",
              "      <td>11.0</td>\n",
              "      <td>14.0</td>\n",
              "      <td>0.0</td>\n",
              "    </tr>\n",
              "    <tr>\n",
              "      <th>4</th>\n",
              "      <td>4</td>\n",
              "      <td>00:14:00</td>\n",
              "      <td>Pakistan to Tanzania not from milan</td>\n",
              "      <td>00:16:00</td>\n",
              "      <td>14.0</td>\n",
              "      <td>16.0</td>\n",
              "      <td>0.0</td>\n",
              "    </tr>\n",
              "  </tbody>\n",
              "</table>\n",
              "</div>"
            ],
            "text/plain": [
              "   Unnamed: 0     start  ... end_s diff_s\n",
              "0           0  00:02:00  ...   5.0    0.0\n",
              "1           1  00:05:00  ...   8.0    0.0\n",
              "2           2  00:08:00  ...  11.0    0.0\n",
              "3           3  00:11:00  ...  14.0    0.0\n",
              "4           4  00:14:00  ...  16.0    0.0\n",
              "\n",
              "[5 rows x 7 columns]"
            ]
          },
          "metadata": {},
          "execution_count": 179
        }
      ]
    },
    {
      "cell_type": "code",
      "metadata": {
        "id": "3Gn1s_87m4Gm"
      },
      "source": [
        "# get the difference from the end time and the start time\n",
        "for i in range(length):\n",
        "    diff = time_info_df['end_s'][i] - time_info_df['start_s'][i]\n",
        "    time_info_df.loc[i, 'diff_s'] = diff\n",
        "    "
      ],
      "execution_count": null,
      "outputs": []
    },
    {
      "cell_type": "code",
      "metadata": {
        "colab": {
          "base_uri": "https://localhost:8080/",
          "height": 204
        },
        "id": "RwGO1Bv4nSXS",
        "outputId": "3fcf84ca-8ee1-4308-da66-d0d862632000"
      },
      "source": [
        "# Let's check the data frame\n",
        "time_info_df.head()\n"
      ],
      "execution_count": null,
      "outputs": [
        {
          "output_type": "execute_result",
          "data": {
            "text/html": [
              "<div>\n",
              "<style scoped>\n",
              "    .dataframe tbody tr th:only-of-type {\n",
              "        vertical-align: middle;\n",
              "    }\n",
              "\n",
              "    .dataframe tbody tr th {\n",
              "        vertical-align: top;\n",
              "    }\n",
              "\n",
              "    .dataframe thead th {\n",
              "        text-align: right;\n",
              "    }\n",
              "</style>\n",
              "<table border=\"1\" class=\"dataframe\">\n",
              "  <thead>\n",
              "    <tr style=\"text-align: right;\">\n",
              "      <th></th>\n",
              "      <th>Unnamed: 0</th>\n",
              "      <th>start</th>\n",
              "      <th>script</th>\n",
              "      <th>end</th>\n",
              "      <th>start_s</th>\n",
              "      <th>end_s</th>\n",
              "      <th>diff_s</th>\n",
              "    </tr>\n",
              "  </thead>\n",
              "  <tbody>\n",
              "    <tr>\n",
              "      <th>0</th>\n",
              "      <td>0</td>\n",
              "      <td>00:02:00</td>\n",
              "      <td>my name is Donna SH and my full-time job</td>\n",
              "      <td>00:05:00</td>\n",
              "      <td>2.0</td>\n",
              "      <td>5.0</td>\n",
              "      <td>3.0</td>\n",
              "    </tr>\n",
              "    <tr>\n",
              "      <th>1</th>\n",
              "      <td>1</td>\n",
              "      <td>00:05:00</td>\n",
              "      <td>is to count people's arms and us and</td>\n",
              "      <td>00:08:00</td>\n",
              "      <td>5.0</td>\n",
              "      <td>8.0</td>\n",
              "      <td>3.0</td>\n",
              "    </tr>\n",
              "    <tr>\n",
              "      <th>2</th>\n",
              "      <td>2</td>\n",
              "      <td>00:08:00</td>\n",
              "      <td>like it all started at my first day of</td>\n",
              "      <td>00:11:00</td>\n",
              "      <td>8.0</td>\n",
              "      <td>11.0</td>\n",
              "      <td>3.0</td>\n",
              "    </tr>\n",
              "    <tr>\n",
              "      <th>3</th>\n",
              "      <td>3</td>\n",
              "      <td>00:11:00</td>\n",
              "      <td>school after my family moved from</td>\n",
              "      <td>00:14:00</td>\n",
              "      <td>11.0</td>\n",
              "      <td>14.0</td>\n",
              "      <td>3.0</td>\n",
              "    </tr>\n",
              "    <tr>\n",
              "      <th>4</th>\n",
              "      <td>4</td>\n",
              "      <td>00:14:00</td>\n",
              "      <td>Pakistan to Tanzania not from milan</td>\n",
              "      <td>00:16:00</td>\n",
              "      <td>14.0</td>\n",
              "      <td>16.0</td>\n",
              "      <td>2.0</td>\n",
              "    </tr>\n",
              "  </tbody>\n",
              "</table>\n",
              "</div>"
            ],
            "text/plain": [
              "   Unnamed: 0     start  ... end_s diff_s\n",
              "0           0  00:02:00  ...   5.0    3.0\n",
              "1           1  00:05:00  ...   8.0    3.0\n",
              "2           2  00:08:00  ...  11.0    3.0\n",
              "3           3  00:11:00  ...  14.0    3.0\n",
              "4           4  00:14:00  ...  16.0    2.0\n",
              "\n",
              "[5 rows x 7 columns]"
            ]
          },
          "metadata": {},
          "execution_count": 181
        }
      ]
    },
    {
      "cell_type": "code",
      "metadata": {
        "id": "ktB8SdtHfKCG"
      },
      "source": [
        "# Export an excel file\n",
        "import pandas as pd\n",
        "\n",
        "export_excel_file_location = '/content/drive/MyDrive/05_workspace/01_msc_project/data/output/03_adding_time_info/03_adding_time_information_' + video_name +'.xlsx'\n",
        "time_info_df.to_excel(export_excel_file_location)\n"
      ],
      "execution_count": null,
      "outputs": []
    },
    {
      "cell_type": "code",
      "metadata": {
        "id": "0WO8Xo2Zp5ix"
      },
      "source": [
        ""
      ],
      "execution_count": null,
      "outputs": []
    }
  ]
}