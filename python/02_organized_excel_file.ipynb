{
  "nbformat": 4,
  "nbformat_minor": 0,
  "metadata": {
    "colab": {
      "name": "02_organized_excel_file.ipynb",
      "provenance": [],
      "collapsed_sections": []
    },
    "kernelspec": {
      "name": "python3",
      "display_name": "Python 3"
    },
    "language_info": {
      "name": "python"
    }
  },
  "cells": [
    {
      "cell_type": "markdown",
      "source": [
        "Organise start times and sentences on one line in excel file"
      ],
      "metadata": {
        "id": "0oJ9vm4jZZBe"
      }
    },
    {
      "cell_type": "code",
      "metadata": {
        "colab": {
          "base_uri": "https://localhost:8080/"
        },
        "id": "Yo0okfxhBG3V",
        "outputId": "e210ddc6-e74a-471b-a694-2b9478cb2c0f"
      },
      "source": [
        "# Mount your Google Drive\n",
        "from google.colab import drive\n",
        "drive.mount('/content/drive')"
      ],
      "execution_count": null,
      "outputs": [
        {
          "output_type": "stream",
          "name": "stdout",
          "text": [
            "Drive already mounted at /content/drive; to attempt to forcibly remount, call drive.mount(\"/content/drive\", force_remount=True).\n"
          ]
        }
      ]
    },
    {
      "cell_type": "code",
      "metadata": {
        "id": "b7OhPA3YBPBn"
      },
      "source": [
        "# Read an Excel file for input\n",
        "import pandas as pd\n",
        "# This must be changed by the user.\n",
        "# Please change to the target video name and file path.\n",
        "video_name = 'video14'\n",
        "##########################################\n",
        "\n",
        "import_excel_file_location = '/content/drive/MyDrive/05_workspace/01_msc_project/data/input/excel/youtube_video_subtitle_' + video_name +'.xlsx'\n",
        "input_book = pd.ExcelFile(import_excel_file_location)\n"
      ],
      "execution_count": null,
      "outputs": []
    },
    {
      "cell_type": "code",
      "metadata": {
        "colab": {
          "base_uri": "https://localhost:8080/"
        },
        "id": "j9j9OW0tBdi1",
        "outputId": "b71870e7-283d-4132-abee-88d6714de933"
      },
      "source": [
        "# Get sheet name\n",
        "input_sheet_name = input_book.sheet_names\n",
        "# Get the number of sheets\n",
        "num_sheet = len(input_sheet_name)\n",
        "print (\"The number of sheet:\", num_sheet)\n",
        "print (input_sheet_name)\n"
      ],
      "execution_count": null,
      "outputs": [
        {
          "output_type": "stream",
          "name": "stdout",
          "text": [
            "The number of sheet: 1\n",
            "['Sheet1']\n"
          ]
        }
      ]
    },
    {
      "cell_type": "code",
      "metadata": {
        "colab": {
          "base_uri": "https://localhost:8080/",
          "height": 359
        },
        "id": "QTAI8HeHBd6y",
        "outputId": "ad7ae409-b8f2-4266-93c7-41b43514903d"
      },
      "source": [
        "# Read the sheet as a DataFrame\n",
        "input_sheet_df = input_book.parse(input_sheet_name[0], header=None)\n",
        "input_sheet_df.head(10)\n"
      ],
      "execution_count": null,
      "outputs": [
        {
          "output_type": "execute_result",
          "data": {
            "text/html": [
              "<div>\n",
              "<style scoped>\n",
              "    .dataframe tbody tr th:only-of-type {\n",
              "        vertical-align: middle;\n",
              "    }\n",
              "\n",
              "    .dataframe tbody tr th {\n",
              "        vertical-align: top;\n",
              "    }\n",
              "\n",
              "    .dataframe thead th {\n",
              "        text-align: right;\n",
              "    }\n",
              "</style>\n",
              "<table border=\"1\" class=\"dataframe\">\n",
              "  <thead>\n",
              "    <tr style=\"text-align: right;\">\n",
              "      <th></th>\n",
              "      <th>0</th>\n",
              "    </tr>\n",
              "  </thead>\n",
              "  <tbody>\n",
              "    <tr>\n",
              "      <th>0</th>\n",
              "      <td>00:02:00</td>\n",
              "    </tr>\n",
              "    <tr>\n",
              "      <th>1</th>\n",
              "      <td>my name is Donna SH and my full-time job</td>\n",
              "    </tr>\n",
              "    <tr>\n",
              "      <th>2</th>\n",
              "      <td>00:05:00</td>\n",
              "    </tr>\n",
              "    <tr>\n",
              "      <th>3</th>\n",
              "      <td>is to count people's arms and us and</td>\n",
              "    </tr>\n",
              "    <tr>\n",
              "      <th>4</th>\n",
              "      <td>00:08:00</td>\n",
              "    </tr>\n",
              "    <tr>\n",
              "      <th>5</th>\n",
              "      <td>like it all started at my first day of</td>\n",
              "    </tr>\n",
              "    <tr>\n",
              "      <th>6</th>\n",
              "      <td>00:11:00</td>\n",
              "    </tr>\n",
              "    <tr>\n",
              "      <th>7</th>\n",
              "      <td>school after my family moved from</td>\n",
              "    </tr>\n",
              "    <tr>\n",
              "      <th>8</th>\n",
              "      <td>00:14:00</td>\n",
              "    </tr>\n",
              "    <tr>\n",
              "      <th>9</th>\n",
              "      <td>Pakistan to Tanzania not from milan</td>\n",
              "    </tr>\n",
              "  </tbody>\n",
              "</table>\n",
              "</div>"
            ],
            "text/plain": [
              "                                          0\n",
              "0                                  00:02:00\n",
              "1  my name is Donna SH and my full-time job\n",
              "2                                  00:05:00\n",
              "3      is to count people's arms and us and\n",
              "4                                  00:08:00\n",
              "5    like it all started at my first day of\n",
              "6                                  00:11:00\n",
              "7         school after my family moved from\n",
              "8                                  00:14:00\n",
              "9       Pakistan to Tanzania not from milan"
            ]
          },
          "metadata": {},
          "execution_count": 350
        }
      ]
    },
    {
      "cell_type": "code",
      "metadata": {
        "colab": {
          "base_uri": "https://localhost:8080/",
          "height": 359
        },
        "id": "Pwzd_nyEeVaf",
        "outputId": "5513c508-fdbe-4819-fb26-db9a3ae39f8f"
      },
      "source": [
        "input_sheet_df.tail(10)\n"
      ],
      "execution_count": null,
      "outputs": [
        {
          "output_type": "execute_result",
          "data": {
            "text/html": [
              "<div>\n",
              "<style scoped>\n",
              "    .dataframe tbody tr th:only-of-type {\n",
              "        vertical-align: middle;\n",
              "    }\n",
              "\n",
              "    .dataframe tbody tr th {\n",
              "        vertical-align: top;\n",
              "    }\n",
              "\n",
              "    .dataframe thead th {\n",
              "        text-align: right;\n",
              "    }\n",
              "</style>\n",
              "<table border=\"1\" class=\"dataframe\">\n",
              "  <thead>\n",
              "    <tr style=\"text-align: right;\">\n",
              "      <th></th>\n",
              "      <th>0</th>\n",
              "    </tr>\n",
              "  </thead>\n",
              "  <tbody>\n",
              "    <tr>\n",
              "      <th>324</th>\n",
              "      <td>08:14:00</td>\n",
              "    </tr>\n",
              "    <tr>\n",
              "      <th>325</th>\n",
              "      <td>TED talk at no time and my speech 30 a</td>\n",
              "    </tr>\n",
              "    <tr>\n",
              "      <th>326</th>\n",
              "      <td>08:17:00</td>\n",
              "    </tr>\n",
              "    <tr>\n",
              "      <th>327</th>\n",
              "      <td>plus and my transcript and I can even</td>\n",
              "    </tr>\n",
              "    <tr>\n",
              "      <th>328</th>\n",
              "      <td>08:21:00</td>\n",
              "    </tr>\n",
              "    <tr>\n",
              "      <th>329</th>\n",
              "      <td>play back my audio and listen to itself</td>\n",
              "    </tr>\n",
              "    <tr>\n",
              "      <th>330</th>\n",
              "      <td>08:27:00</td>\n",
              "    </tr>\n",
              "    <tr>\n",
              "      <th>331</th>\n",
              "      <td>check it out</td>\n",
              "    </tr>\n",
              "    <tr>\n",
              "      <th>332</th>\n",
              "      <td>08:29:00</td>\n",
              "    </tr>\n",
              "    <tr>\n",
              "      <th>333</th>\n",
              "      <td>[Applause]</td>\n",
              "    </tr>\n",
              "  </tbody>\n",
              "</table>\n",
              "</div>"
            ],
            "text/plain": [
              "                                           0\n",
              "324                                 08:14:00\n",
              "325   TED talk at no time and my speech 30 a\n",
              "326                                 08:17:00\n",
              "327    plus and my transcript and I can even\n",
              "328                                 08:21:00\n",
              "329  play back my audio and listen to itself\n",
              "330                                 08:27:00\n",
              "331                             check it out\n",
              "332                                 08:29:00\n",
              "333                               [Applause]"
            ]
          },
          "metadata": {},
          "execution_count": 351
        }
      ]
    },
    {
      "cell_type": "code",
      "metadata": {
        "id": "Dl9OP3PrBf5o",
        "colab": {
          "base_uri": "https://localhost:8080/"
        },
        "outputId": "83d0feb8-f1cd-44e7-fff7-6c060eba4259"
      },
      "source": [
        "# Copy original sheet to new sheet\n",
        "organized_df = input_sheet_df.copy()\n",
        "length = len(organized_df)\n",
        "print(length)\n",
        "\n",
        "# Add new columns\n",
        "organized_df['start'] = 0.0\n",
        "organized_df['script'] = ''\n"
      ],
      "execution_count": null,
      "outputs": [
        {
          "output_type": "stream",
          "name": "stdout",
          "text": [
            "334\n"
          ]
        }
      ]
    },
    {
      "cell_type": "code",
      "metadata": {
        "id": "-Bne81YsBotL"
      },
      "source": [
        "# Rename column name (0 => original)\n",
        "#print(organized_df.columns)\n",
        "organized_df.rename(columns={0: 'original'}, inplace=True)\n"
      ],
      "execution_count": null,
      "outputs": []
    },
    {
      "cell_type": "code",
      "metadata": {
        "id": "8I9Fih-UEgTX"
      },
      "source": [
        "counter = 0\n"
      ],
      "execution_count": null,
      "outputs": []
    },
    {
      "cell_type": "code",
      "metadata": {
        "id": "IKIqAef8DsMG"
      },
      "source": [
        "# Set the end time from the previous start time\n",
        "for i in range(length):\n",
        "    #print(i)\n",
        "    current_value = organized_df.loc[i, 'original']\n",
        "    \n",
        "    if i % 2 == 0: \n",
        "        organized_df.loc[counter, 'start'] = str(current_value)\n",
        "    else:\n",
        "        organized_df.loc[counter, 'script'] = str(current_value)\n",
        "        counter += 1\n"
      ],
      "execution_count": null,
      "outputs": []
    },
    {
      "cell_type": "code",
      "metadata": {
        "colab": {
          "base_uri": "https://localhost:8080/",
          "height": 419
        },
        "id": "7efXqbbwEg71",
        "outputId": "57bbcc33-7cd0-4ed4-d1f5-b6b776012b62"
      },
      "source": [
        "organized_df.drop('original', axis=1, inplace=True)\n",
        "organized_df\n"
      ],
      "execution_count": null,
      "outputs": [
        {
          "output_type": "execute_result",
          "data": {
            "text/html": [
              "<div>\n",
              "<style scoped>\n",
              "    .dataframe tbody tr th:only-of-type {\n",
              "        vertical-align: middle;\n",
              "    }\n",
              "\n",
              "    .dataframe tbody tr th {\n",
              "        vertical-align: top;\n",
              "    }\n",
              "\n",
              "    .dataframe thead th {\n",
              "        text-align: right;\n",
              "    }\n",
              "</style>\n",
              "<table border=\"1\" class=\"dataframe\">\n",
              "  <thead>\n",
              "    <tr style=\"text-align: right;\">\n",
              "      <th></th>\n",
              "      <th>start</th>\n",
              "      <th>script</th>\n",
              "    </tr>\n",
              "  </thead>\n",
              "  <tbody>\n",
              "    <tr>\n",
              "      <th>0</th>\n",
              "      <td>00:02:00</td>\n",
              "      <td>my name is Donna SH and my full-time job</td>\n",
              "    </tr>\n",
              "    <tr>\n",
              "      <th>1</th>\n",
              "      <td>00:05:00</td>\n",
              "      <td>is to count people's arms and us and</td>\n",
              "    </tr>\n",
              "    <tr>\n",
              "      <th>2</th>\n",
              "      <td>00:08:00</td>\n",
              "      <td>like it all started at my first day of</td>\n",
              "    </tr>\n",
              "    <tr>\n",
              "      <th>3</th>\n",
              "      <td>00:11:00</td>\n",
              "      <td>school after my family moved from</td>\n",
              "    </tr>\n",
              "    <tr>\n",
              "      <th>4</th>\n",
              "      <td>00:14:00</td>\n",
              "      <td>Pakistan to Tanzania not from milan</td>\n",
              "    </tr>\n",
              "    <tr>\n",
              "      <th>...</th>\n",
              "      <td>...</td>\n",
              "      <td>...</td>\n",
              "    </tr>\n",
              "    <tr>\n",
              "      <th>329</th>\n",
              "      <td>0</td>\n",
              "      <td></td>\n",
              "    </tr>\n",
              "    <tr>\n",
              "      <th>330</th>\n",
              "      <td>0</td>\n",
              "      <td></td>\n",
              "    </tr>\n",
              "    <tr>\n",
              "      <th>331</th>\n",
              "      <td>0</td>\n",
              "      <td></td>\n",
              "    </tr>\n",
              "    <tr>\n",
              "      <th>332</th>\n",
              "      <td>0</td>\n",
              "      <td></td>\n",
              "    </tr>\n",
              "    <tr>\n",
              "      <th>333</th>\n",
              "      <td>0</td>\n",
              "      <td></td>\n",
              "    </tr>\n",
              "  </tbody>\n",
              "</table>\n",
              "<p>334 rows × 2 columns</p>\n",
              "</div>"
            ],
            "text/plain": [
              "        start                                    script\n",
              "0    00:02:00  my name is Donna SH and my full-time job\n",
              "1    00:05:00      is to count people's arms and us and\n",
              "2    00:08:00    like it all started at my first day of\n",
              "3    00:11:00         school after my family moved from\n",
              "4    00:14:00       Pakistan to Tanzania not from milan\n",
              "..        ...                                       ...\n",
              "329         0                                          \n",
              "330         0                                          \n",
              "331         0                                          \n",
              "332         0                                          \n",
              "333         0                                          \n",
              "\n",
              "[334 rows x 2 columns]"
            ]
          },
          "metadata": {},
          "execution_count": 356
        }
      ]
    },
    {
      "cell_type": "code",
      "metadata": {
        "id": "dyumLc7NLPo8"
      },
      "source": [
        "delele_list = []\n"
      ],
      "execution_count": null,
      "outputs": []
    },
    {
      "cell_type": "code",
      "metadata": {
        "id": "xRELOe2zIOCK"
      },
      "source": [
        "# Delete lines with no value\n",
        "for i in range(length):\n",
        "    #print(i)\n",
        "    current_value = organized_df.loc[i, 'script']\n",
        "    #print(i, current_value)\n",
        "\n",
        "    if not current_value: \n",
        "        delele_list.append(i)\n"
      ],
      "execution_count": null,
      "outputs": []
    },
    {
      "cell_type": "code",
      "metadata": {
        "colab": {
          "base_uri": "https://localhost:8080/",
          "height": 419
        },
        "id": "lFr3Rc_MKPUC",
        "outputId": "c04bd106-e6b1-4187-bfe5-4460ed180ba8"
      },
      "source": [
        "# Delele lines with no value\n",
        "organized_df = organized_df.drop(delele_list, axis=0)\n",
        "organized_df\n"
      ],
      "execution_count": null,
      "outputs": [
        {
          "output_type": "execute_result",
          "data": {
            "text/html": [
              "<div>\n",
              "<style scoped>\n",
              "    .dataframe tbody tr th:only-of-type {\n",
              "        vertical-align: middle;\n",
              "    }\n",
              "\n",
              "    .dataframe tbody tr th {\n",
              "        vertical-align: top;\n",
              "    }\n",
              "\n",
              "    .dataframe thead th {\n",
              "        text-align: right;\n",
              "    }\n",
              "</style>\n",
              "<table border=\"1\" class=\"dataframe\">\n",
              "  <thead>\n",
              "    <tr style=\"text-align: right;\">\n",
              "      <th></th>\n",
              "      <th>start</th>\n",
              "      <th>script</th>\n",
              "    </tr>\n",
              "  </thead>\n",
              "  <tbody>\n",
              "    <tr>\n",
              "      <th>0</th>\n",
              "      <td>00:02:00</td>\n",
              "      <td>my name is Donna SH and my full-time job</td>\n",
              "    </tr>\n",
              "    <tr>\n",
              "      <th>1</th>\n",
              "      <td>00:05:00</td>\n",
              "      <td>is to count people's arms and us and</td>\n",
              "    </tr>\n",
              "    <tr>\n",
              "      <th>2</th>\n",
              "      <td>00:08:00</td>\n",
              "      <td>like it all started at my first day of</td>\n",
              "    </tr>\n",
              "    <tr>\n",
              "      <th>3</th>\n",
              "      <td>00:11:00</td>\n",
              "      <td>school after my family moved from</td>\n",
              "    </tr>\n",
              "    <tr>\n",
              "      <th>4</th>\n",
              "      <td>00:14:00</td>\n",
              "      <td>Pakistan to Tanzania not from milan</td>\n",
              "    </tr>\n",
              "    <tr>\n",
              "      <th>...</th>\n",
              "      <td>...</td>\n",
              "      <td>...</td>\n",
              "    </tr>\n",
              "    <tr>\n",
              "      <th>162</th>\n",
              "      <td>08:14:00</td>\n",
              "      <td>TED talk at no time and my speech 30 a</td>\n",
              "    </tr>\n",
              "    <tr>\n",
              "      <th>163</th>\n",
              "      <td>08:17:00</td>\n",
              "      <td>plus and my transcript and I can even</td>\n",
              "    </tr>\n",
              "    <tr>\n",
              "      <th>164</th>\n",
              "      <td>08:21:00</td>\n",
              "      <td>play back my audio and listen to itself</td>\n",
              "    </tr>\n",
              "    <tr>\n",
              "      <th>165</th>\n",
              "      <td>08:27:00</td>\n",
              "      <td>check it out</td>\n",
              "    </tr>\n",
              "    <tr>\n",
              "      <th>166</th>\n",
              "      <td>08:29:00</td>\n",
              "      <td>[Applause]</td>\n",
              "    </tr>\n",
              "  </tbody>\n",
              "</table>\n",
              "<p>167 rows × 2 columns</p>\n",
              "</div>"
            ],
            "text/plain": [
              "        start                                    script\n",
              "0    00:02:00  my name is Donna SH and my full-time job\n",
              "1    00:05:00      is to count people's arms and us and\n",
              "2    00:08:00    like it all started at my first day of\n",
              "3    00:11:00         school after my family moved from\n",
              "4    00:14:00       Pakistan to Tanzania not from milan\n",
              "..        ...                                       ...\n",
              "162  08:14:00    TED talk at no time and my speech 30 a\n",
              "163  08:17:00     plus and my transcript and I can even\n",
              "164  08:21:00   play back my audio and listen to itself\n",
              "165  08:27:00                              check it out\n",
              "166  08:29:00                                [Applause]\n",
              "\n",
              "[167 rows x 2 columns]"
            ]
          },
          "metadata": {},
          "execution_count": 359
        }
      ]
    },
    {
      "cell_type": "code",
      "metadata": {
        "id": "ctQYREW4Kizn"
      },
      "source": [
        "# Export an excel file\n",
        "import pandas as pd\n",
        "\n",
        "export_excel_file_location = '/content/drive/MyDrive/05_workspace/01_msc_project/data/output/02_organized_excel/02_organized_excel_' + video_name +'.xlsx'\n",
        "organized_df.to_excel(export_excel_file_location)\n"
      ],
      "execution_count": null,
      "outputs": []
    }
  ]
}