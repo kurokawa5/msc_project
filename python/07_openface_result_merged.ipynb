{
  "nbformat": 4,
  "nbformat_minor": 0,
  "metadata": {
    "colab": {
      "name": "07_openface_result_merged.ipynb",
      "provenance": [],
      "collapsed_sections": []
    },
    "kernelspec": {
      "name": "python3",
      "display_name": "Python 3"
    },
    "language_info": {
      "name": "python"
    }
  },
  "cells": [
    {
      "cell_type": "markdown",
      "source": [
        "Merge csv files output by OpenFace"
      ],
      "metadata": {
        "id": "S9JZeOj5Q-dw"
      }
    },
    {
      "cell_type": "code",
      "metadata": {
        "colab": {
          "base_uri": "https://localhost:8080/"
        },
        "id": "DGmgQ3HCmTbt",
        "outputId": "9d5f6545-a28b-47e5-ad88-c4b53f4c035c"
      },
      "source": [
        "# Mount your Google Drive\n",
        "from google.colab import drive\n",
        "drive.mount('/content/drive')"
      ],
      "execution_count": null,
      "outputs": [
        {
          "output_type": "stream",
          "name": "stdout",
          "text": [
            "Mounted at /content/drive\n"
          ]
        }
      ]
    },
    {
      "cell_type": "code",
      "metadata": {
        "id": "tBFo38yPmgL_"
      },
      "source": [
        "import os\n",
        "import pandas as pd\n",
        "import glob\n",
        "import re\n",
        "\n",
        "# This must be changed by the user.\n",
        "# Please change to the target video name, file path and emotion category\n",
        "video_no = 'video14'\n",
        "emotion_category = 'group'\n",
        "\n",
        "path = '/content/drive/MyDrive/05_workspace/01_msc_project/data/output/06_openface/' + emotion_category + '/' + video_no\n",
        "output_path = '/content/drive/MyDrive/05_workspace/01_msc_project/data/output/07_openface_result_merged/' + emotion_category + '/' + video_no\n"
      ],
      "execution_count": null,
      "outputs": []
    },
    {
      "cell_type": "code",
      "metadata": {
        "id": "JXjfX4CIuVol"
      },
      "source": [
        "!mkdir $output_path"
      ],
      "execution_count": null,
      "outputs": []
    },
    {
      "cell_type": "code",
      "metadata": {
        "colab": {
          "base_uri": "https://localhost:8080/"
        },
        "id": "tHRBFF57qx6Q",
        "outputId": "ce89c519-e9ac-4594-c70e-f274324cb641"
      },
      "source": [
        "files = os.listdir(path)\n",
        "files_dir = [f for f in files if os.path.isdir(os.path.join(path, f))]\n",
        "print(files_dir)    # ['dir1', 'dir2']"
      ],
      "execution_count": null,
      "outputs": [
        {
          "output_type": "stream",
          "name": "stdout",
          "text": [
            "['ambiguous', 'negative', 'neutral', 'positive']\n"
          ]
        }
      ]
    },
    {
      "cell_type": "code",
      "metadata": {
        "id": "w9xrBbxu6pWw"
      },
      "source": [
        "all_emotion_data_list = []"
      ],
      "execution_count": null,
      "outputs": []
    },
    {
      "cell_type": "code",
      "metadata": {
        "id": "8c-vwXZKq3q_"
      },
      "source": [
        "for emotion in files_dir:\n",
        "    current_emo = emotion\n",
        "    current_path = path + \"/\" + current_emo\n",
        "    #print(current_path)\n",
        "    \n",
        "    files = []\n",
        "    for filename in os.listdir(current_path):\n",
        "        if os.path.isfile(os.path.join(current_path, filename)): #Get file names\n",
        "            files.append(filename)\n",
        "    #print(files)\n",
        "\n",
        "    csvfiles = []\n",
        "    regex = re.compile(r'(.csv)$')\n",
        "    for name in files:\n",
        "        if regex.search(name):\n",
        "            csvfiles.append(name)\n",
        "    #print(csvfiles)\n",
        "    \n",
        "    data_list = []\n",
        "    counter = 0\n",
        "\n",
        "    for file in csvfiles:\n",
        "        #print(file)\n",
        "        csv_location = current_path + '/' + file\n",
        "        #print(csv_location)\n",
        "        csv_df = pd.read_csv(csv_location)\n",
        "        csv_df['filename'] = csvfiles[counter]\n",
        "        csv_df['emotion'] = current_emo\n",
        "        csv_df['videoname'] = video_no\n",
        "        counter = counter + 1\n",
        "        data_list.append(csv_df)\n",
        "        #all_emotion_data_list.append(csv_df)\n",
        "\n",
        "    #all_emotion_data_list.append(data_list)\n",
        "    csv_merged = pd.concat(data_list, axis = 0)\n",
        "    csv_location = output_path + '/' + current_emo + '_merged.csv'\n",
        "    csv_merged.to_csv(csv_location, index=False)\n"
      ],
      "execution_count": null,
      "outputs": []
    },
    {
      "cell_type": "code",
      "metadata": {
        "id": "9fGMfMQDvqEX"
      },
      "source": [
        "# Create a merged file of all the emotional categories of a single video"
      ],
      "execution_count": null,
      "outputs": []
    },
    {
      "cell_type": "code",
      "metadata": {
        "id": "WhqBjS95iA3b"
      },
      "source": [
        ""
      ],
      "execution_count": null,
      "outputs": []
    },
    {
      "cell_type": "code",
      "metadata": {
        "id": "Hi_UEo5oBiNu",
        "colab": {
          "base_uri": "https://localhost:8080/"
        },
        "outputId": "a1e362d8-bf4c-46ca-bd1b-13be3a635cd5"
      },
      "source": [
        "files = []\n",
        "csvfiles = []\n",
        "data_list = []\n",
        "\n",
        "for filename in os.listdir(output_path):\n",
        "    if os.path.isfile(os.path.join(output_path, filename)): #Get file names\n",
        "        files.append(filename)\n",
        "print(files)\n",
        "\n",
        "regex = re.compile(r'(.csv)$')\n",
        "for name in files:\n",
        "    if regex.search(name):\n",
        "        csvfiles.append(name)\n",
        "print(csvfiles)\n",
        "\n",
        "for file in csvfiles:\n",
        "    print(file)\n",
        "    csv_location = output_path + '/' + file\n",
        "    print(csv_location)\n",
        "    data_list.append(pd.read_csv(csv_location))"
      ],
      "execution_count": null,
      "outputs": [
        {
          "output_type": "stream",
          "name": "stdout",
          "text": [
            "['ambiguous_merged.csv', 'negative_merged.csv', 'neutral_merged.csv', 'positive_merged.csv']\n",
            "['ambiguous_merged.csv', 'negative_merged.csv', 'neutral_merged.csv', 'positive_merged.csv']\n",
            "ambiguous_merged.csv\n",
            "/content/drive/MyDrive/05_workspace/01_msc_project/data/output/07_openface_result_merged/group/video14/ambiguous_merged.csv\n",
            "negative_merged.csv\n",
            "/content/drive/MyDrive/05_workspace/01_msc_project/data/output/07_openface_result_merged/group/video14/negative_merged.csv\n",
            "neutral_merged.csv\n",
            "/content/drive/MyDrive/05_workspace/01_msc_project/data/output/07_openface_result_merged/group/video14/neutral_merged.csv\n",
            "positive_merged.csv\n",
            "/content/drive/MyDrive/05_workspace/01_msc_project/data/output/07_openface_result_merged/group/video14/positive_merged.csv\n"
          ]
        }
      ]
    },
    {
      "cell_type": "code",
      "metadata": {
        "id": "hgbIxaxTw2Ze"
      },
      "source": [
        "all_emotion_csv_merged = pd.concat(data_list, axis = 0)\n",
        "csv_location = output_path + '/emotion_merged.csv'\n",
        "all_emotion_csv_merged.to_csv(csv_location, index=False)"
      ],
      "execution_count": null,
      "outputs": []
    },
    {
      "cell_type": "code",
      "metadata": {
        "id": "nfY0faNQFBYa"
      },
      "source": [
        "# If you would like to merge all csv files of all videos, please do the following."
      ],
      "execution_count": null,
      "outputs": []
    },
    {
      "cell_type": "code",
      "metadata": {
        "id": "WikzCMOzGKj8"
      },
      "source": [
        ""
      ],
      "execution_count": null,
      "outputs": []
    },
    {
      "cell_type": "code",
      "metadata": {
        "id": "EAHHknhlEJpr"
      },
      "source": [
        "path = '/content/drive/MyDrive/05_workspace/01_msc_project/data/output/07_openface_result_merged/' + emotion_category \n",
        "output_path = '/content/drive/MyDrive/05_workspace/01_msc_project/data/output/07_openface_result_merged/' + emotion_category \n"
      ],
      "execution_count": null,
      "outputs": []
    },
    {
      "cell_type": "code",
      "metadata": {
        "id": "IFQGh_JvXDc8",
        "colab": {
          "base_uri": "https://localhost:8080/",
          "height": 296
        },
        "outputId": "f02b5f0d-3bfc-4bab-c944-e191faa0f05b"
      },
      "source": [
        "files = os.listdir(path)\n",
        "files_dir = [f for f in files if os.path.isdir(os.path.join(path, f))]\n",
        "print(files_dir)    # ['dir1', 'dir2']\n",
        "\n",
        "all_files = []\n",
        "csvfiles = []\n",
        "data_list = []\n",
        "\n",
        "for dir in files_dir:\n",
        "    #print(dir)\n",
        "    current_path = path + '/' + dir + '/'\n",
        "    #print(current_path)\n",
        "\n",
        "    files = []\n",
        "    for filename in os.listdir(current_path):\n",
        "        if os.path.isfile(os.path.join(current_path, filename)): #Get file names\n",
        "            files.append(filename)\n",
        "    #print(files)\n",
        "\n",
        "    for f in files:\n",
        "        if f == 'emotion_merged.csv':\n",
        "            print(dir, f)\n",
        "            csv_location = current_path + f\n",
        "            #print(csv_location)\n",
        "            data_list.append(pd.read_csv(csv_location))\n",
        "\n",
        "all_videos_emotion_merged = pd.concat(data_list, axis = 0)\n",
        "output_location = output_path + '/all_videos_emotion_merged.csv'\n",
        "all_videos_emotion_merged.to_csv(output_location, index=False)\n",
        "\n",
        "\"\"\"\n",
        "\"\"\""
      ],
      "execution_count": null,
      "outputs": [
        {
          "output_type": "stream",
          "name": "stdout",
          "text": [
            "['old', 'video01', 'video02', 'video03', 'video04', 'video05', 'video06', 'video07', 'video08', 'video09', 'video10', 'video11', 'video12', 'video13', 'video14']\n",
            "video01 emotion_merged.csv\n",
            "video02 emotion_merged.csv\n",
            "video03 emotion_merged.csv\n",
            "video04 emotion_merged.csv\n",
            "video05 emotion_merged.csv\n",
            "video06 emotion_merged.csv\n",
            "video07 emotion_merged.csv\n",
            "video08 emotion_merged.csv\n",
            "video09 emotion_merged.csv\n",
            "video10 emotion_merged.csv\n",
            "video11 emotion_merged.csv\n",
            "video12 emotion_merged.csv\n",
            "video13 emotion_merged.csv\n",
            "video14 emotion_merged.csv\n"
          ]
        },
        {
          "output_type": "execute_result",
          "data": {
            "application/vnd.google.colaboratory.intrinsic+json": {
              "type": "string"
            },
            "text/plain": [
              "'\\n'"
            ]
          },
          "metadata": {},
          "execution_count": 117
        }
      ]
    },
    {
      "cell_type": "code",
      "metadata": {
        "id": "_QgMEifcaX8L"
      },
      "source": [
        ""
      ],
      "execution_count": null,
      "outputs": []
    }
  ]
}