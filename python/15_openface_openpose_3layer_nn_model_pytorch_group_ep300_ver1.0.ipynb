{
  "nbformat": 4,
  "nbformat_minor": 0,
  "metadata": {
    "colab": {
      "name": "15_openface_openpose_3layer_nn_model_pytorch_group_ep300_ver1.0.ipynb",
      "provenance": [],
      "collapsed_sections": [],
      "machine_shape": "hm"
    },
    "kernelspec": {
      "name": "python3",
      "display_name": "Python 3"
    },
    "language_info": {
      "name": "python"
    },
    "accelerator": "GPU",
    "widgets": {
      "application/vnd.jupyter.widget-state+json": {
        "b6418920b40d4d56a252f682e443ee8c": {
          "model_module": "@jupyter-widgets/controls",
          "model_name": "HBoxModel",
          "model_module_version": "1.5.0",
          "state": {
            "_view_name": "HBoxView",
            "_dom_classes": [],
            "_model_name": "HBoxModel",
            "_view_module": "@jupyter-widgets/controls",
            "_model_module_version": "1.5.0",
            "_view_count": null,
            "_view_module_version": "1.5.0",
            "box_style": "",
            "layout": "IPY_MODEL_a8c680b31294471cb5a7e18198f8e182",
            "_model_module": "@jupyter-widgets/controls",
            "children": [
              "IPY_MODEL_6472b82c22694a2292d2c72c5750fbbb",
              "IPY_MODEL_4130644750864a509fc597740fa65195",
              "IPY_MODEL_83693f74a82a408ca50284cc1d14c62e"
            ]
          }
        },
        "a8c680b31294471cb5a7e18198f8e182": {
          "model_module": "@jupyter-widgets/base",
          "model_name": "LayoutModel",
          "model_module_version": "1.2.0",
          "state": {
            "_view_name": "LayoutView",
            "grid_template_rows": null,
            "right": null,
            "justify_content": null,
            "_view_module": "@jupyter-widgets/base",
            "overflow": null,
            "_model_module_version": "1.2.0",
            "_view_count": null,
            "flex_flow": null,
            "width": null,
            "min_width": null,
            "border": null,
            "align_items": null,
            "bottom": null,
            "_model_module": "@jupyter-widgets/base",
            "top": null,
            "grid_column": null,
            "overflow_y": null,
            "overflow_x": null,
            "grid_auto_flow": null,
            "grid_area": null,
            "grid_template_columns": null,
            "flex": null,
            "_model_name": "LayoutModel",
            "justify_items": null,
            "grid_row": null,
            "max_height": null,
            "align_content": null,
            "visibility": null,
            "align_self": null,
            "height": null,
            "min_height": null,
            "padding": null,
            "grid_auto_rows": null,
            "grid_gap": null,
            "max_width": null,
            "order": null,
            "_view_module_version": "1.2.0",
            "grid_template_areas": null,
            "object_position": null,
            "object_fit": null,
            "grid_auto_columns": null,
            "margin": null,
            "display": null,
            "left": null
          }
        },
        "6472b82c22694a2292d2c72c5750fbbb": {
          "model_module": "@jupyter-widgets/controls",
          "model_name": "HTMLModel",
          "model_module_version": "1.5.0",
          "state": {
            "_view_name": "HTMLView",
            "style": "IPY_MODEL_36744b37a54a4c87a67d1437985f4df8",
            "_dom_classes": [],
            "description": "",
            "_model_name": "HTMLModel",
            "placeholder": "​",
            "_view_module": "@jupyter-widgets/controls",
            "_model_module_version": "1.5.0",
            "value": "100%",
            "_view_count": null,
            "_view_module_version": "1.5.0",
            "description_tooltip": null,
            "_model_module": "@jupyter-widgets/controls",
            "layout": "IPY_MODEL_a5bc234b050c4cab83e26513745156b8"
          }
        },
        "4130644750864a509fc597740fa65195": {
          "model_module": "@jupyter-widgets/controls",
          "model_name": "FloatProgressModel",
          "model_module_version": "1.5.0",
          "state": {
            "_view_name": "ProgressView",
            "style": "IPY_MODEL_4bc51b3bc68344c3b2ef5dfb27acf273",
            "_dom_classes": [],
            "description": "",
            "_model_name": "FloatProgressModel",
            "bar_style": "success",
            "max": 300,
            "_view_module": "@jupyter-widgets/controls",
            "_model_module_version": "1.5.0",
            "value": 300,
            "_view_count": null,
            "_view_module_version": "1.5.0",
            "orientation": "horizontal",
            "min": 0,
            "description_tooltip": null,
            "_model_module": "@jupyter-widgets/controls",
            "layout": "IPY_MODEL_ecf3b453981342128a19f9912492809d"
          }
        },
        "83693f74a82a408ca50284cc1d14c62e": {
          "model_module": "@jupyter-widgets/controls",
          "model_name": "HTMLModel",
          "model_module_version": "1.5.0",
          "state": {
            "_view_name": "HTMLView",
            "style": "IPY_MODEL_cd7f17a37adb44a8a68343d6bef0eca7",
            "_dom_classes": [],
            "description": "",
            "_model_name": "HTMLModel",
            "placeholder": "​",
            "_view_module": "@jupyter-widgets/controls",
            "_model_module_version": "1.5.0",
            "value": " 300/300 [2:00:56&lt;00:00, 24.25s/it]",
            "_view_count": null,
            "_view_module_version": "1.5.0",
            "description_tooltip": null,
            "_model_module": "@jupyter-widgets/controls",
            "layout": "IPY_MODEL_de03fbd927414eb895258539a42c79d0"
          }
        },
        "36744b37a54a4c87a67d1437985f4df8": {
          "model_module": "@jupyter-widgets/controls",
          "model_name": "DescriptionStyleModel",
          "model_module_version": "1.5.0",
          "state": {
            "_view_name": "StyleView",
            "_model_name": "DescriptionStyleModel",
            "description_width": "",
            "_view_module": "@jupyter-widgets/base",
            "_model_module_version": "1.5.0",
            "_view_count": null,
            "_view_module_version": "1.2.0",
            "_model_module": "@jupyter-widgets/controls"
          }
        },
        "a5bc234b050c4cab83e26513745156b8": {
          "model_module": "@jupyter-widgets/base",
          "model_name": "LayoutModel",
          "model_module_version": "1.2.0",
          "state": {
            "_view_name": "LayoutView",
            "grid_template_rows": null,
            "right": null,
            "justify_content": null,
            "_view_module": "@jupyter-widgets/base",
            "overflow": null,
            "_model_module_version": "1.2.0",
            "_view_count": null,
            "flex_flow": null,
            "width": null,
            "min_width": null,
            "border": null,
            "align_items": null,
            "bottom": null,
            "_model_module": "@jupyter-widgets/base",
            "top": null,
            "grid_column": null,
            "overflow_y": null,
            "overflow_x": null,
            "grid_auto_flow": null,
            "grid_area": null,
            "grid_template_columns": null,
            "flex": null,
            "_model_name": "LayoutModel",
            "justify_items": null,
            "grid_row": null,
            "max_height": null,
            "align_content": null,
            "visibility": null,
            "align_self": null,
            "height": null,
            "min_height": null,
            "padding": null,
            "grid_auto_rows": null,
            "grid_gap": null,
            "max_width": null,
            "order": null,
            "_view_module_version": "1.2.0",
            "grid_template_areas": null,
            "object_position": null,
            "object_fit": null,
            "grid_auto_columns": null,
            "margin": null,
            "display": null,
            "left": null
          }
        },
        "4bc51b3bc68344c3b2ef5dfb27acf273": {
          "model_module": "@jupyter-widgets/controls",
          "model_name": "ProgressStyleModel",
          "model_module_version": "1.5.0",
          "state": {
            "_view_name": "StyleView",
            "_model_name": "ProgressStyleModel",
            "description_width": "",
            "_view_module": "@jupyter-widgets/base",
            "_model_module_version": "1.5.0",
            "_view_count": null,
            "_view_module_version": "1.2.0",
            "bar_color": null,
            "_model_module": "@jupyter-widgets/controls"
          }
        },
        "ecf3b453981342128a19f9912492809d": {
          "model_module": "@jupyter-widgets/base",
          "model_name": "LayoutModel",
          "model_module_version": "1.2.0",
          "state": {
            "_view_name": "LayoutView",
            "grid_template_rows": null,
            "right": null,
            "justify_content": null,
            "_view_module": "@jupyter-widgets/base",
            "overflow": null,
            "_model_module_version": "1.2.0",
            "_view_count": null,
            "flex_flow": null,
            "width": null,
            "min_width": null,
            "border": null,
            "align_items": null,
            "bottom": null,
            "_model_module": "@jupyter-widgets/base",
            "top": null,
            "grid_column": null,
            "overflow_y": null,
            "overflow_x": null,
            "grid_auto_flow": null,
            "grid_area": null,
            "grid_template_columns": null,
            "flex": null,
            "_model_name": "LayoutModel",
            "justify_items": null,
            "grid_row": null,
            "max_height": null,
            "align_content": null,
            "visibility": null,
            "align_self": null,
            "height": null,
            "min_height": null,
            "padding": null,
            "grid_auto_rows": null,
            "grid_gap": null,
            "max_width": null,
            "order": null,
            "_view_module_version": "1.2.0",
            "grid_template_areas": null,
            "object_position": null,
            "object_fit": null,
            "grid_auto_columns": null,
            "margin": null,
            "display": null,
            "left": null
          }
        },
        "cd7f17a37adb44a8a68343d6bef0eca7": {
          "model_module": "@jupyter-widgets/controls",
          "model_name": "DescriptionStyleModel",
          "model_module_version": "1.5.0",
          "state": {
            "_view_name": "StyleView",
            "_model_name": "DescriptionStyleModel",
            "description_width": "",
            "_view_module": "@jupyter-widgets/base",
            "_model_module_version": "1.5.0",
            "_view_count": null,
            "_view_module_version": "1.2.0",
            "_model_module": "@jupyter-widgets/controls"
          }
        },
        "de03fbd927414eb895258539a42c79d0": {
          "model_module": "@jupyter-widgets/base",
          "model_name": "LayoutModel",
          "model_module_version": "1.2.0",
          "state": {
            "_view_name": "LayoutView",
            "grid_template_rows": null,
            "right": null,
            "justify_content": null,
            "_view_module": "@jupyter-widgets/base",
            "overflow": null,
            "_model_module_version": "1.2.0",
            "_view_count": null,
            "flex_flow": null,
            "width": null,
            "min_width": null,
            "border": null,
            "align_items": null,
            "bottom": null,
            "_model_module": "@jupyter-widgets/base",
            "top": null,
            "grid_column": null,
            "overflow_y": null,
            "overflow_x": null,
            "grid_auto_flow": null,
            "grid_area": null,
            "grid_template_columns": null,
            "flex": null,
            "_model_name": "LayoutModel",
            "justify_items": null,
            "grid_row": null,
            "max_height": null,
            "align_content": null,
            "visibility": null,
            "align_self": null,
            "height": null,
            "min_height": null,
            "padding": null,
            "grid_auto_rows": null,
            "grid_gap": null,
            "max_width": null,
            "order": null,
            "_view_module_version": "1.2.0",
            "grid_template_areas": null,
            "object_position": null,
            "object_fit": null,
            "grid_auto_columns": null,
            "margin": null,
            "display": null,
            "left": null
          }
        }
      }
    }
  },
  "cells": [
    {
      "cell_type": "markdown",
      "metadata": {
        "id": "uLSQglxKuSef"
      },
      "source": [
        "Reference: [49] PyTorch [Tabular] —Multiclass Classification\n",
        "\n",
        "https://towardsdatascience.com/pytorch-tabular-multiclass-classification-9f8211a123ab "
      ]
    },
    {
      "cell_type": "code",
      "metadata": {
        "id": "3MYplqwNcF6e"
      },
      "source": [
        "# Import Libraries\n",
        "import torch\n",
        "import torch.nn as nn\n",
        "import torch.nn.functional as F\n",
        "import torch.optim as optim\n",
        "from torchvision import datasets, transforms\n",
        "from torch.utils.data import Dataset, DataLoader, WeightedRandomSampler\n",
        "\n",
        "import numpy as np\n",
        "import pandas as pd\n",
        "import matplotlib.pyplot as plt\n",
        "import seaborn as sns\n",
        "from tqdm.notebook import tqdm\n",
        "\n",
        "from sklearn.model_selection import train_test_split\n",
        "from sklearn.preprocessing import MinMaxScaler  \n",
        "from sklearn.preprocessing import StandardScaler\n",
        "from sklearn.metrics import confusion_matrix, classification_report\n",
        "\n",
        "%matplotlib inline\n",
        "plt.style.use(\"ggplot\")"
      ],
      "execution_count": null,
      "outputs": []
    },
    {
      "cell_type": "code",
      "metadata": {
        "colab": {
          "base_uri": "https://localhost:8080/",
          "height": 35
        },
        "id": "p3fmdhQhcW_A",
        "outputId": "dc22f6d8-adf8-45e9-c36b-c1bf39e6e013"
      },
      "source": [
        "device = \"cuda\" if torch.cuda.is_available() else \"cpu\"\n",
        "device"
      ],
      "execution_count": null,
      "outputs": [
        {
          "output_type": "execute_result",
          "data": {
            "application/vnd.google.colaboratory.intrinsic+json": {
              "type": "string"
            },
            "text/plain": [
              "'cuda'"
            ]
          },
          "metadata": {},
          "execution_count": 3
        }
      ]
    },
    {
      "cell_type": "code",
      "metadata": {
        "colab": {
          "base_uri": "https://localhost:8080/"
        },
        "id": "1pMsj7pmcYgo",
        "outputId": "37c831ee-eaab-4f7d-d3ee-61f65a9aeabc"
      },
      "source": [
        "# Mount your Google Drive\n",
        "from google.colab import drive\n",
        "drive.mount('/content/drive')"
      ],
      "execution_count": null,
      "outputs": [
        {
          "output_type": "stream",
          "name": "stdout",
          "text": [
            "Mounted at /content/drive\n"
          ]
        }
      ]
    },
    {
      "cell_type": "code",
      "metadata": {
        "colab": {
          "base_uri": "https://localhost:8080/",
          "height": 270
        },
        "id": "Io5a-44qcaXu",
        "outputId": "9dd8ea52-0d7c-41bb-d9d7-73bdcedf9023"
      },
      "source": [
        "# Read Data\n",
        "df = pd.read_csv(\"/content/drive/MyDrive/05_workspace/01_msc_project/data/output/12_face_pose_merged/group/openface_plus_openpose_inner_without_NaN_success0.csv\")\n",
        "df.head()"
      ],
      "execution_count": null,
      "outputs": [
        {
          "output_type": "execute_result",
          "data": {
            "text/html": [
              "<div>\n",
              "<style scoped>\n",
              "    .dataframe tbody tr th:only-of-type {\n",
              "        vertical-align: middle;\n",
              "    }\n",
              "\n",
              "    .dataframe tbody tr th {\n",
              "        vertical-align: top;\n",
              "    }\n",
              "\n",
              "    .dataframe thead th {\n",
              "        text-align: right;\n",
              "    }\n",
              "</style>\n",
              "<table border=\"1\" class=\"dataframe\">\n",
              "  <thead>\n",
              "    <tr style=\"text-align: right;\">\n",
              "      <th></th>\n",
              "      <th>Unnamed: 0</th>\n",
              "      <th>Unnamed: 0.1</th>\n",
              "      <th>frame</th>\n",
              "      <th>face_id</th>\n",
              "      <th>timestamp</th>\n",
              "      <th>confidence</th>\n",
              "      <th>success</th>\n",
              "      <th>gaze_0_x</th>\n",
              "      <th>gaze_0_y</th>\n",
              "      <th>gaze_0_z</th>\n",
              "      <th>gaze_1_x</th>\n",
              "      <th>gaze_1_y</th>\n",
              "      <th>gaze_1_z</th>\n",
              "      <th>gaze_angle_x</th>\n",
              "      <th>gaze_angle_y</th>\n",
              "      <th>eye_lmk_x_0</th>\n",
              "      <th>eye_lmk_x_1</th>\n",
              "      <th>eye_lmk_x_2</th>\n",
              "      <th>eye_lmk_x_3</th>\n",
              "      <th>eye_lmk_x_4</th>\n",
              "      <th>eye_lmk_x_5</th>\n",
              "      <th>eye_lmk_x_6</th>\n",
              "      <th>eye_lmk_x_7</th>\n",
              "      <th>eye_lmk_x_8</th>\n",
              "      <th>eye_lmk_x_9</th>\n",
              "      <th>eye_lmk_x_10</th>\n",
              "      <th>eye_lmk_x_11</th>\n",
              "      <th>eye_lmk_x_12</th>\n",
              "      <th>eye_lmk_x_13</th>\n",
              "      <th>eye_lmk_x_14</th>\n",
              "      <th>eye_lmk_x_15</th>\n",
              "      <th>eye_lmk_x_16</th>\n",
              "      <th>eye_lmk_x_17</th>\n",
              "      <th>eye_lmk_x_18</th>\n",
              "      <th>eye_lmk_x_19</th>\n",
              "      <th>eye_lmk_x_20</th>\n",
              "      <th>eye_lmk_x_21</th>\n",
              "      <th>eye_lmk_x_22</th>\n",
              "      <th>eye_lmk_x_23</th>\n",
              "      <th>eye_lmk_x_24</th>\n",
              "      <th>...</th>\n",
              "      <th>hr_point7_c</th>\n",
              "      <th>hr_point8_x</th>\n",
              "      <th>hr_point8_y</th>\n",
              "      <th>hr_point8_c</th>\n",
              "      <th>hr_point9_x</th>\n",
              "      <th>hr_point9_y</th>\n",
              "      <th>hr_point9_c</th>\n",
              "      <th>hr_point10_x</th>\n",
              "      <th>hr_point10_y</th>\n",
              "      <th>hr_point10_c</th>\n",
              "      <th>hr_point11_x</th>\n",
              "      <th>hr_point11_y</th>\n",
              "      <th>hr_point11_c</th>\n",
              "      <th>hr_point12_x</th>\n",
              "      <th>hr_point12_y</th>\n",
              "      <th>hr_point12_c</th>\n",
              "      <th>hr_point13_x</th>\n",
              "      <th>hr_point13_y</th>\n",
              "      <th>hr_point13_c</th>\n",
              "      <th>hr_point14_x</th>\n",
              "      <th>hr_point14_y</th>\n",
              "      <th>hr_point14_c</th>\n",
              "      <th>hr_point15_x</th>\n",
              "      <th>hr_point15_y</th>\n",
              "      <th>hr_point15_c</th>\n",
              "      <th>hr_point16_x</th>\n",
              "      <th>hr_point16_y</th>\n",
              "      <th>hr_point16_c</th>\n",
              "      <th>hr_point17_x</th>\n",
              "      <th>hr_point17_y</th>\n",
              "      <th>hr_point17_c</th>\n",
              "      <th>hr_point18_x</th>\n",
              "      <th>hr_point18_y</th>\n",
              "      <th>hr_point18_c</th>\n",
              "      <th>hr_point19_x</th>\n",
              "      <th>hr_point19_y</th>\n",
              "      <th>hr_point19_c</th>\n",
              "      <th>hr_point20_x</th>\n",
              "      <th>hr_point20_y</th>\n",
              "      <th>hr_point20_c</th>\n",
              "    </tr>\n",
              "  </thead>\n",
              "  <tbody>\n",
              "    <tr>\n",
              "      <th>0</th>\n",
              "      <td>0</td>\n",
              "      <td>0</td>\n",
              "      <td>1</td>\n",
              "      <td>0</td>\n",
              "      <td>0.00</td>\n",
              "      <td>0.98</td>\n",
              "      <td>1</td>\n",
              "      <td>0.252709</td>\n",
              "      <td>0.591373</td>\n",
              "      <td>-0.765778</td>\n",
              "      <td>-0.010047</td>\n",
              "      <td>0.506404</td>\n",
              "      <td>-0.862238</td>\n",
              "      <td>0.148</td>\n",
              "      <td>0.593</td>\n",
              "      <td>618.2</td>\n",
              "      <td>621.8</td>\n",
              "      <td>627.1</td>\n",
              "      <td>631.2</td>\n",
              "      <td>631.5</td>\n",
              "      <td>628.0</td>\n",
              "      <td>622.5</td>\n",
              "      <td>618.5</td>\n",
              "      <td>611.1</td>\n",
              "      <td>615.5</td>\n",
              "      <td>620.3</td>\n",
              "      <td>625.4</td>\n",
              "      <td>630.0</td>\n",
              "      <td>633.2</td>\n",
              "      <td>635.1</td>\n",
              "      <td>631.9</td>\n",
              "      <td>627.8</td>\n",
              "      <td>622.9</td>\n",
              "      <td>618.3</td>\n",
              "      <td>614.2</td>\n",
              "      <td>621.7</td>\n",
              "      <td>623.6</td>\n",
              "      <td>626.0</td>\n",
              "      <td>627.6</td>\n",
              "      <td>627.5</td>\n",
              "      <td>...</td>\n",
              "      <td>0.000000</td>\n",
              "      <td>0.000</td>\n",
              "      <td>0.000</td>\n",
              "      <td>0.000000</td>\n",
              "      <td>0.000</td>\n",
              "      <td>0.000</td>\n",
              "      <td>0.000000</td>\n",
              "      <td>0.000</td>\n",
              "      <td>0.000</td>\n",
              "      <td>0.000000</td>\n",
              "      <td>0.000</td>\n",
              "      <td>0.000</td>\n",
              "      <td>0.000000</td>\n",
              "      <td>0.000</td>\n",
              "      <td>0.000</td>\n",
              "      <td>0.000000</td>\n",
              "      <td>0.000</td>\n",
              "      <td>0.000</td>\n",
              "      <td>0.000000</td>\n",
              "      <td>0.000</td>\n",
              "      <td>0.000</td>\n",
              "      <td>0.000000</td>\n",
              "      <td>0.000</td>\n",
              "      <td>0.000</td>\n",
              "      <td>0.000000</td>\n",
              "      <td>0.000</td>\n",
              "      <td>0.000</td>\n",
              "      <td>0.000000</td>\n",
              "      <td>0.000</td>\n",
              "      <td>0.000</td>\n",
              "      <td>0.000000</td>\n",
              "      <td>0.000</td>\n",
              "      <td>0.000</td>\n",
              "      <td>0.000000</td>\n",
              "      <td>0.000</td>\n",
              "      <td>0.000</td>\n",
              "      <td>0.000000</td>\n",
              "      <td>0.000</td>\n",
              "      <td>0.000</td>\n",
              "      <td>0.000000</td>\n",
              "    </tr>\n",
              "    <tr>\n",
              "      <th>1</th>\n",
              "      <td>1</td>\n",
              "      <td>1</td>\n",
              "      <td>2</td>\n",
              "      <td>0</td>\n",
              "      <td>0.04</td>\n",
              "      <td>0.98</td>\n",
              "      <td>1</td>\n",
              "      <td>0.273988</td>\n",
              "      <td>0.652730</td>\n",
              "      <td>-0.706310</td>\n",
              "      <td>-0.046856</td>\n",
              "      <td>0.572899</td>\n",
              "      <td>-0.818286</td>\n",
              "      <td>0.148</td>\n",
              "      <td>0.677</td>\n",
              "      <td>622.1</td>\n",
              "      <td>625.0</td>\n",
              "      <td>629.6</td>\n",
              "      <td>633.2</td>\n",
              "      <td>633.7</td>\n",
              "      <td>630.9</td>\n",
              "      <td>626.2</td>\n",
              "      <td>622.6</td>\n",
              "      <td>614.1</td>\n",
              "      <td>618.3</td>\n",
              "      <td>622.9</td>\n",
              "      <td>627.8</td>\n",
              "      <td>632.1</td>\n",
              "      <td>634.9</td>\n",
              "      <td>636.6</td>\n",
              "      <td>634.5</td>\n",
              "      <td>631.3</td>\n",
              "      <td>626.9</td>\n",
              "      <td>622.3</td>\n",
              "      <td>617.9</td>\n",
              "      <td>625.2</td>\n",
              "      <td>626.8</td>\n",
              "      <td>628.8</td>\n",
              "      <td>630.0</td>\n",
              "      <td>629.8</td>\n",
              "      <td>...</td>\n",
              "      <td>0.008867</td>\n",
              "      <td>292.673</td>\n",
              "      <td>805.203</td>\n",
              "      <td>0.006272</td>\n",
              "      <td>322.261</td>\n",
              "      <td>742.081</td>\n",
              "      <td>0.012525</td>\n",
              "      <td>315.358</td>\n",
              "      <td>791.395</td>\n",
              "      <td>0.006488</td>\n",
              "      <td>315.358</td>\n",
              "      <td>802.244</td>\n",
              "      <td>0.007025</td>\n",
              "      <td>297.605</td>\n",
              "      <td>804.217</td>\n",
              "      <td>0.005436</td>\n",
              "      <td>315.358</td>\n",
              "      <td>736.164</td>\n",
              "      <td>0.016124</td>\n",
              "      <td>314.371</td>\n",
              "      <td>790.409</td>\n",
              "      <td>0.008238</td>\n",
              "      <td>313.385</td>\n",
              "      <td>799.285</td>\n",
              "      <td>0.008992</td>\n",
              "      <td>299.577</td>\n",
              "      <td>801.258</td>\n",
              "      <td>0.006138</td>\n",
              "      <td>316.344</td>\n",
              "      <td>732.218</td>\n",
              "      <td>0.022193</td>\n",
              "      <td>279.852</td>\n",
              "      <td>759.834</td>\n",
              "      <td>0.010218</td>\n",
              "      <td>297.605</td>\n",
              "      <td>790.409</td>\n",
              "      <td>0.008342</td>\n",
              "      <td>290.701</td>\n",
              "      <td>789.422</td>\n",
              "      <td>0.006139</td>\n",
              "    </tr>\n",
              "    <tr>\n",
              "      <th>2</th>\n",
              "      <td>2</td>\n",
              "      <td>2</td>\n",
              "      <td>3</td>\n",
              "      <td>0</td>\n",
              "      <td>0.08</td>\n",
              "      <td>0.98</td>\n",
              "      <td>1</td>\n",
              "      <td>0.292067</td>\n",
              "      <td>0.650612</td>\n",
              "      <td>-0.701000</td>\n",
              "      <td>-0.000686</td>\n",
              "      <td>0.551724</td>\n",
              "      <td>-0.834027</td>\n",
              "      <td>0.188</td>\n",
              "      <td>0.664</td>\n",
              "      <td>625.4</td>\n",
              "      <td>628.3</td>\n",
              "      <td>632.9</td>\n",
              "      <td>636.5</td>\n",
              "      <td>636.9</td>\n",
              "      <td>634.1</td>\n",
              "      <td>629.4</td>\n",
              "      <td>625.8</td>\n",
              "      <td>617.0</td>\n",
              "      <td>621.3</td>\n",
              "      <td>626.0</td>\n",
              "      <td>631.0</td>\n",
              "      <td>635.2</td>\n",
              "      <td>638.0</td>\n",
              "      <td>639.6</td>\n",
              "      <td>637.5</td>\n",
              "      <td>634.2</td>\n",
              "      <td>629.8</td>\n",
              "      <td>625.2</td>\n",
              "      <td>620.8</td>\n",
              "      <td>628.4</td>\n",
              "      <td>630.0</td>\n",
              "      <td>632.0</td>\n",
              "      <td>633.2</td>\n",
              "      <td>633.0</td>\n",
              "      <td>...</td>\n",
              "      <td>0.000000</td>\n",
              "      <td>0.000</td>\n",
              "      <td>0.000</td>\n",
              "      <td>0.000000</td>\n",
              "      <td>0.000</td>\n",
              "      <td>0.000</td>\n",
              "      <td>0.000000</td>\n",
              "      <td>0.000</td>\n",
              "      <td>0.000</td>\n",
              "      <td>0.000000</td>\n",
              "      <td>0.000</td>\n",
              "      <td>0.000</td>\n",
              "      <td>0.000000</td>\n",
              "      <td>0.000</td>\n",
              "      <td>0.000</td>\n",
              "      <td>0.000000</td>\n",
              "      <td>0.000</td>\n",
              "      <td>0.000</td>\n",
              "      <td>0.000000</td>\n",
              "      <td>0.000</td>\n",
              "      <td>0.000</td>\n",
              "      <td>0.000000</td>\n",
              "      <td>0.000</td>\n",
              "      <td>0.000</td>\n",
              "      <td>0.000000</td>\n",
              "      <td>0.000</td>\n",
              "      <td>0.000</td>\n",
              "      <td>0.000000</td>\n",
              "      <td>0.000</td>\n",
              "      <td>0.000</td>\n",
              "      <td>0.000000</td>\n",
              "      <td>0.000</td>\n",
              "      <td>0.000</td>\n",
              "      <td>0.000000</td>\n",
              "      <td>0.000</td>\n",
              "      <td>0.000</td>\n",
              "      <td>0.000000</td>\n",
              "      <td>0.000</td>\n",
              "      <td>0.000</td>\n",
              "      <td>0.000000</td>\n",
              "    </tr>\n",
              "    <tr>\n",
              "      <th>3</th>\n",
              "      <td>3</td>\n",
              "      <td>3</td>\n",
              "      <td>4</td>\n",
              "      <td>0</td>\n",
              "      <td>0.12</td>\n",
              "      <td>0.98</td>\n",
              "      <td>1</td>\n",
              "      <td>0.159617</td>\n",
              "      <td>0.636737</td>\n",
              "      <td>-0.754380</td>\n",
              "      <td>0.007566</td>\n",
              "      <td>0.534840</td>\n",
              "      <td>-0.844920</td>\n",
              "      <td>0.104</td>\n",
              "      <td>0.632</td>\n",
              "      <td>626.8</td>\n",
              "      <td>629.9</td>\n",
              "      <td>635.1</td>\n",
              "      <td>639.3</td>\n",
              "      <td>640.1</td>\n",
              "      <td>637.1</td>\n",
              "      <td>631.7</td>\n",
              "      <td>627.5</td>\n",
              "      <td>620.8</td>\n",
              "      <td>624.9</td>\n",
              "      <td>629.5</td>\n",
              "      <td>634.5</td>\n",
              "      <td>639.2</td>\n",
              "      <td>642.6</td>\n",
              "      <td>644.8</td>\n",
              "      <td>641.9</td>\n",
              "      <td>638.0</td>\n",
              "      <td>633.1</td>\n",
              "      <td>628.4</td>\n",
              "      <td>624.3</td>\n",
              "      <td>630.6</td>\n",
              "      <td>632.5</td>\n",
              "      <td>634.8</td>\n",
              "      <td>636.2</td>\n",
              "      <td>635.9</td>\n",
              "      <td>...</td>\n",
              "      <td>0.000000</td>\n",
              "      <td>0.000</td>\n",
              "      <td>0.000</td>\n",
              "      <td>0.000000</td>\n",
              "      <td>0.000</td>\n",
              "      <td>0.000</td>\n",
              "      <td>0.000000</td>\n",
              "      <td>0.000</td>\n",
              "      <td>0.000</td>\n",
              "      <td>0.000000</td>\n",
              "      <td>0.000</td>\n",
              "      <td>0.000</td>\n",
              "      <td>0.000000</td>\n",
              "      <td>0.000</td>\n",
              "      <td>0.000</td>\n",
              "      <td>0.000000</td>\n",
              "      <td>0.000</td>\n",
              "      <td>0.000</td>\n",
              "      <td>0.000000</td>\n",
              "      <td>0.000</td>\n",
              "      <td>0.000</td>\n",
              "      <td>0.000000</td>\n",
              "      <td>0.000</td>\n",
              "      <td>0.000</td>\n",
              "      <td>0.000000</td>\n",
              "      <td>0.000</td>\n",
              "      <td>0.000</td>\n",
              "      <td>0.000000</td>\n",
              "      <td>0.000</td>\n",
              "      <td>0.000</td>\n",
              "      <td>0.000000</td>\n",
              "      <td>0.000</td>\n",
              "      <td>0.000</td>\n",
              "      <td>0.000000</td>\n",
              "      <td>0.000</td>\n",
              "      <td>0.000</td>\n",
              "      <td>0.000000</td>\n",
              "      <td>0.000</td>\n",
              "      <td>0.000</td>\n",
              "      <td>0.000000</td>\n",
              "    </tr>\n",
              "    <tr>\n",
              "      <th>4</th>\n",
              "      <td>4</td>\n",
              "      <td>4</td>\n",
              "      <td>5</td>\n",
              "      <td>0</td>\n",
              "      <td>0.16</td>\n",
              "      <td>0.98</td>\n",
              "      <td>1</td>\n",
              "      <td>0.134459</td>\n",
              "      <td>0.630543</td>\n",
              "      <td>-0.764419</td>\n",
              "      <td>0.032191</td>\n",
              "      <td>0.521385</td>\n",
              "      <td>-0.852714</td>\n",
              "      <td>0.103</td>\n",
              "      <td>0.619</td>\n",
              "      <td>629.9</td>\n",
              "      <td>633.1</td>\n",
              "      <td>638.5</td>\n",
              "      <td>642.8</td>\n",
              "      <td>643.6</td>\n",
              "      <td>640.5</td>\n",
              "      <td>634.9</td>\n",
              "      <td>630.6</td>\n",
              "      <td>623.8</td>\n",
              "      <td>628.2</td>\n",
              "      <td>633.1</td>\n",
              "      <td>638.5</td>\n",
              "      <td>643.4</td>\n",
              "      <td>646.8</td>\n",
              "      <td>649.0</td>\n",
              "      <td>646.0</td>\n",
              "      <td>641.9</td>\n",
              "      <td>636.8</td>\n",
              "      <td>631.9</td>\n",
              "      <td>627.4</td>\n",
              "      <td>633.9</td>\n",
              "      <td>635.8</td>\n",
              "      <td>638.1</td>\n",
              "      <td>639.6</td>\n",
              "      <td>639.2</td>\n",
              "      <td>...</td>\n",
              "      <td>0.009135</td>\n",
              "      <td>370.110</td>\n",
              "      <td>797.743</td>\n",
              "      <td>0.006603</td>\n",
              "      <td>367.296</td>\n",
              "      <td>739.589</td>\n",
              "      <td>0.014127</td>\n",
              "      <td>393.559</td>\n",
              "      <td>753.658</td>\n",
              "      <td>0.010019</td>\n",
              "      <td>381.365</td>\n",
              "      <td>788.363</td>\n",
              "      <td>0.007215</td>\n",
              "      <td>371.986</td>\n",
              "      <td>797.743</td>\n",
              "      <td>0.006379</td>\n",
              "      <td>350.412</td>\n",
              "      <td>744.278</td>\n",
              "      <td>0.021773</td>\n",
              "      <td>386.993</td>\n",
              "      <td>743.340</td>\n",
              "      <td>0.012216</td>\n",
              "      <td>368.234</td>\n",
              "      <td>787.425</td>\n",
              "      <td>0.010260</td>\n",
              "      <td>364.482</td>\n",
              "      <td>792.115</td>\n",
              "      <td>0.008984</td>\n",
              "      <td>349.474</td>\n",
              "      <td>736.775</td>\n",
              "      <td>0.032525</td>\n",
              "      <td>334.467</td>\n",
              "      <td>772.418</td>\n",
              "      <td>0.012175</td>\n",
              "      <td>330.715</td>\n",
              "      <td>780.859</td>\n",
              "      <td>0.013175</td>\n",
              "      <td>338.218</td>\n",
              "      <td>782.735</td>\n",
              "      <td>0.009228</td>\n",
              "    </tr>\n",
              "  </tbody>\n",
              "</table>\n",
              "<p>5 rows × 1130 columns</p>\n",
              "</div>"
            ],
            "text/plain": [
              "   Unnamed: 0  Unnamed: 0.1  frame  ...  hr_point20_x  hr_point20_y  hr_point20_c\n",
              "0           0             0      1  ...         0.000         0.000      0.000000\n",
              "1           1             1      2  ...       290.701       789.422      0.006139\n",
              "2           2             2      3  ...         0.000         0.000      0.000000\n",
              "3           3             3      4  ...         0.000         0.000      0.000000\n",
              "4           4             4      5  ...       338.218       782.735      0.009228\n",
              "\n",
              "[5 rows x 1130 columns]"
            ]
          },
          "metadata": {},
          "execution_count": 5
        }
      ]
    },
    {
      "cell_type": "code",
      "metadata": {
        "colab": {
          "base_uri": "https://localhost:8080/"
        },
        "id": "VHZWvqhnuD3B",
        "outputId": "06071482-c20b-40c8-9639-9fda0bae8e9f"
      },
      "source": [
        "df[\"emotion\"].head()"
      ],
      "execution_count": null,
      "outputs": [
        {
          "output_type": "execute_result",
          "data": {
            "text/plain": [
              "0    ambiguous\n",
              "1    ambiguous\n",
              "2    ambiguous\n",
              "3    ambiguous\n",
              "4    ambiguous\n",
              "Name: emotion, dtype: object"
            ]
          },
          "metadata": {},
          "execution_count": 6
        }
      ]
    },
    {
      "cell_type": "code",
      "metadata": {
        "colab": {
          "base_uri": "https://localhost:8080/",
          "height": 301
        },
        "id": "JWluioXCcdQt",
        "outputId": "6dd3d60f-362c-4e03-d670-71fe80cc9621"
      },
      "source": [
        "# EDA and Preprocessing\n",
        "# Class Distribution\n",
        "sns.countplot(x = 'emotion', data=df)"
      ],
      "execution_count": null,
      "outputs": [
        {
          "output_type": "execute_result",
          "data": {
            "text/plain": [
              "<matplotlib.axes._subplots.AxesSubplot at 0x7fcba39cde50>"
            ]
          },
          "metadata": {},
          "execution_count": 7
        },
        {
          "output_type": "display_data",
          "data": {
            "image/png": "[encoded data removed]",
            "text/plain": [
              "<Figure size 432x288 with 1 Axes>"
            ]
          },
          "metadata": {}
        }
      ]
    },
    {
      "cell_type": "code",
      "metadata": {
        "id": "LtiKJCHlcepf"
      },
      "source": [
        "# Encode Output Class\n",
        "class2idx = {\n",
        "    'ambiguous':0,\n",
        "    'negative':1,\n",
        "    'neutral':2,\n",
        "    'positive':3\n",
        "}\n",
        "\n",
        "idx2class = {v: k for k, v in class2idx.items()}\n",
        "\n",
        "df['emotion'].replace(class2idx, inplace=True)"
      ],
      "execution_count": null,
      "outputs": []
    },
    {
      "cell_type": "code",
      "metadata": {
        "colab": {
          "base_uri": "https://localhost:8080/"
        },
        "id": "d2H7u7OxcgS9",
        "outputId": "a8889a41-89e0-4004-857c-397add965c80"
      },
      "source": [
        "df[\"emotion\"].head()"
      ],
      "execution_count": null,
      "outputs": [
        {
          "output_type": "execute_result",
          "data": {
            "text/plain": [
              "0    0\n",
              "1    0\n",
              "2    0\n",
              "3    0\n",
              "4    0\n",
              "Name: emotion, dtype: int64"
            ]
          },
          "metadata": {},
          "execution_count": 9
        }
      ]
    },
    {
      "cell_type": "code",
      "metadata": {
        "id": "hsie9O9vc1Xw",
        "colab": {
          "base_uri": "https://localhost:8080/"
        },
        "outputId": "0c8e8129-c26a-4883-e43f-8c466abd2d33"
      },
      "source": [
        "X = df.drop([\"Unnamed: 0\",\"Unnamed: 0.1\",\"frame\",\"emotion\",\"filename\",\"videoname\"],axis=1)\n",
        "y = df[\"emotion\"]\n",
        "print (X.head())\n",
        "print (y.head())"
      ],
      "execution_count": null,
      "outputs": [
        {
          "output_type": "stream",
          "name": "stdout",
          "text": [
            "   face_id  timestamp  confidence  ...  hr_point20_x  hr_point20_y  hr_point20_c\n",
            "0        0       0.00        0.98  ...         0.000         0.000      0.000000\n",
            "1        0       0.04        0.98  ...       290.701       789.422      0.006139\n",
            "2        0       0.08        0.98  ...         0.000         0.000      0.000000\n",
            "3        0       0.12        0.98  ...         0.000         0.000      0.000000\n",
            "4        0       0.16        0.98  ...       338.218       782.735      0.009228\n",
            "\n",
            "[5 rows x 1124 columns]\n",
            "0    0\n",
            "1    0\n",
            "2    0\n",
            "3    0\n",
            "4    0\n",
            "Name: emotion, dtype: int64\n"
          ]
        }
      ]
    },
    {
      "cell_type": "code",
      "metadata": {
        "id": "YSXzGmydc69z"
      },
      "source": [
        "# Train — Validation — Test\n",
        "# Split into train+val and test\n",
        "X_trainval, X_test, y_trainval, y_test = train_test_split(X, y, test_size=0.2, stratify=y, random_state=69)\n",
        "\n",
        "# Split train into train-val\n",
        "X_train, X_val, y_train, y_val = train_test_split(X_trainval, y_trainval, test_size=0.1, stratify=y_trainval, random_state=21)"
      ],
      "execution_count": null,
      "outputs": []
    },
    {
      "cell_type": "code",
      "metadata": {
        "id": "sJKAeoMsc89A"
      },
      "source": [
        "# Normalize Input\n",
        "scaler = MinMaxScaler()\n",
        "\n",
        "X_train = scaler.fit_transform(X_train)\n",
        "X_val = scaler.transform(X_val)\n",
        "X_test = scaler.transform(X_test)\n",
        "\n",
        "X_train, y_train = np.array(X_train), np.array(y_train)\n",
        "X_val, y_val = np.array(X_val), np.array(y_val)\n",
        "X_test, y_test = np.array(X_test), np.array(y_test)"
      ],
      "execution_count": null,
      "outputs": []
    },
    {
      "cell_type": "code",
      "metadata": {
        "id": "TZyl37utdGQf"
      },
      "source": [
        "def get_class_distribution(obj):\n",
        "    count_dict = {        \n",
        "    'ambiguous':0,\n",
        "    'negative':0,\n",
        "    'neutral':0,\n",
        "    'positive':0,\n",
        "    }\n",
        "    \n",
        "    for i in obj:\n",
        "        if i == 0: \n",
        "            count_dict['ambiguous'] += 1\n",
        "        elif i == 1: \n",
        "            count_dict['negative'] += 1\n",
        "        elif i == 2: \n",
        "            count_dict['neutral'] += 1\n",
        "        elif i == 3: \n",
        "            count_dict['positive'] += 1           \n",
        "        else:\n",
        "            print(\"Check classes.\")\n",
        "            \n",
        "    return count_dict"
      ],
      "execution_count": null,
      "outputs": []
    },
    {
      "cell_type": "code",
      "metadata": {
        "colab": {
          "base_uri": "https://localhost:8080/",
          "height": 479
        },
        "id": "nwG8gNHDdJDk",
        "outputId": "b7ecf316-4012-48f2-a21c-30358a1c3cd6"
      },
      "source": [
        "fig, axes = plt.subplots(nrows=1, ncols=3, figsize=(25,7))\n",
        "# Train\n",
        "sns.barplot(data = pd.DataFrame.from_dict([get_class_distribution(y_train)]).melt(), x = \"variable\", y=\"value\", hue=\"variable\",  ax=axes[0]).set_title('Class Distribution in Train Set')\n",
        "# Validation\n",
        "sns.barplot(data = pd.DataFrame.from_dict([get_class_distribution(y_val)]).melt(), x = \"variable\", y=\"value\", hue=\"variable\",  ax=axes[1]).set_title('Class Distribution in Val Set')\n",
        "# Test\n",
        "sns.barplot(data = pd.DataFrame.from_dict([get_class_distribution(y_test)]).melt(), x = \"variable\", y=\"value\", hue=\"variable\",  ax=axes[2]).set_title('Class Distribution in Test Set')"
      ],
      "execution_count": null,
      "outputs": [
        {
          "output_type": "execute_result",
          "data": {
            "text/plain": [
              "Text(0.5, 1.0, 'Class Distribution in Test Set')"
            ]
          },
          "metadata": {},
          "execution_count": 14
        },
        {
          "output_type": "display_data",
          "data": {
            "image/png": "[encoded data removed]",
            "text/plain": [
              "<Figure size 1800x504 with 3 Axes>"
            ]
          },
          "metadata": {}
        }
      ]
    },
    {
      "cell_type": "code",
      "metadata": {
        "colab": {
          "base_uri": "https://localhost:8080/",
          "height": 445
        },
        "id": "GSG2acQHuWDZ",
        "outputId": "9c91e29d-d9c9-4c83-f878-ab7e5e652409"
      },
      "source": [
        "fig, axes = plt.subplots(nrows=1, ncols=3, figsize=(25,7))\n",
        "# Train\n",
        "#sns.barplot(data = pd.DataFrame.from_dict([get_class_distribution(y_train)]).melt(), x = \"variable\", y=\"value\", hue=\"variable\",  ax=axes[0]).set_title('Class Distribution in Train Set')\n",
        "axes[0].pie((pd.DataFrame.from_dict([get_class_distribution(y_train)])).melt()[\"value\"],\n",
        "       labels=(pd.DataFrame.from_dict([get_class_distribution(y_train)])).melt()[\"variable\"], counterclock=False, startangle=90,autopct='%1.1f%%', pctdistance=0.7)\n",
        "axes[0].set_title(\"Class Distribution in Train Set\")\n",
        "\n",
        "# Validation\n",
        "axes[1].pie((pd.DataFrame.from_dict([get_class_distribution(y_val)])).melt()[\"value\"],\n",
        "       labels=(pd.DataFrame.from_dict([get_class_distribution(y_val)])).melt()[\"variable\"], counterclock=False, startangle=90,autopct='%1.1f%%', pctdistance=0.7)\n",
        "axes[1].set_title(\"Class Distribution in Validation Set\")\n",
        "# Test\n",
        "axes[2].pie((pd.DataFrame.from_dict([get_class_distribution(y_test)])).melt()[\"value\"],\n",
        "       labels=(pd.DataFrame.from_dict([get_class_distribution(y_test)])).melt()[\"variable\"], counterclock=False, startangle=90,autopct='%1.1f%%', pctdistance=0.7)\n",
        "axes[2].set_title(\"Class Distribution in Test Set\")"
      ],
      "execution_count": null,
      "outputs": [
        {
          "output_type": "execute_result",
          "data": {
            "text/plain": [
              "Text(0.5, 1.0, 'Class Distribution in Test Set')"
            ]
          },
          "metadata": {},
          "execution_count": 15
        },
        {
          "output_type": "display_data",
          "data": {
            "image/png": "[encoded data removed]",
            "text/plain": [
              "<Figure size 1800x504 with 3 Axes>"
            ]
          },
          "metadata": {}
        }
      ]
    },
    {
      "cell_type": "code",
      "metadata": {
        "id": "yIW2Bp0vdKZt"
      },
      "source": [
        "# Neural Network\n",
        "# Custom Dataset\n",
        "class ClassifierDataset(Dataset):\n",
        "    \n",
        "    def __init__(self, X_data, y_data):\n",
        "        self.X_data = X_data\n",
        "        self.y_data = y_data\n",
        "        \n",
        "    def __getitem__(self, index):\n",
        "        return self.X_data[index], self.y_data[index]\n",
        "        \n",
        "    def __len__ (self):\n",
        "        return len(self.X_data)\n",
        "\n",
        "\n",
        "train_dataset = ClassifierDataset(torch.from_numpy(X_train).float(), torch.from_numpy(y_train).long())\n",
        "val_dataset = ClassifierDataset(torch.from_numpy(X_val).float(), torch.from_numpy(y_val).long())\n",
        "test_dataset = ClassifierDataset(torch.from_numpy(X_test).float(), torch.from_numpy(y_test).long())"
      ],
      "execution_count": null,
      "outputs": []
    },
    {
      "cell_type": "code",
      "metadata": {
        "id": "j8OSShNidT1i"
      },
      "source": [
        "# Model Parameters\n",
        "EPOCHS = 300 #original 300\n",
        "BATCH_SIZE = 32 #original 16\n",
        "LEARNING_RATE = 0.01\n",
        "\n",
        "NUM_FEATURES = len(X.columns)\n",
        "NUM_CLASSES = 4"
      ],
      "execution_count": null,
      "outputs": []
    },
    {
      "cell_type": "code",
      "metadata": {
        "id": "gTd0QyabdeHA"
      },
      "source": [
        "# Dataloader\n",
        "train_loader = DataLoader(\n",
        "    dataset = train_dataset,\n",
        "    batch_size = BATCH_SIZE,\n",
        "    shuffle=True\n",
        "    #sampler = weighted_sampler\n",
        ")\n",
        "\n",
        "val_loader = DataLoader(dataset = val_dataset, batch_size=1, shuffle=True)\n",
        "test_loader = DataLoader(dataset = test_dataset, batch_size=1, shuffle=False)"
      ],
      "execution_count": null,
      "outputs": []
    },
    {
      "cell_type": "code",
      "metadata": {
        "colab": {
          "base_uri": "https://localhost:8080/"
        },
        "id": "-9wix1k0doBm",
        "outputId": "97fd4391-2f5b-4e6b-9a42-0bd26cf6c6a4"
      },
      "source": [
        "class MulticlassClassification(nn.Module):\n",
        "    def __init__(self, num_feature, num_class):\n",
        "        super(MulticlassClassification, self).__init__()\n",
        "        self.fc1 = nn.Linear(num_feature, 400)  # All bonding layers\n",
        "        self.fc2 = nn.Linear(400, 200)\n",
        "        self.fc3 = nn.Linear(200, num_class)\n",
        "\n",
        "        self.batchnorm1 = nn.BatchNorm1d(200)\n",
        "\n",
        "    def forward(self, x):# number of inputs\n",
        "        x = F.relu(self.fc1(x))\n",
        "        x = F.relu(self.fc2(x))\n",
        "        #x = self.batchnorm1(x)\n",
        "        x = self.fc3(x)\n",
        "        return F.log_softmax(x, dim=1)\n",
        "\n",
        "model = MulticlassClassification(num_feature = NUM_FEATURES, num_class=NUM_CLASSES)\n",
        "model.cuda()  # GPU\n",
        "print(model)"
      ],
      "execution_count": null,
      "outputs": [
        {
          "output_type": "stream",
          "name": "stdout",
          "text": [
            "MulticlassClassification(\n",
            "  (fc1): Linear(in_features=1124, out_features=400, bias=True)\n",
            "  (fc2): Linear(in_features=400, out_features=200, bias=True)\n",
            "  (fc3): Linear(in_features=200, out_features=4, bias=True)\n",
            "  (batchnorm1): BatchNorm1d(200, eps=1e-05, momentum=0.1, affine=True, track_running_stats=True)\n",
            ")\n"
          ]
        }
      ]
    },
    {
      "cell_type": "code",
      "metadata": {
        "id": "5IpydzVLez4M"
      },
      "source": [
        "# Cross-entropy error function\n",
        "loss_fnc = nn.CrossEntropyLoss()\n",
        "\n",
        "# SGD\n",
        "optimizer = optim.SGD(model.parameters(), lr=LEARNING_RATE)"
      ],
      "execution_count": null,
      "outputs": []
    },
    {
      "cell_type": "code",
      "metadata": {
        "colab": {
          "base_uri": "https://localhost:8080/",
          "height": 559,
          "referenced_widgets": [
            "b6418920b40d4d56a252f682e443ee8c",
            "a8c680b31294471cb5a7e18198f8e182",
            "6472b82c22694a2292d2c72c5750fbbb",
            "4130644750864a509fc597740fa65195",
            "83693f74a82a408ca50284cc1d14c62e",
            "36744b37a54a4c87a67d1437985f4df8",
            "a5bc234b050c4cab83e26513745156b8",
            "4bc51b3bc68344c3b2ef5dfb27acf273",
            "ecf3b453981342128a19f9912492809d",
            "cd7f17a37adb44a8a68343d6bef0eca7",
            "de03fbd927414eb895258539a42c79d0"
          ]
        },
        "id": "MMuwPelCeG1-",
        "outputId": "6648b410-07e6-4597-fc2c-8628d9ddda03"
      },
      "source": [
        "# Loss log\n",
        "record_loss_train = []\n",
        "record_loss_test = []\n",
        "\n",
        "# Learning\n",
        "for e in tqdm(range(1, EPOCHS+1)):  # Epoch Learning\n",
        "\n",
        "    model.train()  # Training mode\n",
        "    loss_train = 0.0\n",
        "    for j, (x, t) in enumerate(train_loader):  # Extract mini-batch (x, t)\n",
        "        x, t = x.cuda(), t.cuda()  # GPU\n",
        "        optimizer.zero_grad()\n",
        "\n",
        "        y = model(x)\n",
        "        loss = loss_fnc(y, t)\n",
        "\n",
        "        loss.backward()\n",
        "        optimizer.step()\n",
        "\n",
        "        loss_train += loss.item()#★どういった値が入るのか？\n",
        "        #pred = torch.argmax(y, dim=1)\n",
        "        #acc_train += torch.mean(pred.eq(t).float())\n",
        "        \n",
        "    loss_train /= j+1\n",
        "    record_loss_train.append(loss_train/len(train_loader))\n",
        "\n",
        "    model.eval()  # validation\n",
        "    loss_val = 0.0\n",
        "\n",
        "    for j, (x, t) in enumerate(val_loader):  # Extract mini-batch (x, t)\n",
        "        x, t = x.cuda(), t.cuda()\n",
        "        y = model(x)\n",
        "        loss = loss_fnc(y, t)\n",
        "        loss_val += loss.item()\n",
        "        #pred = torch.argmax(y, dim=1)\n",
        "        #acc_val += torch.mean(pred.eq(t).float())\n",
        "    \n",
        "\n",
        "    loss_val /= j+1\n",
        "    record_loss_test.append(loss_val/len(val_loader))\n",
        "\n",
        "    if e%10 == 0:\n",
        "        print(\"Epoch:\", e, \"Loss_Train:\", loss_train, \"Loss_Test:\", loss_val)"
      ],
      "execution_count": null,
      "outputs": [
        {
          "output_type": "display_data",
          "data": {
            "application/vnd.jupyter.widget-view+json": {
              "model_id": "b6418920b40d4d56a252f682e443ee8c",
              "version_minor": 0,
              "version_major": 2
            },
            "text/plain": [
              "  0%|          | 0/300 [00:00<?, ?it/s]"
            ]
          },
          "metadata": {}
        },
        {
          "output_type": "stream",
          "name": "stdout",
          "text": [
            "Epoch: 10 Loss_Train: 0.5154311664710056 Loss_Test: 0.5290197848146374\n",
            "Epoch: 20 Loss_Train: 0.4352129172292743 Loss_Test: 0.4356756989874931\n",
            "Epoch: 30 Loss_Train: 0.3707574787308093 Loss_Test: 0.3959567634700635\n",
            "Epoch: 40 Loss_Train: 0.3181051508000767 Loss_Test: 0.3620865402047767\n",
            "Epoch: 50 Loss_Train: 0.2738387340469744 Loss_Test: 0.34024492510365023\n",
            "Epoch: 60 Loss_Train: 0.23781599518891772 Loss_Test: 0.2988433731753702\n",
            "Epoch: 70 Loss_Train: 0.2067956941095551 Loss_Test: 0.29615643409115977\n",
            "Epoch: 80 Loss_Train: 0.18181710443904167 Loss_Test: 0.27587482442725925\n",
            "Epoch: 90 Loss_Train: 0.1626140398084681 Loss_Test: 0.2820161282144902\n",
            "Epoch: 100 Loss_Train: 0.1430090708065335 Loss_Test: 0.24991878994957872\n",
            "Epoch: 110 Loss_Train: 0.12814238591714133 Loss_Test: 0.2419623772486391\n",
            "Epoch: 120 Loss_Train: 0.11754444673943183 Loss_Test: 0.23705180414843022\n",
            "Epoch: 130 Loss_Train: 0.1062253957813134 Loss_Test: 0.2745056085272414\n",
            "Epoch: 140 Loss_Train: 0.0955217766615468 Loss_Test: 0.24262497314637957\n",
            "Epoch: 150 Loss_Train: 0.08573089880442439 Loss_Test: 0.25372719660244153\n",
            "Epoch: 160 Loss_Train: 0.08032530043918286 Loss_Test: 0.2543327339744382\n",
            "Epoch: 170 Loss_Train: 0.07394967600299408 Loss_Test: 0.2522959794790446\n",
            "Epoch: 180 Loss_Train: 0.06799517507853219 Loss_Test: 0.23969732011828065\n",
            "Epoch: 190 Loss_Train: 0.06299730927710813 Loss_Test: 0.26639741520198224\n",
            "Epoch: 200 Loss_Train: 0.05897970714673626 Loss_Test: 0.2610282786927989\n",
            "Epoch: 210 Loss_Train: 0.05362733621188451 Loss_Test: 0.2639624147499096\n",
            "Epoch: 220 Loss_Train: 0.051851687885967765 Loss_Test: 0.28914001930414296\n",
            "Epoch: 230 Loss_Train: 0.05063656773861291 Loss_Test: 0.28913024648385677\n",
            "Epoch: 240 Loss_Train: 0.045308637504134636 Loss_Test: 0.2657350152562889\n",
            "Epoch: 250 Loss_Train: 0.04267797218639982 Loss_Test: 0.27907361798236285\n",
            "Epoch: 260 Loss_Train: 0.040938219086455896 Loss_Test: 0.2858714547022912\n",
            "Epoch: 270 Loss_Train: 0.034501322468526684 Loss_Test: 0.2927185642831231\n",
            "Epoch: 280 Loss_Train: 0.03421805389212572 Loss_Test: 0.3315500243913067\n",
            "Epoch: 290 Loss_Train: 0.03326459769519722 Loss_Test: 0.2880365625187886\n",
            "Epoch: 300 Loss_Train: 0.0344210543730345 Loss_Test: 0.331201600902671\n"
          ]
        }
      ]
    },
    {
      "cell_type": "code",
      "metadata": {
        "id": "R_jV6Cfmj8W6",
        "colab": {
          "base_uri": "https://localhost:8080/",
          "height": 293
        },
        "outputId": "c601283e-f5f8-45bb-eb1c-9bff622ff3e1"
      },
      "source": [
        "import matplotlib.pyplot as plt\n",
        "\n",
        "plt.plot(range(len(record_loss_train)), record_loss_train, label=\"Train\")\n",
        "plt.plot(range(len(record_loss_test)), record_loss_test, label=\"Test\")\n",
        "plt.legend()\n",
        "\n",
        "plt.xlabel(\"Epochs\")\n",
        "plt.ylabel(\"Error\")\n",
        "plt.show()"
      ],
      "execution_count": null,
      "outputs": [
        {
          "output_type": "display_data",
          "data": {
            "image/png": "[encoded data removed]",
            "text/plain": [
              "<Figure size 432x288 with 1 Axes>"
            ]
          },
          "metadata": {}
        }
      ]
    },
    {
      "cell_type": "code",
      "metadata": {
        "id": "PFJDCYJIkCK-",
        "colab": {
          "base_uri": "https://localhost:8080/"
        },
        "outputId": "b7ac70a5-e7aa-47d4-99ed-f7d8a940201d"
      },
      "source": [
        "correct = 0\n",
        "total = 0\n",
        "\n",
        "y_pred = []\n",
        "y_true = []\n",
        "\n",
        "\n",
        "columnlist = list(df.columns)[0:-1]+[\"emotion\",\"label\"]\n",
        "print (columnlist)\n",
        "correctdf = pd.DataFrame(columns=columnlist)\n",
        "faildf = pd.DataFrame(columns=columnlist)\n",
        "correctcount = 0\n",
        "failcount = 0\n",
        "for i, ((x, t)) in enumerate(test_loader):\n",
        "    #print (x[0,:])\n",
        "    x, t = x.cuda(), t.cuda()  # GPU\n",
        "    x = x.view(-1,NUM_FEATURES)\n",
        "    y = model(x)\n",
        "\n",
        "    #output = (torch.max(torch.exp(y), 1)[1]).data.cpu().numpy()\n",
        "    output = (y.argmax(1)).data.cpu().numpy()\n",
        "    y_pred.extend(output) # Save Prediction\n",
        "    #print (output)\n",
        "        \n",
        "    labels = t.data.cpu().numpy()\n",
        "    y_true.extend(labels) # Save Truth\n",
        "    #print (labels)\n",
        "\n",
        "    correct += (y.argmax(1) == t).sum().item()\n",
        "    \n",
        "    # if y.argmax(1)==t and correctcount<1001:\n",
        "    #   temp = [x1.reshape(1,414).tolist()[0]+[output[0],labels[0]]]\n",
        "    #   correctdf = correctdf.append(pd.DataFrame(temp,columns=columnlist))\n",
        "    #   correctcount +=1\n",
        "\n",
        "    # elif y.argmax(1)!=t and failcount<1001:\n",
        "    #   temp = [x1.reshape(1,414).tolist()[0]+[output[0],labels[0]]]\n",
        "    #   #print (temp)\n",
        "    #   faildf = faildf.append(pd.DataFrame(temp,columns=columnlist))\n",
        "    #   failcount +=1\n",
        "\n",
        "    total += len(x)\n",
        "print(\"正解率:\", str(correct/total*100) + \"%\")\n",
        "print(correctdf.head())\n",
        "print(faildf.head())"
      ],
      "execution_count": null,
      "outputs": [
        {
          "output_type": "stream",
          "name": "stdout",
          "text": [
            "['Unnamed: 0', 'Unnamed: 0.1', 'frame', 'face_id', 'timestamp', 'confidence', 'success', 'gaze_0_x', 'gaze_0_y', 'gaze_0_z', 'gaze_1_x', 'gaze_1_y', 'gaze_1_z', 'gaze_angle_x', 'gaze_angle_y', 'eye_lmk_x_0', 'eye_lmk_x_1', 'eye_lmk_x_2', 'eye_lmk_x_3', 'eye_lmk_x_4', 'eye_lmk_x_5', 'eye_lmk_x_6', 'eye_lmk_x_7', 'eye_lmk_x_8', 'eye_lmk_x_9', 'eye_lmk_x_10', 'eye_lmk_x_11', 'eye_lmk_x_12', 'eye_lmk_x_13', 'eye_lmk_x_14', 'eye_lmk_x_15', 'eye_lmk_x_16', 'eye_lmk_x_17', 'eye_lmk_x_18', 'eye_lmk_x_19', 'eye_lmk_x_20', 'eye_lmk_x_21', 'eye_lmk_x_22', 'eye_lmk_x_23', 'eye_lmk_x_24', 'eye_lmk_x_25', 'eye_lmk_x_26', 'eye_lmk_x_27', 'eye_lmk_x_28', 'eye_lmk_x_29', 'eye_lmk_x_30', 'eye_lmk_x_31', 'eye_lmk_x_32', 'eye_lmk_x_33', 'eye_lmk_x_34', 'eye_lmk_x_35', 'eye_lmk_x_36', 'eye_lmk_x_37', 'eye_lmk_x_38', 'eye_lmk_x_39', 'eye_lmk_x_40', 'eye_lmk_x_41', 'eye_lmk_x_42', 'eye_lmk_x_43', 'eye_lmk_x_44', 'eye_lmk_x_45', 'eye_lmk_x_46', 'eye_lmk_x_47', 'eye_lmk_x_48', 'eye_lmk_x_49', 'eye_lmk_x_50', 'eye_lmk_x_51', 'eye_lmk_x_52', 'eye_lmk_x_53', 'eye_lmk_x_54', 'eye_lmk_x_55', 'eye_lmk_y_0', 'eye_lmk_y_1', 'eye_lmk_y_2', 'eye_lmk_y_3', 'eye_lmk_y_4', 'eye_lmk_y_5', 'eye_lmk_y_6', 'eye_lmk_y_7', 'eye_lmk_y_8', 'eye_lmk_y_9', 'eye_lmk_y_10', 'eye_lmk_y_11', 'eye_lmk_y_12', 'eye_lmk_y_13', 'eye_lmk_y_14', 'eye_lmk_y_15', 'eye_lmk_y_16', 'eye_lmk_y_17', 'eye_lmk_y_18', 'eye_lmk_y_19', 'eye_lmk_y_20', 'eye_lmk_y_21', 'eye_lmk_y_22', 'eye_lmk_y_23', 'eye_lmk_y_24', 'eye_lmk_y_25', 'eye_lmk_y_26', 'eye_lmk_y_27', 'eye_lmk_y_28', 'eye_lmk_y_29', 'eye_lmk_y_30', 'eye_lmk_y_31', 'eye_lmk_y_32', 'eye_lmk_y_33', 'eye_lmk_y_34', 'eye_lmk_y_35', 'eye_lmk_y_36', 'eye_lmk_y_37', 'eye_lmk_y_38', 'eye_lmk_y_39', 'eye_lmk_y_40', 'eye_lmk_y_41', 'eye_lmk_y_42', 'eye_lmk_y_43', 'eye_lmk_y_44', 'eye_lmk_y_45', 'eye_lmk_y_46', 'eye_lmk_y_47', 'eye_lmk_y_48', 'eye_lmk_y_49', 'eye_lmk_y_50', 'eye_lmk_y_51', 'eye_lmk_y_52', 'eye_lmk_y_53', 'eye_lmk_y_54', 'eye_lmk_y_55', 'eye_lmk_X_0', 'eye_lmk_X_1', 'eye_lmk_X_2', 'eye_lmk_X_3', 'eye_lmk_X_4', 'eye_lmk_X_5', 'eye_lmk_X_6', 'eye_lmk_X_7', 'eye_lmk_X_8', 'eye_lmk_X_9', 'eye_lmk_X_10', 'eye_lmk_X_11', 'eye_lmk_X_12', 'eye_lmk_X_13', 'eye_lmk_X_14', 'eye_lmk_X_15', 'eye_lmk_X_16', 'eye_lmk_X_17', 'eye_lmk_X_18', 'eye_lmk_X_19', 'eye_lmk_X_20', 'eye_lmk_X_21', 'eye_lmk_X_22', 'eye_lmk_X_23', 'eye_lmk_X_24', 'eye_lmk_X_25', 'eye_lmk_X_26', 'eye_lmk_X_27', 'eye_lmk_X_28', 'eye_lmk_X_29', 'eye_lmk_X_30', 'eye_lmk_X_31', 'eye_lmk_X_32', 'eye_lmk_X_33', 'eye_lmk_X_34', 'eye_lmk_X_35', 'eye_lmk_X_36', 'eye_lmk_X_37', 'eye_lmk_X_38', 'eye_lmk_X_39', 'eye_lmk_X_40', 'eye_lmk_X_41', 'eye_lmk_X_42', 'eye_lmk_X_43', 'eye_lmk_X_44', 'eye_lmk_X_45', 'eye_lmk_X_46', 'eye_lmk_X_47', 'eye_lmk_X_48', 'eye_lmk_X_49', 'eye_lmk_X_50', 'eye_lmk_X_51', 'eye_lmk_X_52', 'eye_lmk_X_53', 'eye_lmk_X_54', 'eye_lmk_X_55', 'eye_lmk_Y_0', 'eye_lmk_Y_1', 'eye_lmk_Y_2', 'eye_lmk_Y_3', 'eye_lmk_Y_4', 'eye_lmk_Y_5', 'eye_lmk_Y_6', 'eye_lmk_Y_7', 'eye_lmk_Y_8', 'eye_lmk_Y_9', 'eye_lmk_Y_10', 'eye_lmk_Y_11', 'eye_lmk_Y_12', 'eye_lmk_Y_13', 'eye_lmk_Y_14', 'eye_lmk_Y_15', 'eye_lmk_Y_16', 'eye_lmk_Y_17', 'eye_lmk_Y_18', 'eye_lmk_Y_19', 'eye_lmk_Y_20', 'eye_lmk_Y_21', 'eye_lmk_Y_22', 'eye_lmk_Y_23', 'eye_lmk_Y_24', 'eye_lmk_Y_25', 'eye_lmk_Y_26', 'eye_lmk_Y_27', 'eye_lmk_Y_28', 'eye_lmk_Y_29', 'eye_lmk_Y_30', 'eye_lmk_Y_31', 'eye_lmk_Y_32', 'eye_lmk_Y_33', 'eye_lmk_Y_34', 'eye_lmk_Y_35', 'eye_lmk_Y_36', 'eye_lmk_Y_37', 'eye_lmk_Y_38', 'eye_lmk_Y_39', 'eye_lmk_Y_40', 'eye_lmk_Y_41', 'eye_lmk_Y_42', 'eye_lmk_Y_43', 'eye_lmk_Y_44', 'eye_lmk_Y_45', 'eye_lmk_Y_46', 'eye_lmk_Y_47', 'eye_lmk_Y_48', 'eye_lmk_Y_49', 'eye_lmk_Y_50', 'eye_lmk_Y_51', 'eye_lmk_Y_52', 'eye_lmk_Y_53', 'eye_lmk_Y_54', 'eye_lmk_Y_55', 'eye_lmk_Z_0', 'eye_lmk_Z_1', 'eye_lmk_Z_2', 'eye_lmk_Z_3', 'eye_lmk_Z_4', 'eye_lmk_Z_5', 'eye_lmk_Z_6', 'eye_lmk_Z_7', 'eye_lmk_Z_8', 'eye_lmk_Z_9', 'eye_lmk_Z_10', 'eye_lmk_Z_11', 'eye_lmk_Z_12', 'eye_lmk_Z_13', 'eye_lmk_Z_14', 'eye_lmk_Z_15', 'eye_lmk_Z_16', 'eye_lmk_Z_17', 'eye_lmk_Z_18', 'eye_lmk_Z_19', 'eye_lmk_Z_20', 'eye_lmk_Z_21', 'eye_lmk_Z_22', 'eye_lmk_Z_23', 'eye_lmk_Z_24', 'eye_lmk_Z_25', 'eye_lmk_Z_26', 'eye_lmk_Z_27', 'eye_lmk_Z_28', 'eye_lmk_Z_29', 'eye_lmk_Z_30', 'eye_lmk_Z_31', 'eye_lmk_Z_32', 'eye_lmk_Z_33', 'eye_lmk_Z_34', 'eye_lmk_Z_35', 'eye_lmk_Z_36', 'eye_lmk_Z_37', 'eye_lmk_Z_38', 'eye_lmk_Z_39', 'eye_lmk_Z_40', 'eye_lmk_Z_41', 'eye_lmk_Z_42', 'eye_lmk_Z_43', 'eye_lmk_Z_44', 'eye_lmk_Z_45', 'eye_lmk_Z_46', 'eye_lmk_Z_47', 'eye_lmk_Z_48', 'eye_lmk_Z_49', 'eye_lmk_Z_50', 'eye_lmk_Z_51', 'eye_lmk_Z_52', 'eye_lmk_Z_53', 'eye_lmk_Z_54', 'eye_lmk_Z_55', 'pose_Tx', 'pose_Ty', 'pose_Tz', 'pose_Rx', 'pose_Ry', 'pose_Rz', 'x_0', 'x_1', 'x_2', 'x_3', 'x_4', 'x_5', 'x_6', 'x_7', 'x_8', 'x_9', 'x_10', 'x_11', 'x_12', 'x_13', 'x_14', 'x_15', 'x_16', 'x_17', 'x_18', 'x_19', 'x_20', 'x_21', 'x_22', 'x_23', 'x_24', 'x_25', 'x_26', 'x_27', 'x_28', 'x_29', 'x_30', 'x_31', 'x_32', 'x_33', 'x_34', 'x_35', 'x_36', 'x_37', 'x_38', 'x_39', 'x_40', 'x_41', 'x_42', 'x_43', 'x_44', 'x_45', 'x_46', 'x_47', 'x_48', 'x_49', 'x_50', 'x_51', 'x_52', 'x_53', 'x_54', 'x_55', 'x_56', 'x_57', 'x_58', 'x_59', 'x_60', 'x_61', 'x_62', 'x_63', 'x_64', 'x_65', 'x_66', 'x_67', 'y_0', 'y_1', 'y_2', 'y_3', 'y_4', 'y_5', 'y_6', 'y_7', 'y_8', 'y_9', 'y_10', 'y_11', 'y_12', 'y_13', 'y_14', 'y_15', 'y_16', 'y_17', 'y_18', 'y_19', 'y_20', 'y_21', 'y_22', 'y_23', 'y_24', 'y_25', 'y_26', 'y_27', 'y_28', 'y_29', 'y_30', 'y_31', 'y_32', 'y_33', 'y_34', 'y_35', 'y_36', 'y_37', 'y_38', 'y_39', 'y_40', 'y_41', 'y_42', 'y_43', 'y_44', 'y_45', 'y_46', 'y_47', 'y_48', 'y_49', 'y_50', 'y_51', 'y_52', 'y_53', 'y_54', 'y_55', 'y_56', 'y_57', 'y_58', 'y_59', 'y_60', 'y_61', 'y_62', 'y_63', 'y_64', 'y_65', 'y_66', 'y_67', 'X_0', 'X_1', 'X_2', 'X_3', 'X_4', 'X_5', 'X_6', 'X_7', 'X_8', 'X_9', 'X_10', 'X_11', 'X_12', 'X_13', 'X_14', 'X_15', 'X_16', 'X_17', 'X_18', 'X_19', 'X_20', 'X_21', 'X_22', 'X_23', 'X_24', 'X_25', 'X_26', 'X_27', 'X_28', 'X_29', 'X_30', 'X_31', 'X_32', 'X_33', 'X_34', 'X_35', 'X_36', 'X_37', 'X_38', 'X_39', 'X_40', 'X_41', 'X_42', 'X_43', 'X_44', 'X_45', 'X_46', 'X_47', 'X_48', 'X_49', 'X_50', 'X_51', 'X_52', 'X_53', 'X_54', 'X_55', 'X_56', 'X_57', 'X_58', 'X_59', 'X_60', 'X_61', 'X_62', 'X_63', 'X_64', 'X_65', 'X_66', 'X_67', 'Y_0', 'Y_1', 'Y_2', 'Y_3', 'Y_4', 'Y_5', 'Y_6', 'Y_7', 'Y_8', 'Y_9', 'Y_10', 'Y_11', 'Y_12', 'Y_13', 'Y_14', 'Y_15', 'Y_16', 'Y_17', 'Y_18', 'Y_19', 'Y_20', 'Y_21', 'Y_22', 'Y_23', 'Y_24', 'Y_25', 'Y_26', 'Y_27', 'Y_28', 'Y_29', 'Y_30', 'Y_31', 'Y_32', 'Y_33', 'Y_34', 'Y_35', 'Y_36', 'Y_37', 'Y_38', 'Y_39', 'Y_40', 'Y_41', 'Y_42', 'Y_43', 'Y_44', 'Y_45', 'Y_46', 'Y_47', 'Y_48', 'Y_49', 'Y_50', 'Y_51', 'Y_52', 'Y_53', 'Y_54', 'Y_55', 'Y_56', 'Y_57', 'Y_58', 'Y_59', 'Y_60', 'Y_61', 'Y_62', 'Y_63', 'Y_64', 'Y_65', 'Y_66', 'Y_67', 'Z_0', 'Z_1', 'Z_2', 'Z_3', 'Z_4', 'Z_5', 'Z_6', 'Z_7', 'Z_8', 'Z_9', 'Z_10', 'Z_11', 'Z_12', 'Z_13', 'Z_14', 'Z_15', 'Z_16', 'Z_17', 'Z_18', 'Z_19', 'Z_20', 'Z_21', 'Z_22', 'Z_23', 'Z_24', 'Z_25', 'Z_26', 'Z_27', 'Z_28', 'Z_29', 'Z_30', 'Z_31', 'Z_32', 'Z_33', 'Z_34', 'Z_35', 'Z_36', 'Z_37', 'Z_38', 'Z_39', 'Z_40', 'Z_41', 'Z_42', 'Z_43', 'Z_44', 'Z_45', 'Z_46', 'Z_47', 'Z_48', 'Z_49', 'Z_50', 'Z_51', 'Z_52', 'Z_53', 'Z_54', 'Z_55', 'Z_56', 'Z_57', 'Z_58', 'Z_59', 'Z_60', 'Z_61', 'Z_62', 'Z_63', 'Z_64', 'Z_65', 'Z_66', 'Z_67', 'p_scale', 'p_rx', 'p_ry', 'p_rz', 'p_tx', 'p_ty', 'p_0', 'p_1', 'p_2', 'p_3', 'p_4', 'p_5', 'p_6', 'p_7', 'p_8', 'p_9', 'p_10', 'p_11', 'p_12', 'p_13', 'p_14', 'p_15', 'p_16', 'p_17', 'p_18', 'p_19', 'p_20', 'p_21', 'p_22', 'p_23', 'p_24', 'p_25', 'p_26', 'p_27', 'p_28', 'p_29', 'p_30', 'p_31', 'p_32', 'p_33', 'AU01_r', 'AU02_r', 'AU04_r', 'AU05_r', 'AU06_r', 'AU07_r', 'AU09_r', 'AU10_r', 'AU12_r', 'AU14_r', 'AU15_r', 'AU17_r', 'AU20_r', 'AU23_r', 'AU25_r', 'AU26_r', 'AU45_r', 'AU01_c', 'AU02_c', 'AU04_c', 'AU05_c', 'AU06_c', 'AU07_c', 'AU09_c', 'AU10_c', 'AU12_c', 'AU14_c', 'AU15_c', 'AU17_c', 'AU20_c', 'AU23_c', 'AU25_c', 'AU26_c', 'AU28_c', 'AU45_c', 'filename', 'emotion', 'videoname', 'Nose_x', 'Nose_y', 'Nose_c', 'Neck_x', 'Neck_y', 'Neck_c', 'RShoulder_x', 'RShoulder_y', 'RShoulder_c', 'RElbow_x', 'RElbow_y', 'RElbow_c', 'RWrist_x', 'RWrist_y', 'RWrist_c', 'LShoulder_x', 'LShoulder_y', 'LShoulder_c', 'LElbow_x', 'LElbow_y', 'LElbow_c', 'LWrist_x', 'LWrist_y', 'LWrist_c', 'MidHip_x', 'MidHip_y', 'MidHip_c', 'RHip_x', 'RHip_y', 'RHip_c', 'RKnee_x', 'RKnee_y', 'RKnee_c', 'RAnkle_x', 'RAnkle_y', 'RAnkle_c', 'LHip_x', 'LHip_y', 'LHip_c', 'LKnee_x', 'LKnee_y', 'LKnee_c', 'LAnkle_x', 'LAnkle_y', 'LAnkle_c', 'REye_x', 'REye_y', 'REye_c', 'LEye_x', 'LEye_y', 'LEye_c', 'REar_x', 'REar_y', 'REar_c', 'LEar_x', 'LEar_y', 'LEar_c', 'LBigToe_x', 'LBigToe_y', 'LBigToe_c', 'LSmallToe_x', 'LSmallToe_y', 'LSmallToe_c', 'LHeel_x', 'LHeel_y', 'LHeel_c', 'RBigToe_x', 'RBigToe_y', 'RBigToe_c', 'RSmallToe_x', 'RSmallToe_y', 'RSmallToe_c', 'RHeel_x', 'RHeel_y', 'RHeel_c', 'face_point0_x', 'face_point0_y', 'face_point0_c', 'face_point1_x', 'face_point1_y', 'face_point1_c', 'face_point2_x', 'face_point2_y', 'face_point2_c', 'face_point3_x', 'face_point3_y', 'face_point3_c', 'face_point4_x', 'face_point4_y', 'face_point4_c', 'face_point5_x', 'face_point5_y', 'face_point5_c', 'face_point6_x', 'face_point6_y', 'face_point6_c', 'face_point7_x', 'face_point7_y', 'face_point7_c', 'face_point8_x', 'face_point8_y', 'face_point8_c', 'face_point9_x', 'face_point9_y', 'face_point9_c', 'face_point10_x', 'face_point10_y', 'face_point10_c', 'face_point11_x', 'face_point11_y', 'face_point11_c', 'face_point12_x', 'face_point12_y', 'face_point12_c', 'face_point13_x', 'face_point13_y', 'face_point13_c', 'face_point14_x', 'face_point14_y', 'face_point14_c', 'face_point15_x', 'face_point15_y', 'face_point15_c', 'face_point16_x', 'face_point16_y', 'face_point16_c', 'face_point17_x', 'face_point17_y', 'face_point17_c', 'face_point18_x', 'face_point18_y', 'face_point18_c', 'face_point19_x', 'face_point19_y', 'face_point19_c', 'face_point20_x', 'face_point20_y', 'face_point20_c', 'face_point21_x', 'face_point21_y', 'face_point21_c', 'face_point22_x', 'face_point22_y', 'face_point22_c', 'face_point23_x', 'face_point23_y', 'face_point23_c', 'face_point24_x', 'face_point24_y', 'face_point24_c', 'face_point25_x', 'face_point25_y', 'face_point25_c', 'face_point26_x', 'face_point26_y', 'face_point26_c', 'face_point27_x', 'face_point27_y', 'face_point27_c', 'face_point28_x', 'face_point28_y', 'face_point28_c', 'face_point29_x', 'face_point29_y', 'face_point29_c', 'face_point30_x', 'face_point30_y', 'face_point30_c', 'face_point31_x', 'face_point31_y', 'face_point31_c', 'face_point32_x', 'face_point32_y', 'face_point32_c', 'face_point33_x', 'face_point33_y', 'face_point33_c', 'face_point34_x', 'face_point34_y', 'face_point34_c', 'face_point35_x', 'face_point35_y', 'face_point35_c', 'face_point36_x', 'face_point36_y', 'face_point36_c', 'face_point37_x', 'face_point37_y', 'face_point37_c', 'face_point38_x', 'face_point38_y', 'face_point38_c', 'face_point39_x', 'face_point39_y', 'face_point39_c', 'face_point40_x', 'face_point40_y', 'face_point40_c', 'face_point41_x', 'face_point41_y', 'face_point41_c', 'face_point42_x', 'face_point42_y', 'face_point42_c', 'face_point43_x', 'face_point43_y', 'face_point43_c', 'face_point44_x', 'face_point44_y', 'face_point44_c', 'face_point45_x', 'face_point45_y', 'face_point45_c', 'face_point46_x', 'face_point46_y', 'face_point46_c', 'face_point47_x', 'face_point47_y', 'face_point47_c', 'face_point48_x', 'face_point48_y', 'face_point48_c', 'face_point49_x', 'face_point49_y', 'face_point49_c', 'face_point50_x', 'face_point50_y', 'face_point50_c', 'face_point51_x', 'face_point51_y', 'face_point51_c', 'face_point52_x', 'face_point52_y', 'face_point52_c', 'face_point53_x', 'face_point53_y', 'face_point53_c', 'face_point54_x', 'face_point54_y', 'face_point54_c', 'face_point55_x', 'face_point55_y', 'face_point55_c', 'face_point56_x', 'face_point56_y', 'face_point56_c', 'face_point57_x', 'face_point57_y', 'face_point57_c', 'face_point58_x', 'face_point58_y', 'face_point58_c', 'face_point59_x', 'face_point59_y', 'face_point59_c', 'face_point60_x', 'face_point60_y', 'face_point60_c', 'face_point61_x', 'face_point61_y', 'face_point61_c', 'face_point62_x', 'face_point62_y', 'face_point62_c', 'face_point63_x', 'face_point63_y', 'face_point63_c', 'face_point64_x', 'face_point64_y', 'face_point64_c', 'face_point65_x', 'face_point65_y', 'face_point65_c', 'face_point66_x', 'face_point66_y', 'face_point66_c', 'face_point67_x', 'face_point67_y', 'face_point67_c', 'face_point68_x', 'face_point68_y', 'face_point68_c', 'face_point69_x', 'face_point69_y', 'face_point69_c', 'hl_point0_x', 'hl_point0_y', 'hl_point0_c', 'hl_point1_x', 'hl_point1_y', 'hl_point1_c', 'hl_point2_x', 'hl_point2_y', 'hl_point2_c', 'hl_point3_x', 'hl_point3_y', 'hl_point3_c', 'hl_point4_x', 'hl_point4_y', 'hl_point4_c', 'hl_point5_x', 'hl_point5_y', 'hl_point5_c', 'hl_point6_x', 'hl_point6_y', 'hl_point6_c', 'hl_point7_x', 'hl_point7_y', 'hl_point7_c', 'hl_point8_x', 'hl_point8_y', 'hl_point8_c', 'hl_point9_x', 'hl_point9_y', 'hl_point9_c', 'hl_point10_x', 'hl_point10_y', 'hl_point10_c', 'hl_point11_x', 'hl_point11_y', 'hl_point11_c', 'hl_point12_x', 'hl_point12_y', 'hl_point12_c', 'hl_point13_x', 'hl_point13_y', 'hl_point13_c', 'hl_point14_x', 'hl_point14_y', 'hl_point14_c', 'hl_point15_x', 'hl_point15_y', 'hl_point15_c', 'hl_point16_x', 'hl_point16_y', 'hl_point16_c', 'hl_point17_x', 'hl_point17_y', 'hl_point17_c', 'hl_point18_x', 'hl_point18_y', 'hl_point18_c', 'hl_point19_x', 'hl_point19_y', 'hl_point19_c', 'hl_point20_x', 'hl_point20_y', 'hl_point20_c', 'hr_point0_x', 'hr_point0_y', 'hr_point0_c', 'hr_point1_x', 'hr_point1_y', 'hr_point1_c', 'hr_point2_x', 'hr_point2_y', 'hr_point2_c', 'hr_point3_x', 'hr_point3_y', 'hr_point3_c', 'hr_point4_x', 'hr_point4_y', 'hr_point4_c', 'hr_point5_x', 'hr_point5_y', 'hr_point5_c', 'hr_point6_x', 'hr_point6_y', 'hr_point6_c', 'hr_point7_x', 'hr_point7_y', 'hr_point7_c', 'hr_point8_x', 'hr_point8_y', 'hr_point8_c', 'hr_point9_x', 'hr_point9_y', 'hr_point9_c', 'hr_point10_x', 'hr_point10_y', 'hr_point10_c', 'hr_point11_x', 'hr_point11_y', 'hr_point11_c', 'hr_point12_x', 'hr_point12_y', 'hr_point12_c', 'hr_point13_x', 'hr_point13_y', 'hr_point13_c', 'hr_point14_x', 'hr_point14_y', 'hr_point14_c', 'hr_point15_x', 'hr_point15_y', 'hr_point15_c', 'hr_point16_x', 'hr_point16_y', 'hr_point16_c', 'hr_point17_x', 'hr_point17_y', 'hr_point17_c', 'hr_point18_x', 'hr_point18_y', 'hr_point18_c', 'hr_point19_x', 'hr_point19_y', 'hr_point19_c', 'hr_point20_x', 'hr_point20_y', 'emotion', 'label']\n",
            "正解率: 93.62418898685743%\n",
            "Empty DataFrame\n",
            "Columns: [Unnamed: 0, Unnamed: 0.1, frame, face_id, timestamp, confidence, success, gaze_0_x, gaze_0_y, gaze_0_z, gaze_1_x, gaze_1_y, gaze_1_z, gaze_angle_x, gaze_angle_y, eye_lmk_x_0, eye_lmk_x_1, eye_lmk_x_2, eye_lmk_x_3, eye_lmk_x_4, eye_lmk_x_5, eye_lmk_x_6, eye_lmk_x_7, eye_lmk_x_8, eye_lmk_x_9, eye_lmk_x_10, eye_lmk_x_11, eye_lmk_x_12, eye_lmk_x_13, eye_lmk_x_14, eye_lmk_x_15, eye_lmk_x_16, eye_lmk_x_17, eye_lmk_x_18, eye_lmk_x_19, eye_lmk_x_20, eye_lmk_x_21, eye_lmk_x_22, eye_lmk_x_23, eye_lmk_x_24, eye_lmk_x_25, eye_lmk_x_26, eye_lmk_x_27, eye_lmk_x_28, eye_lmk_x_29, eye_lmk_x_30, eye_lmk_x_31, eye_lmk_x_32, eye_lmk_x_33, eye_lmk_x_34, eye_lmk_x_35, eye_lmk_x_36, eye_lmk_x_37, eye_lmk_x_38, eye_lmk_x_39, eye_lmk_x_40, eye_lmk_x_41, eye_lmk_x_42, eye_lmk_x_43, eye_lmk_x_44, eye_lmk_x_45, eye_lmk_x_46, eye_lmk_x_47, eye_lmk_x_48, eye_lmk_x_49, eye_lmk_x_50, eye_lmk_x_51, eye_lmk_x_52, eye_lmk_x_53, eye_lmk_x_54, eye_lmk_x_55, eye_lmk_y_0, eye_lmk_y_1, eye_lmk_y_2, eye_lmk_y_3, eye_lmk_y_4, eye_lmk_y_5, eye_lmk_y_6, eye_lmk_y_7, eye_lmk_y_8, eye_lmk_y_9, eye_lmk_y_10, eye_lmk_y_11, eye_lmk_y_12, eye_lmk_y_13, eye_lmk_y_14, eye_lmk_y_15, eye_lmk_y_16, eye_lmk_y_17, eye_lmk_y_18, eye_lmk_y_19, eye_lmk_y_20, eye_lmk_y_21, eye_lmk_y_22, eye_lmk_y_23, eye_lmk_y_24, eye_lmk_y_25, eye_lmk_y_26, eye_lmk_y_27, eye_lmk_y_28, ...]\n",
            "Index: []\n",
            "\n",
            "[0 rows x 1131 columns]\n",
            "Empty DataFrame\n",
            "Columns: [Unnamed: 0, Unnamed: 0.1, frame, face_id, timestamp, confidence, success, gaze_0_x, gaze_0_y, gaze_0_z, gaze_1_x, gaze_1_y, gaze_1_z, gaze_angle_x, gaze_angle_y, eye_lmk_x_0, eye_lmk_x_1, eye_lmk_x_2, eye_lmk_x_3, eye_lmk_x_4, eye_lmk_x_5, eye_lmk_x_6, eye_lmk_x_7, eye_lmk_x_8, eye_lmk_x_9, eye_lmk_x_10, eye_lmk_x_11, eye_lmk_x_12, eye_lmk_x_13, eye_lmk_x_14, eye_lmk_x_15, eye_lmk_x_16, eye_lmk_x_17, eye_lmk_x_18, eye_lmk_x_19, eye_lmk_x_20, eye_lmk_x_21, eye_lmk_x_22, eye_lmk_x_23, eye_lmk_x_24, eye_lmk_x_25, eye_lmk_x_26, eye_lmk_x_27, eye_lmk_x_28, eye_lmk_x_29, eye_lmk_x_30, eye_lmk_x_31, eye_lmk_x_32, eye_lmk_x_33, eye_lmk_x_34, eye_lmk_x_35, eye_lmk_x_36, eye_lmk_x_37, eye_lmk_x_38, eye_lmk_x_39, eye_lmk_x_40, eye_lmk_x_41, eye_lmk_x_42, eye_lmk_x_43, eye_lmk_x_44, eye_lmk_x_45, eye_lmk_x_46, eye_lmk_x_47, eye_lmk_x_48, eye_lmk_x_49, eye_lmk_x_50, eye_lmk_x_51, eye_lmk_x_52, eye_lmk_x_53, eye_lmk_x_54, eye_lmk_x_55, eye_lmk_y_0, eye_lmk_y_1, eye_lmk_y_2, eye_lmk_y_3, eye_lmk_y_4, eye_lmk_y_5, eye_lmk_y_6, eye_lmk_y_7, eye_lmk_y_8, eye_lmk_y_9, eye_lmk_y_10, eye_lmk_y_11, eye_lmk_y_12, eye_lmk_y_13, eye_lmk_y_14, eye_lmk_y_15, eye_lmk_y_16, eye_lmk_y_17, eye_lmk_y_18, eye_lmk_y_19, eye_lmk_y_20, eye_lmk_y_21, eye_lmk_y_22, eye_lmk_y_23, eye_lmk_y_24, eye_lmk_y_25, eye_lmk_y_26, eye_lmk_y_27, eye_lmk_y_28, ...]\n",
            "Index: []\n",
            "\n",
            "[0 rows x 1131 columns]\n"
          ]
        }
      ]
    },
    {
      "cell_type": "code",
      "metadata": {
        "id": "i9EcNsW3ZMIk"
      },
      "source": [
        "#correctdf.to_csv(\"/content/drive/MyDrive/05_workspace/01_msc_project/data/output/15_predict_emotion_from_face_pose/group/model02(3NN_Epoch300)/face_pose_correctdf.csv\")　\n",
        "#faildf.to_csv(\"/content/drive/MyDrive/05_workspace/01_msc_project/data/output/15_predict_emotion_from_face_pose/group/model02(3NN_Epoch300)/face_pose_faildf.csv\")　"
      ],
      "execution_count": null,
      "outputs": []
    },
    {
      "cell_type": "code",
      "metadata": {
        "id": "5Jja7sSasaVy",
        "colab": {
          "base_uri": "https://localhost:8080/",
          "height": 513
        },
        "outputId": "88435262-b8a7-4b21-e1a9-c251303b7fa5"
      },
      "source": [
        "import seaborn as sn\n",
        "classes = (  'ambiguous','negative','neutral','positive')\n",
        "\n",
        "# Build confusion matrix\n",
        "cf_matrix = confusion_matrix(y_true, y_pred)\n",
        "print (cf_matrix)\n",
        "df_cm = pd.DataFrame(cf_matrix/np.sum(cf_matrix) , index = [i for i in classes],\n",
        "                     columns = [i for i in classes])\n",
        "plt.figure(figsize = (12,7))\n",
        "sn.heatmap(df_cm, annot=True)"
      ],
      "execution_count": null,
      "outputs": [
        {
          "output_type": "stream",
          "name": "stdout",
          "text": [
            "[[ 2747    12   364    86]\n",
            " [  109  2349   854   178]\n",
            " [  460   185 56116   888]\n",
            " [  125    49  1289  6321]]\n"
          ]
        },
        {
          "output_type": "execute_result",
          "data": {
            "text/plain": [
              "<matplotlib.axes._subplots.AxesSubplot at 0x7fcba6348490>"
            ]
          },
          "metadata": {},
          "execution_count": 28
        },
        {
          "output_type": "display_data",
          "data": {
            "image/png": "[encoded data removed]",
            "text/plain": [
              "<Figure size 864x504 with 2 Axes>"
            ]
          },
          "metadata": {}
        }
      ]
    },
    {
      "cell_type": "code",
      "metadata": {
        "id": "ExjiC83APGxo"
      },
      "source": [
        "torch.save(model.state_dict(), \"/content/drive/MyDrive/05_workspace/01_msc_project/data/output/15_predict_emotion_from_face_pose/group/model02(3NN_Epoch300)/face_plus_pose_model_300epoch.pth\")"
      ],
      "execution_count": null,
      "outputs": []
    },
    {
      "cell_type": "code",
      "metadata": {
        "id": "-8WNj6F4r8TQ",
        "colab": {
          "base_uri": "https://localhost:8080/"
        },
        "outputId": "bda00788-ed2e-4190-8f51-cf2e1e6e60a2"
      },
      "source": [
        "from sklearn.metrics import classification_report\n",
        "print (classification_report(y_true, y_pred))"
      ],
      "execution_count": null,
      "outputs": [
        {
          "output_type": "stream",
          "name": "stdout",
          "text": [
            "              precision    recall  f1-score   support\n",
            "\n",
            "           0       0.80      0.86      0.83      3209\n",
            "           1       0.91      0.67      0.77      3490\n",
            "           2       0.96      0.97      0.97     57649\n",
            "           3       0.85      0.81      0.83      7784\n",
            "\n",
            "    accuracy                           0.94     72132\n",
            "   macro avg       0.88      0.83      0.85     72132\n",
            "weighted avg       0.94      0.94      0.93     72132\n",
            "\n"
          ]
        }
      ]
    },
    {
      "cell_type": "code",
      "metadata": {
        "id": "DSS8xXXgiU1R"
      },
      "source": [
        ""
      ],
      "execution_count": null,
      "outputs": []
    }
  ]
}