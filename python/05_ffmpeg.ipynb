{
  "nbformat": 4,
  "nbformat_minor": 0,
  "metadata": {
    "colab": {
      "name": "05_ffmpeg.ipynb",
      "provenance": [],
      "collapsed_sections": [],
      "machine_shape": "hm"
    },
    "kernelspec": {
      "display_name": "Python 3",
      "name": "python3"
    },
    "language_info": {
      "name": "python"
    }
  },
  "cells": [
    {
      "cell_type": "markdown",
      "source": [
        "Cut out videos (mp4, avi) according to playing time and differences"
      ],
      "metadata": {
        "id": "fitApyPOfjiC"
      }
    },
    {
      "cell_type": "code",
      "metadata": {
        "colab": {
          "base_uri": "https://localhost:8080/"
        },
        "id": "orE6CH6H0e6L",
        "outputId": "9bf4b86e-145a-4915-ffcd-a89bcc5dd39a"
      },
      "source": [
        "# Mount your Google Drive\n",
        "from google.colab import drive\n",
        "drive.mount('/content/drive')"
      ],
      "execution_count": null,
      "outputs": [
        {
          "output_type": "stream",
          "name": "stdout",
          "text": [
            "Drive already mounted at /content/drive; to attempt to forcibly remount, call drive.mount(\"/content/drive\", force_remount=True).\n"
          ]
        }
      ]
    },
    {
      "cell_type": "code",
      "metadata": {
        "id": "B1HUQee4nQ4w"
      },
      "source": [
        "# Read an Excel file\n",
        "import pandas as pd\n",
        "\n",
        "# This must be changed by the user.\n",
        "# Please change to the target video name, file path and emotion category\n",
        "video_no = 'video02'\n",
        "video_title = 'video02_How_to_speak_so_that_people_want_to_listen_Julian_Treasure.mp4'\n",
        "emotion_category = 'group'\n",
        "\"\"\"\n",
        "video01: video01_Why_I_Dont_Use_A_Smart_Phone_Ann_Makosinski_TEDxTeen.mp4\n",
        "video02: video02_How_to_speak_so_that_people_want_to_listen_Julian_Treasure.mp4\n",
        "video03: video03_How_to_spot_a_liar_Pamela_Meyer.mp4\n",
        "video04: video04_Robert_Waldinger_What_makes_a_good_life_Lessons_from_the_longest_study_on_happiness_TED.mp4\n",
        "video05: video05_How_to_make_stress_your_friend_Kelly_McGonigal.mp4\n",
        "video06: video06_English_Conversation_01.mp4\n",
        "video07: video07_How_to_Be_Happy_Every_Day_It_Will_Change_the_World_Jacqueline_Way_TEDxStanleyPark.mp4\n",
        "video08: video08_How_to_Talk_Like_a_Native_Speaker_Marc_Green_TEDxHeidelberg.mp4\n",
        "video09: video09_Why_we_get_mad_and_why_its_healthy_Ryan_Martin.mp4\n",
        "video10: video10_Why_you_should_define_your_fears_instead_of_your_goals_Tim_Ferriss.mp4\n",
        "video11: video11_Ellen_DeGeneres_86th_Oscars_Opening.mp4\n",
        "video12: video12_Mathematics_is_the_sense_you_never_knew_you_had_Eddie_Woo_TEDxSydney.mp4\n",
        "video13: video13_How_to_Get_Your_Brain_to_Focus_Chris_Bailey_TEDxManchester.mp4\n",
        "video14: video14_How_I_Overcame_My_Fear_of_Public_Speaking_Danish_Dhamani_TEDxKids@SMU.mp4\n",
        "\"\"\"\n",
        "##########################################\n",
        "\n",
        "import_excel_file_location = '/content/drive/MyDrive/05_workspace/01_msc_project/data/output/04_emotion_extraction_from_subtitles/' + emotion_category + '/04_emotion_extraction_' + video_no +'.xlsx'\n",
        "#print(import_excel_file_location)\n",
        "input_book = pd.ExcelFile(import_excel_file_location)\n"
      ],
      "execution_count": null,
      "outputs": []
    },
    {
      "cell_type": "code",
      "metadata": {
        "colab": {
          "base_uri": "https://localhost:8080/"
        },
        "id": "am1Tc8jwn6Cb",
        "outputId": "86721b93-4dde-45f1-f96b-cee84ad248f8"
      },
      "source": [
        "# Get sheet name\n",
        "input_sheet_name = input_book.sheet_names\n",
        "# Get the number of sheets\n",
        "num_sheet = len(input_sheet_name)\n",
        "\n",
        "print (\"The number of sheet:\", num_sheet)\n",
        "print (input_sheet_name)"
      ],
      "execution_count": null,
      "outputs": [
        {
          "output_type": "stream",
          "name": "stdout",
          "text": [
            "The number of sheet: 1\n",
            "['Sheet1']\n"
          ]
        }
      ]
    },
    {
      "cell_type": "code",
      "metadata": {
        "id": "nGN3vOj0n0y2"
      },
      "source": [
        "# Read the sheet as a DataFrame\n",
        "input_sheet_df = input_book.parse(input_sheet_name[0])"
      ],
      "execution_count": null,
      "outputs": []
    },
    {
      "cell_type": "code",
      "metadata": {
        "id": "LbrK6nKtoAHw"
      },
      "source": [
        "input_sheet_df.head(10)\n",
        "emotion_df = input_sheet_df.copy()"
      ],
      "execution_count": null,
      "outputs": []
    },
    {
      "cell_type": "code",
      "metadata": {
        "colab": {
          "base_uri": "https://localhost:8080/"
        },
        "id": "ywJDFp0Rqb0M",
        "outputId": "39cae41b-973c-4adf-eff7-d3c924f614b0"
      },
      "source": [
        "# Check the emotional categories\n",
        "emotion_list = input_sheet_df['emotion'].unique()\n",
        "print(emotion_list)    "
      ],
      "execution_count": null,
      "outputs": [
        {
          "output_type": "stream",
          "name": "stdout",
          "text": [
            "['neutral' 'positive' 'ambiguous' 'negative']\n"
          ]
        }
      ]
    },
    {
      "cell_type": "code",
      "metadata": {
        "colab": {
          "base_uri": "https://localhost:8080/"
        },
        "id": "IZoiJ0205wOR",
        "outputId": "bef35d9c-7082-4ecc-c80e-e5268773e8db"
      },
      "source": [
        "f = 0\n",
        "for emo in emotion_list:\n",
        "    \n",
        "    if f == 0 :\n",
        "        dir_location = '/content/drive/MyDrive/05_workspace/01_msc_project/data/output/05_cutting_out_videos/' + emotion_category + '/' + video_no\n",
        "        !mkdir $dir_location\n",
        "        f += 1\n",
        "      \n",
        "    dir_location = '/content/drive/MyDrive/05_workspace/01_msc_project/data/output/05_cutting_out_videos/' + emotion_category + '/' + video_no + '/' + emo\n",
        "    #!echo $dir_location\n",
        "    !mkdir $dir_location\n",
        "\n",
        "dir_location = '/content/drive/MyDrive/05_workspace/01_msc_project/data/output/05_cutting_out_videos/' + emotion_category + '/' + video_no\n",
        "!ls $dir_location"
      ],
      "execution_count": null,
      "outputs": [
        {
          "output_type": "stream",
          "name": "stdout",
          "text": [
            "ambiguous  negative  neutral  positive\n"
          ]
        }
      ]
    },
    {
      "cell_type": "code",
      "metadata": {
        "colab": {
          "base_uri": "https://localhost:8080/"
        },
        "id": "DLSNDzzlekps",
        "outputId": "62240491-e830-40f6-8fa6-be2f1e32be97"
      },
      "source": [
        "!pip install ffmpeg-python"
      ],
      "execution_count": null,
      "outputs": [
        {
          "output_type": "stream",
          "name": "stdout",
          "text": [
            "Collecting ffmpeg-python\n",
            "  Downloading ffmpeg_python-0.2.0-py3-none-any.whl (25 kB)\n",
            "Requirement already satisfied: future in /usr/local/lib/python3.7/dist-packages (from ffmpeg-python) (0.16.0)\n",
            "Installing collected packages: ffmpeg-python\n",
            "Successfully installed ffmpeg-python-0.2.0\n"
          ]
        }
      ]
    },
    {
      "cell_type": "code",
      "metadata": {
        "id": "S6MFS7MZwNFC"
      },
      "source": [
        "import ffmpeg"
      ],
      "execution_count": null,
      "outputs": []
    },
    {
      "cell_type": "code",
      "metadata": {
        "colab": {
          "base_uri": "https://localhost:8080/"
        },
        "id": "y5BKMcAEz1Gj",
        "outputId": "789f412b-bd6d-434e-ec59-dc73fbc86350"
      },
      "source": [
        "path = '/content/drive/MyDrive/05_workspace/01_msc_project/data/input/video/' + video_title\n",
        "print(path)\n",
        "video_info = ffmpeg.probe(path)\n",
        "video_info\n",
        "video_location = path"
      ],
      "execution_count": null,
      "outputs": [
        {
          "output_type": "stream",
          "name": "stdout",
          "text": [
            "/content/drive/MyDrive/05_workspace/01_msc_project/data/input/video/video02_How_to_speak_so_that_people_want_to_listen_Julian_Treasure.mp4\n"
          ]
        }
      ]
    },
    {
      "cell_type": "code",
      "metadata": {
        "colab": {
          "base_uri": "https://localhost:8080/"
        },
        "id": "Ua6GOPFYxiL4",
        "outputId": "14aa73ad-2425-4b60-c2fe-e9d4c0297f99"
      },
      "source": [
        "len_emotion_df = len(emotion_df)\n",
        "print(len_emotion_df)"
      ],
      "execution_count": null,
      "outputs": [
        {
          "output_type": "stream",
          "name": "stdout",
          "text": [
            "227\n"
          ]
        }
      ]
    },
    {
      "cell_type": "code",
      "metadata": {
        "colab": {
          "base_uri": "https://localhost:8080/",
          "height": 974
        },
        "id": "j1E2kucyx8fI",
        "outputId": "7385c67e-f828-41a6-eb67-74bc31f37a50"
      },
      "source": [
        "emotion_df.head(10)"
      ],
      "execution_count": null,
      "outputs": [
        {
          "output_type": "execute_result",
          "data": {
            "text/html": [
              "<div>\n",
              "<style scoped>\n",
              "    .dataframe tbody tr th:only-of-type {\n",
              "        vertical-align: middle;\n",
              "    }\n",
              "\n",
              "    .dataframe tbody tr th {\n",
              "        vertical-align: top;\n",
              "    }\n",
              "\n",
              "    .dataframe thead th {\n",
              "        text-align: right;\n",
              "    }\n",
              "</style>\n",
              "<table border=\"1\" class=\"dataframe\">\n",
              "  <thead>\n",
              "    <tr style=\"text-align: right;\">\n",
              "      <th></th>\n",
              "      <th>Unnamed: 0</th>\n",
              "      <th>Unnamed: 0.1</th>\n",
              "      <th>Unnamed: 0.1.1</th>\n",
              "      <th>start</th>\n",
              "      <th>script</th>\n",
              "      <th>end</th>\n",
              "      <th>start_s</th>\n",
              "      <th>end_s</th>\n",
              "      <th>diff_s</th>\n",
              "      <th>emotion</th>\n",
              "      <th>score</th>\n",
              "    </tr>\n",
              "  </thead>\n",
              "  <tbody>\n",
              "    <tr>\n",
              "      <th>0</th>\n",
              "      <td>0</td>\n",
              "      <td>0</td>\n",
              "      <td>0</td>\n",
              "      <td>00:13:00</td>\n",
              "      <td>The human voice:</td>\n",
              "      <td>00:16:00</td>\n",
              "      <td>13</td>\n",
              "      <td>16</td>\n",
              "      <td>3</td>\n",
              "      <td>neutral</td>\n",
              "      <td>0.998125</td>\n",
              "    </tr>\n",
              "    <tr>\n",
              "      <th>1</th>\n",
              "      <td>1</td>\n",
              "      <td>1</td>\n",
              "      <td>1</td>\n",
              "      <td>00:16:00</td>\n",
              "      <td>It's the instrument we all play.</td>\n",
              "      <td>00:18:00</td>\n",
              "      <td>16</td>\n",
              "      <td>18</td>\n",
              "      <td>2</td>\n",
              "      <td>neutral</td>\n",
              "      <td>0.997288</td>\n",
              "    </tr>\n",
              "    <tr>\n",
              "      <th>2</th>\n",
              "      <td>2</td>\n",
              "      <td>2</td>\n",
              "      <td>2</td>\n",
              "      <td>00:18:00</td>\n",
              "      <td>It's the most powerful sound in the world, pro...</td>\n",
              "      <td>00:21:00</td>\n",
              "      <td>18</td>\n",
              "      <td>21</td>\n",
              "      <td>3</td>\n",
              "      <td>positive</td>\n",
              "      <td>0.999647</td>\n",
              "    </tr>\n",
              "    <tr>\n",
              "      <th>3</th>\n",
              "      <td>3</td>\n",
              "      <td>3</td>\n",
              "      <td>3</td>\n",
              "      <td>00:21:00</td>\n",
              "      <td>It's the only one that can start a war or say ...</td>\n",
              "      <td>00:23:00</td>\n",
              "      <td>21</td>\n",
              "      <td>23</td>\n",
              "      <td>2</td>\n",
              "      <td>positive</td>\n",
              "      <td>0.999327</td>\n",
              "    </tr>\n",
              "    <tr>\n",
              "      <th>4</th>\n",
              "      <td>4</td>\n",
              "      <td>4</td>\n",
              "      <td>4</td>\n",
              "      <td>00:23:00</td>\n",
              "      <td>And yet many people have the experience</td>\n",
              "      <td>00:25:00</td>\n",
              "      <td>23</td>\n",
              "      <td>25</td>\n",
              "      <td>2</td>\n",
              "      <td>neutral</td>\n",
              "      <td>0.998569</td>\n",
              "    </tr>\n",
              "    <tr>\n",
              "      <th>5</th>\n",
              "      <td>5</td>\n",
              "      <td>5</td>\n",
              "      <td>5</td>\n",
              "      <td>00:25:00</td>\n",
              "      <td>that when they speak, people don't listen to t...</td>\n",
              "      <td>00:28:00</td>\n",
              "      <td>25</td>\n",
              "      <td>28</td>\n",
              "      <td>3</td>\n",
              "      <td>neutral</td>\n",
              "      <td>0.999534</td>\n",
              "    </tr>\n",
              "    <tr>\n",
              "      <th>6</th>\n",
              "      <td>6</td>\n",
              "      <td>6</td>\n",
              "      <td>6</td>\n",
              "      <td>00:28:00</td>\n",
              "      <td>And why is that?</td>\n",
              "      <td>00:29:00</td>\n",
              "      <td>28</td>\n",
              "      <td>29</td>\n",
              "      <td>1</td>\n",
              "      <td>ambiguous</td>\n",
              "      <td>0.973617</td>\n",
              "    </tr>\n",
              "    <tr>\n",
              "      <th>7</th>\n",
              "      <td>7</td>\n",
              "      <td>7</td>\n",
              "      <td>7</td>\n",
              "      <td>00:29:00</td>\n",
              "      <td>How can we speak powerfully to make change in ...</td>\n",
              "      <td>00:33:00</td>\n",
              "      <td>29</td>\n",
              "      <td>33</td>\n",
              "      <td>4</td>\n",
              "      <td>ambiguous</td>\n",
              "      <td>0.999011</td>\n",
              "    </tr>\n",
              "    <tr>\n",
              "      <th>8</th>\n",
              "      <td>8</td>\n",
              "      <td>8</td>\n",
              "      <td>8</td>\n",
              "      <td>00:33:00</td>\n",
              "      <td>What I'd like to suggest,</td>\n",
              "      <td>00:34:00</td>\n",
              "      <td>33</td>\n",
              "      <td>34</td>\n",
              "      <td>1</td>\n",
              "      <td>positive</td>\n",
              "      <td>0.998498</td>\n",
              "    </tr>\n",
              "    <tr>\n",
              "      <th>9</th>\n",
              "      <td>9</td>\n",
              "      <td>9</td>\n",
              "      <td>9</td>\n",
              "      <td>00:34:00</td>\n",
              "      <td>there are a number of habits that we need to m...</td>\n",
              "      <td>00:37:00</td>\n",
              "      <td>34</td>\n",
              "      <td>37</td>\n",
              "      <td>3</td>\n",
              "      <td>neutral</td>\n",
              "      <td>0.998467</td>\n",
              "    </tr>\n",
              "  </tbody>\n",
              "</table>\n",
              "</div>"
            ],
            "text/plain": [
              "   Unnamed: 0  Unnamed: 0.1  Unnamed: 0.1.1  ... diff_s    emotion     score\n",
              "0           0             0               0  ...      3    neutral  0.998125\n",
              "1           1             1               1  ...      2    neutral  0.997288\n",
              "2           2             2               2  ...      3   positive  0.999647\n",
              "3           3             3               3  ...      2   positive  0.999327\n",
              "4           4             4               4  ...      2    neutral  0.998569\n",
              "5           5             5               5  ...      3    neutral  0.999534\n",
              "6           6             6               6  ...      1  ambiguous  0.973617\n",
              "7           7             7               7  ...      4  ambiguous  0.999011\n",
              "8           8             8               8  ...      1   positive  0.998498\n",
              "9           9             9               9  ...      3    neutral  0.998467\n",
              "\n",
              "[10 rows x 11 columns]"
            ]
          },
          "metadata": {},
          "execution_count": 13
        }
      ]
    },
    {
      "cell_type": "code",
      "metadata": {
        "colab": {
          "base_uri": "https://localhost:8080/"
        },
        "id": "Axo3BKAeF4NE",
        "outputId": "dc03438a-6557-4cd2-9e52-1f930abcea07"
      },
      "source": [
        "print(video_location)"
      ],
      "execution_count": null,
      "outputs": [
        {
          "output_type": "stream",
          "name": "stdout",
          "text": [
            "/content/drive/MyDrive/05_workspace/01_msc_project/data/input/video/video02_How_to_speak_so_that_people_want_to_listen_Julian_Treasure.mp4\n"
          ]
        }
      ]
    },
    {
      "cell_type": "code",
      "metadata": {
        "id": "8w7cyxqHwnc-"
      },
      "source": [
        "for i in range(len_emotion_df): #len_emotion_df\n",
        "  \n",
        "    current_emo = emotion_df['emotion'][i]\n",
        "    video_name = 'output_video' + str(i) + '.mp4'\n",
        "    \n",
        "    directory_location = '/content/drive/MyDrive/05_workspace/01_msc_project/data/output/05_cutting_out_videos/' + emotion_category + '/' + video_no + '/'+ current_emo + '/' + video_name\n",
        "    #print(directory_location)\n",
        "\n",
        "    start_time = emotion_df['start_s'][i]\n",
        "    time = emotion_df['diff_s'][i]\n",
        "\n",
        "    #print(start_time)\n",
        "    #print(time)\n",
        "\n",
        "    stream = ffmpeg.input(video_location, ss=start_time, t=time)\n",
        "    \n",
        "    audio_stream = stream.audio\n",
        "    stream = ffmpeg.output(stream, audio_stream, directory_location)\n",
        "    ffmpeg.run(stream)\n"
      ],
      "execution_count": null,
      "outputs": []
    },
    {
      "cell_type": "code",
      "metadata": {
        "id": "KDh4Ks_qWgxu"
      },
      "source": [
        "for i in range(len_emotion_df): #len_emotion_df\n",
        "  \n",
        "    current_emo = emotion_df['emotion'][i]\n",
        "    video_name = 'output_video' + str(i) + '.avi'\n",
        "    \n",
        "    directory_location = '/content/drive/MyDrive/05_workspace/01_msc_project/data/output/05_cutting_out_videos/' + emotion_category + '/' + video_no + '/'+ current_emo + '/' + video_name\n",
        "    #print(directory_location)\n",
        "    \n",
        "    start_time = emotion_df['start_s'][i]\n",
        "    time = emotion_df['diff_s'][i]\n",
        "\n",
        "    #print(start_time)\n",
        "    #print(time)\n",
        "\n",
        "    stream = ffmpeg.input(path, ss=start_time, t=time)\n",
        "\n",
        "    audio_stream = stream.audio\n",
        "    stream = ffmpeg.output(stream, audio_stream, directory_location)\n",
        "    ffmpeg.run(stream)\n"
      ],
      "execution_count": null,
      "outputs": []
    }
  ]
}