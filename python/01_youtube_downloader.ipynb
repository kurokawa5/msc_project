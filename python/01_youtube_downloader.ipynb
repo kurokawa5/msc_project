{
  "nbformat": 4,
  "nbformat_minor": 0,
  "metadata": {
    "colab": {
      "name": "01_youtube_downloader.ipynb",
      "provenance": [],
      "collapsed_sections": []
    },
    "kernelspec": {
      "name": "python3",
      "display_name": "Python 3"
    },
    "language_info": {
      "name": "python"
    }
  },
  "cells": [
    {
      "cell_type": "markdown",
      "source": [
        "Get YouTube videos using URL"
      ],
      "metadata": {
        "id": "1291gap_Yv5t"
      }
    },
    {
      "cell_type": "markdown",
      "source": [
        "Reference: [43] Towards Data Science - Build a YouTube Downloader with Python\n",
        "\n",
        "https://towardsdatascience.com/build-a-youtube-downloader-with-python-8ef2e6915d97"
      ],
      "metadata": {
        "id": "kwJvvfq9gRvS"
      }
    },
    {
      "cell_type": "code",
      "metadata": {
        "colab": {
          "base_uri": "https://localhost:8080/"
        },
        "id": "_yBxoC6EWbVY",
        "outputId": "c93768a9-b3fb-4df5-9ca7-7020d6110a2c"
      },
      "source": [
        "!pip install pytube"
      ],
      "execution_count": null,
      "outputs": [
        {
          "output_type": "stream",
          "name": "stdout",
          "text": [
            "Collecting pytube\n",
            "  Downloading pytube-11.0.1-py3-none-any.whl (56 kB)\n",
            "\u001b[?25l\r\u001b[K     |█████▉                          | 10 kB 12.3 MB/s eta 0:00:01\r\u001b[K     |███████████▋                    | 20 kB 17.1 MB/s eta 0:00:01\r\u001b[K     |█████████████████▌              | 30 kB 13.0 MB/s eta 0:00:01\r\u001b[K     |███████████████████████▎        | 40 kB 9.7 MB/s eta 0:00:01\r\u001b[K     |█████████████████████████████▏  | 51 kB 6.0 MB/s eta 0:00:01\r\u001b[K     |████████████████████████████████| 56 kB 1.8 MB/s \n",
            "\u001b[?25hInstalling collected packages: pytube\n",
            "Successfully installed pytube-11.0.1\n"
          ]
        }
      ]
    },
    {
      "cell_type": "code",
      "metadata": {
        "colab": {
          "base_uri": "https://localhost:8080/"
        },
        "id": "e7Kkb5DCWTfV",
        "outputId": "f652312b-a2eb-42c9-f5f9-309294d86fb1"
      },
      "source": [
        "# Enter the URL of the Youtube video you want to download.\n",
        "# When the download is complete, please download it to your local from the Temporary folder in your Google Drive.\n",
        "\n",
        "from pytube import YouTube\n",
        "\n",
        "#ask for the link from user\n",
        "link = input(\"Enter the link of YouTube video you want to download:  \")\n",
        "yt = YouTube(link)\n",
        "\n",
        "#Showing details\n",
        "print(\"Title: \",yt.title)\n",
        "print(\"Number of views: \",yt.views)\n",
        "print(\"Length of video: \",yt.length)\n",
        "print(\"Rating of video: \",yt.rating)\n",
        "\n",
        "#Getting the highest resolution possible\n",
        "ys = yt.streams.get_highest_resolution()\n",
        "\n",
        "#Starting download\n",
        "print(\"Downloading...\")\n",
        "ys.download()\n",
        "print(\"Download completed!!\")"
      ],
      "execution_count": null,
      "outputs": [
        {
          "output_type": "stream",
          "name": "stdout",
          "text": [
            "Enter the link of YouTube video you want to download:  https://www.youtube.com/watch?v=80UVjkcxGmA\n",
            "Title:  How I Overcame My Fear of Public Speaking | Danish Dhamani | TEDxKids@SMU\n",
            "Number of views:  2947939\n",
            "Length of video:  516\n",
            "Rating of video:  4.9205523\n",
            "Downloading...\n",
            "Download completed!!\n"
          ]
        }
      ]
    },
    {
      "cell_type": "code",
      "metadata": {
        "id": "BOk_y_duWUTm"
      },
      "source": [
        ""
      ],
      "execution_count": null,
      "outputs": []
    }
  ]
}