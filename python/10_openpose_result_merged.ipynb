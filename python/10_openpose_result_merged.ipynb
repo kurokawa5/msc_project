{
  "nbformat": 4,
  "nbformat_minor": 0,
  "metadata": {
    "colab": {
      "name": "10_openpose_result_merged.ipynb",
      "provenance": [],
      "collapsed_sections": []
    },
    "kernelspec": {
      "name": "python3",
      "display_name": "Python 3"
    },
    "language_info": {
      "name": "python"
    }
  },
  "cells": [
    {
      "cell_type": "code",
      "metadata": {
        "colab": {
          "base_uri": "https://localhost:8080/"
        },
        "id": "IB6sPvpgbTHL",
        "outputId": "2e49389f-5b04-4b4f-a217-c0eac5cd0d4a"
      },
      "source": [
        "# Mount your Google Drive\n",
        "from google.colab import drive\n",
        "drive.mount('/content/drive')"
      ],
      "execution_count": null,
      "outputs": [
        {
          "output_type": "stream",
          "name": "stdout",
          "text": [
            "Mounted at /content/drive\n"
          ]
        }
      ]
    },
    {
      "cell_type": "code",
      "metadata": {
        "id": "mXC_-3zxbXrx"
      },
      "source": [
        "import os\n",
        "import pandas as pd\n",
        "import glob\n",
        "import re\n",
        "\n",
        "\n",
        "videoname = 'video01'\n",
        "#videoname = 'video02'\n",
        "#videoname = 'video03'\n",
        "#videoname = 'video04'\n",
        "#videoname = 'video05'\n",
        "#videoname = 'video06'\n",
        "#videoname = 'video07'\n",
        "#videoname = 'video08'\n",
        "#videoname = 'video09'\n",
        "#videoname = 'video10'\n",
        "#videoname = 'video11'\n",
        "#videoname = 'video12'\n",
        "#videoname = 'video13'\n",
        "#videoname = 'video14'\n",
        "\n",
        "\n",
        "\n",
        "path = \"/content/drive/MyDrive/midori/output/09_openpose/ekman/\"+videoname\n",
        "output_path = '/content/drive/MyDrive/05_workspace/01_msc_project/data/output/10_openpose_result_merged/ekman/'+videoname"
      ],
      "execution_count": null,
      "outputs": []
    },
    {
      "cell_type": "code",
      "metadata": {
        "id": "6S34LHivbiAQ"
      },
      "source": [
        "!mkdir -p '/content/drive/MyDrive/05_workspace/01_msc_project/data/output/10_openpose_result_merged/ekman/'$videoname"
      ],
      "execution_count": null,
      "outputs": []
    },
    {
      "cell_type": "code",
      "metadata": {
        "colab": {
          "base_uri": "https://localhost:8080/"
        },
        "id": "d2uT8G7YbkWn",
        "outputId": "39840c1e-a638-482c-840d-6c01031108a2"
      },
      "source": [
        "files = os.listdir(path)\n",
        "files_dir = [f for f in files if os.path.isdir(os.path.join(path, f))]\n",
        "print(files_dir)    # ['dir1', 'dir2']"
      ],
      "execution_count": null,
      "outputs": [
        {
          "output_type": "stream",
          "name": "stdout",
          "text": [
            "['*', 'fear', 'joy', 'neutral', 'sadness', 'surprise']\n"
          ]
        }
      ]
    },
    {
      "cell_type": "code",
      "metadata": {
        "id": "kxCduuDVbmxn"
      },
      "source": [
        "all_emotion_data_list = []"
      ],
      "execution_count": null,
      "outputs": []
    },
    {
      "cell_type": "code",
      "metadata": {
        "id": "Onl0damcbq02"
      },
      "source": [
        "for emotion in files_dir:\n",
        "    current_emo = emotion\n",
        "    current_path = path + \"/\" + current_emo\n",
        "    #print(current_path)\n",
        "    \n",
        "    files = []\n",
        "    for filename in os.listdir(current_path):\n",
        "        if os.path.isfile(os.path.join(current_path, filename)): #ファイルのみ取得\n",
        "            files.append(filename)\n",
        "    #print(files)\n",
        "\n",
        "    csvfiles = []\n",
        "    regex = re.compile(r'(.csv)$')\n",
        "    for name in files:\n",
        "        if regex.search(name):\n",
        "            csvfiles.append(name)\n",
        "    #print(csvfiles)\n",
        "    \n",
        "    data_list = []\n",
        "    counter = 0\n",
        "\n",
        "    for file in csvfiles:\n",
        "        print('current file is', file)\n",
        "        csv_location = current_path + '/' + file\n",
        "        print('csv location is', csv_location)\n",
        "        csv_df = pd.read_csv(csv_location)\n",
        "        csv_df['filename'] = csvfiles[counter]\n",
        "        csv_df['emotion'] = current_emo\n",
        "        csv_df['videoname'] = videoname\n",
        "        counter = counter + 1\n",
        "        data_list.append(csv_df)\n",
        "        all_emotion_data_list.append(csv_df)\n",
        "\n",
        "    #all_emotion_data_list.append(data_list)\n",
        "    try:\n",
        "      csv_merged = pd.concat(data_list, axis = 0)\n",
        "    except:\n",
        "      continue\n",
        "    csv_location = output_path + '/' + current_emo + '_merged.csv'\n",
        "    csv_merged.to_csv(csv_location, index=False)\n",
        "    \n"
      ],
      "execution_count": null,
      "outputs": []
    },
    {
      "cell_type": "code",
      "metadata": {
        "id": "8i7ZcuaTbuMs"
      },
      "source": [
        "files = []\n",
        "csvfiles = []\n",
        "data_list = []"
      ],
      "execution_count": null,
      "outputs": []
    },
    {
      "cell_type": "code",
      "metadata": {
        "colab": {
          "base_uri": "https://localhost:8080/"
        },
        "id": "95YU3ovjbwub",
        "outputId": "78587c66-d784-4c51-c400-36aa3b76f551"
      },
      "source": [
        "for filename in os.listdir(output_path):\n",
        "    if os.path.isfile(os.path.join(output_path, filename)): #ファイルのみ取得\n",
        "        files.append(filename)\n",
        "print(files)"
      ],
      "execution_count": null,
      "outputs": [
        {
          "output_type": "stream",
          "name": "stdout",
          "text": [
            "['anger_merged.csv', 'fear_merged.csv', 'joy_merged.csv', 'neutral_merged.csv', 'sadness_merged.csv', 'surprise_merged.csv']\n"
          ]
        }
      ]
    },
    {
      "cell_type": "code",
      "metadata": {
        "colab": {
          "base_uri": "https://localhost:8080/"
        },
        "id": "cqD2a0hfbzc9",
        "outputId": "00a930dd-7eff-4fc8-866b-279363eb25ff"
      },
      "source": [
        "regex = re.compile(r'(.csv)$')\n",
        "for name in files:\n",
        "    if regex.search(name):\n",
        "        csvfiles.append(name)\n",
        "print(csvfiles)"
      ],
      "execution_count": null,
      "outputs": [
        {
          "output_type": "stream",
          "name": "stdout",
          "text": [
            "['anger_merged.csv', 'fear_merged.csv', 'joy_merged.csv', 'neutral_merged.csv', 'sadness_merged.csv', 'surprise_merged.csv']\n"
          ]
        }
      ]
    },
    {
      "cell_type": "code",
      "metadata": {
        "id": "aC464bT3b1x4"
      },
      "source": [
        "for file in csvfiles:\n",
        "   print(file)\n",
        "   csv_location = output_path + '/' + file\n",
        "   print(csv_location)\n",
        "   data_list.append(pd.read_csv(csv_location))"
      ],
      "execution_count": null,
      "outputs": []
    },
    {
      "cell_type": "code",
      "metadata": {
        "id": "1rGYcEP1b4rl"
      },
      "source": [
        "all_emotion_csv_merged = pd.concat(data_list, axis = 0)\n",
        "csv_location = output_path + '/openpose_result_merged.csv'\n",
        "all_emotion_csv_merged.to_csv(csv_location, index=False)"
      ],
      "execution_count": null,
      "outputs": []
    },
    {
      "cell_type": "code",
      "metadata": {
        "id": "eaFoLa8izgLP"
      },
      "source": [
        ""
      ],
      "execution_count": null,
      "outputs": []
    },
    {
      "cell_type": "code",
      "metadata": {
        "id": "Qzc8AM8mb6bu"
      },
      "source": [
        "# If you would like to merge all csv files, please do the following."
      ],
      "execution_count": null,
      "outputs": []
    },
    {
      "cell_type": "code",
      "metadata": {
        "id": "Dw3-97Xbb8E0"
      },
      "source": [
        "\n",
        "path = \"/content/drive/MyDrive/05_workspace/01_msc_project/data/output/10_openpose_result_merged/ekman\"\n",
        "output_path = '/content/drive/MyDrive/05_workspace/01_msc_project/data/output/10_openpose_result_merged/ekman'\n",
        "\n",
        "files = os.listdir(path)\n",
        "files_dir = [f for f in files if os.path.isdir(os.path.join(path, f))]\n",
        "print(files_dir)    # ['dir1', 'dir2']\n",
        "\n",
        "all_files = []\n",
        "csvfiles = []\n",
        "data_list = []\n",
        "\n",
        "for dir in files_dir:\n",
        "    #print(dir)\n",
        "    current_path = path + '/' + dir + '/'\n",
        "    print(current_path)\n",
        "\n",
        "    files = []\n",
        "    for filename in os.listdir(current_path):\n",
        "        if os.path.isfile(os.path.join(current_path, filename)): \n",
        "            files.append(filename)\n",
        "    print(files)\n",
        "\n",
        "    for f in files:\n",
        "        if f == 'openpose_result_merged.csv':\n",
        "            print(dir, f)\n",
        "            csv_location = current_path + f\n",
        "            print(csv_location)\n",
        "            data_list.append(pd.read_csv(csv_location))\n",
        "\n",
        "all_videos_emotion_csv_merged = pd.concat(data_list, axis = 0)\n",
        "output_location = output_path + '/openpose_all_results_merged.csv'\n",
        "all_videos_emotion_csv_merged.to_csv(output_location, index=False)\n",
        "\n",
        "\"\"\"\n",
        "\"\"\""
      ],
      "execution_count": null,
      "outputs": []
    },
    {
      "cell_type": "code",
      "metadata": {
        "id": "boQeUaK8v0iz"
      },
      "source": [
        ""
      ],
      "execution_count": null,
      "outputs": []
    }
  ]
}